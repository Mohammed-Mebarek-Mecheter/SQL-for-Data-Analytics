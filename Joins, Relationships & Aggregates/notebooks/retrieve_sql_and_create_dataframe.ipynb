{
 "cells": [
  {
   "cell_type": "code",
   "execution_count": 1,
   "metadata": {
    "collapsed": true,
    "ExecuteTime": {
     "end_time": "2023-09-04T22:06:00.242166200Z",
     "start_time": "2023-09-04T22:06:00.025097600Z"
    }
   },
   "outputs": [],
   "source": [
    "import sqlite3"
   ]
  },
  {
   "cell_type": "code",
   "execution_count": 2,
   "metadata": {
    "collapsed": true,
    "ExecuteTime": {
     "end_time": "2023-09-04T22:06:00.295135200Z",
     "start_time": "2023-09-04T22:06:00.049146200Z"
    }
   },
   "outputs": [],
   "source": [
    "conn = sqlite3.connect('../data/source/customer_sales.db')"
   ]
  },
  {
   "cell_type": "code",
   "execution_count": 3,
   "metadata": {
    "collapsed": true,
    "ExecuteTime": {
     "end_time": "2023-09-04T22:06:01.890732100Z",
     "start_time": "2023-09-04T22:06:00.112240400Z"
    }
   },
   "outputs": [],
   "source": [
    "import pandas as pd"
   ]
  },
  {
   "cell_type": "code",
   "execution_count": 4,
   "metadata": {
    "collapsed": false,
    "ExecuteTime": {
     "end_time": "2023-09-04T22:06:01.960353500Z",
     "start_time": "2023-09-04T22:06:01.891732200Z"
    }
   },
   "outputs": [],
   "source": [
    "df_sales = pd.read_sql_query(\"select * from tbl_sales;\", conn)\n",
    "#df_sales = pd.read_sql_query(\"select * from tbl_sales;\", conn, index_col=\"Sale_ID\")"
   ]
  },
  {
   "cell_type": "code",
   "execution_count": 5,
   "metadata": {
    "collapsed": false,
    "ExecuteTime": {
     "end_time": "2023-09-04T22:06:02.094319600Z",
     "start_time": "2023-09-04T22:06:01.962351600Z"
    }
   },
   "outputs": [
    {
     "data": {
      "text/plain": "   Sale_ID   Sale_Date                Description  Customer_ID  Product_ID  \\\n0        1  12/31/2014       Purchased from Store            2           2   \n1        2   1/15/2015             Phone Purchase            1           1   \n2        3   6/14/2015          Internet Purchase            3           3   \n3        4  11/11/2015  Sales Convention Purchase            3           3   \n4        5   4/18/2016          Internet Purchase            4           1   \n\n   Sales_Amount  Sales_Quantity  \n0            20               1  \n1            30               2  \n2             5               1  \n3           500             100  \n4            20               2  ",
      "text/html": "<div>\n<style scoped>\n    .dataframe tbody tr th:only-of-type {\n        vertical-align: middle;\n    }\n\n    .dataframe tbody tr th {\n        vertical-align: top;\n    }\n\n    .dataframe thead th {\n        text-align: right;\n    }\n</style>\n<table border=\"1\" class=\"dataframe\">\n  <thead>\n    <tr style=\"text-align: right;\">\n      <th></th>\n      <th>Sale_ID</th>\n      <th>Sale_Date</th>\n      <th>Description</th>\n      <th>Customer_ID</th>\n      <th>Product_ID</th>\n      <th>Sales_Amount</th>\n      <th>Sales_Quantity</th>\n    </tr>\n  </thead>\n  <tbody>\n    <tr>\n      <th>0</th>\n      <td>1</td>\n      <td>12/31/2014</td>\n      <td>Purchased from Store</td>\n      <td>2</td>\n      <td>2</td>\n      <td>20</td>\n      <td>1</td>\n    </tr>\n    <tr>\n      <th>1</th>\n      <td>2</td>\n      <td>1/15/2015</td>\n      <td>Phone Purchase</td>\n      <td>1</td>\n      <td>1</td>\n      <td>30</td>\n      <td>2</td>\n    </tr>\n    <tr>\n      <th>2</th>\n      <td>3</td>\n      <td>6/14/2015</td>\n      <td>Internet Purchase</td>\n      <td>3</td>\n      <td>3</td>\n      <td>5</td>\n      <td>1</td>\n    </tr>\n    <tr>\n      <th>3</th>\n      <td>4</td>\n      <td>11/11/2015</td>\n      <td>Sales Convention Purchase</td>\n      <td>3</td>\n      <td>3</td>\n      <td>500</td>\n      <td>100</td>\n    </tr>\n    <tr>\n      <th>4</th>\n      <td>5</td>\n      <td>4/18/2016</td>\n      <td>Internet Purchase</td>\n      <td>4</td>\n      <td>1</td>\n      <td>20</td>\n      <td>2</td>\n    </tr>\n  </tbody>\n</table>\n</div>"
     },
     "execution_count": 5,
     "metadata": {},
     "output_type": "execute_result"
    }
   ],
   "source": [
    "df_sales.head()"
   ]
  },
  {
   "cell_type": "code",
   "execution_count": 6,
   "metadata": {
    "collapsed": false,
    "ExecuteTime": {
     "end_time": "2023-09-04T22:06:02.238359800Z",
     "start_time": "2023-09-04T22:06:02.098318500Z"
    }
   },
   "outputs": [
    {
     "name": "stdout",
     "output_type": "stream",
     "text": [
      "<class 'pandas.core.frame.DataFrame'>\n",
      "RangeIndex: 10 entries, 0 to 9\n",
      "Data columns (total 7 columns):\n",
      " #   Column          Non-Null Count  Dtype \n",
      "---  ------          --------------  ----- \n",
      " 0   Sale_ID         10 non-null     int64 \n",
      " 1   Sale_Date       10 non-null     object\n",
      " 2   Description     10 non-null     object\n",
      " 3   Customer_ID     10 non-null     int64 \n",
      " 4   Product_ID      10 non-null     int64 \n",
      " 5   Sales_Amount    10 non-null     int64 \n",
      " 6   Sales_Quantity  10 non-null     int64 \n",
      "dtypes: int64(5), object(2)\n",
      "memory usage: 692.0+ bytes\n"
     ]
    }
   ],
   "source": [
    "df_sales.info()"
   ]
  },
  {
   "cell_type": "code",
   "execution_count": 7,
   "metadata": {
    "collapsed": false,
    "ExecuteTime": {
     "end_time": "2023-09-04T22:06:02.559981200Z",
     "start_time": "2023-09-04T22:06:02.178810100Z"
    }
   },
   "outputs": [
    {
     "data": {
      "text/plain": "   Sale_ID   Sale_Date                Description  Customer_ID  Product_ID  \\\n1        2   1/15/2015             Phone Purchase            1           1   \n5        6  10/15/2016       Purchased from Store            5           1   \n3        4  11/11/2015  Sales Convention Purchase            3           3   \n0        1  12/31/2014       Purchased from Store            2           2   \n6        7   3/17/2017          Internet Purchase            4           1   \n4        5   4/18/2016          Internet Purchase            4           1   \n8        9   5/25/2019          Internet Purchase            1           3   \n2        3   6/14/2015          Internet Purchase            3           3   \n7        8   6/15/2018       Purchased from Store            3           3   \n9       10    6/9/2019          Internet Purchase            2           3   \n\n   Sales_Amount  Sales_Quantity  \n1            30               2  \n5            20               1  \n3           500             100  \n0            20               1  \n6            20               1  \n4            20               2  \n8            10               2  \n2             5               1  \n7             5               1  \n9            10               2  ",
      "text/html": "<div>\n<style scoped>\n    .dataframe tbody tr th:only-of-type {\n        vertical-align: middle;\n    }\n\n    .dataframe tbody tr th {\n        vertical-align: top;\n    }\n\n    .dataframe thead th {\n        text-align: right;\n    }\n</style>\n<table border=\"1\" class=\"dataframe\">\n  <thead>\n    <tr style=\"text-align: right;\">\n      <th></th>\n      <th>Sale_ID</th>\n      <th>Sale_Date</th>\n      <th>Description</th>\n      <th>Customer_ID</th>\n      <th>Product_ID</th>\n      <th>Sales_Amount</th>\n      <th>Sales_Quantity</th>\n    </tr>\n  </thead>\n  <tbody>\n    <tr>\n      <th>1</th>\n      <td>2</td>\n      <td>1/15/2015</td>\n      <td>Phone Purchase</td>\n      <td>1</td>\n      <td>1</td>\n      <td>30</td>\n      <td>2</td>\n    </tr>\n    <tr>\n      <th>5</th>\n      <td>6</td>\n      <td>10/15/2016</td>\n      <td>Purchased from Store</td>\n      <td>5</td>\n      <td>1</td>\n      <td>20</td>\n      <td>1</td>\n    </tr>\n    <tr>\n      <th>3</th>\n      <td>4</td>\n      <td>11/11/2015</td>\n      <td>Sales Convention Purchase</td>\n      <td>3</td>\n      <td>3</td>\n      <td>500</td>\n      <td>100</td>\n    </tr>\n    <tr>\n      <th>0</th>\n      <td>1</td>\n      <td>12/31/2014</td>\n      <td>Purchased from Store</td>\n      <td>2</td>\n      <td>2</td>\n      <td>20</td>\n      <td>1</td>\n    </tr>\n    <tr>\n      <th>6</th>\n      <td>7</td>\n      <td>3/17/2017</td>\n      <td>Internet Purchase</td>\n      <td>4</td>\n      <td>1</td>\n      <td>20</td>\n      <td>1</td>\n    </tr>\n    <tr>\n      <th>4</th>\n      <td>5</td>\n      <td>4/18/2016</td>\n      <td>Internet Purchase</td>\n      <td>4</td>\n      <td>1</td>\n      <td>20</td>\n      <td>2</td>\n    </tr>\n    <tr>\n      <th>8</th>\n      <td>9</td>\n      <td>5/25/2019</td>\n      <td>Internet Purchase</td>\n      <td>1</td>\n      <td>3</td>\n      <td>10</td>\n      <td>2</td>\n    </tr>\n    <tr>\n      <th>2</th>\n      <td>3</td>\n      <td>6/14/2015</td>\n      <td>Internet Purchase</td>\n      <td>3</td>\n      <td>3</td>\n      <td>5</td>\n      <td>1</td>\n    </tr>\n    <tr>\n      <th>7</th>\n      <td>8</td>\n      <td>6/15/2018</td>\n      <td>Purchased from Store</td>\n      <td>3</td>\n      <td>3</td>\n      <td>5</td>\n      <td>1</td>\n    </tr>\n    <tr>\n      <th>9</th>\n      <td>10</td>\n      <td>6/9/2019</td>\n      <td>Internet Purchase</td>\n      <td>2</td>\n      <td>3</td>\n      <td>10</td>\n      <td>2</td>\n    </tr>\n  </tbody>\n</table>\n</div>"
     },
     "execution_count": 7,
     "metadata": {},
     "output_type": "execute_result"
    }
   ],
   "source": [
    "df_sales.sort_values(by='Sale_Date')"
   ]
  },
  {
   "cell_type": "code",
   "execution_count": 8,
   "metadata": {
    "collapsed": false,
    "scrolled": true,
    "ExecuteTime": {
     "end_time": "2023-09-04T22:06:02.620944500Z",
     "start_time": "2023-09-04T22:06:02.242357400Z"
    }
   },
   "outputs": [
    {
     "data": {
      "text/plain": "Sale_ID                          10\nSale_Date                  6/9/2019\nDescription       Internet Purchase\nCustomer_ID                       2\nProduct_ID                        3\nSales_Amount                     10\nSales_Quantity                    2\nName: 9, dtype: object"
     },
     "execution_count": 8,
     "metadata": {},
     "output_type": "execute_result"
    }
   ],
   "source": [
    "df_sales.loc[9]"
   ]
  },
  {
   "cell_type": "code",
   "execution_count": 9,
   "metadata": {
    "collapsed": false,
    "ExecuteTime": {
     "end_time": "2023-09-04T22:06:02.622943900Z",
     "start_time": "2023-09-04T22:06:02.264536700Z"
    }
   },
   "outputs": [
    {
     "data": {
      "text/plain": "0    12/31/2014\n1     1/15/2015\n2     6/14/2015\n3    11/11/2015\n4     4/18/2016\n5    10/15/2016\n6     3/17/2017\n7     6/15/2018\n8     5/25/2019\n9      6/9/2019\nName: Sale_Date, dtype: object"
     },
     "execution_count": 9,
     "metadata": {},
     "output_type": "execute_result"
    }
   ],
   "source": [
    "df_sales.loc[:,'Sale_Date']"
   ]
  },
  {
   "cell_type": "code",
   "execution_count": 10,
   "metadata": {
    "collapsed": false,
    "ExecuteTime": {
     "end_time": "2023-09-04T22:06:02.623942600Z",
     "start_time": "2023-09-04T22:06:02.292521400Z"
    }
   },
   "outputs": [],
   "source": [
    "#results = df_sales['Sales_Amount'] > 100\n",
    "#results"
   ]
  },
  {
   "cell_type": "code",
   "execution_count": 11,
   "metadata": {
    "collapsed": false,
    "ExecuteTime": {
     "end_time": "2023-09-04T22:06:02.639934300Z",
     "start_time": "2023-09-04T22:06:02.309511200Z"
    }
   },
   "outputs": [
    {
     "data": {
      "text/plain": "   Sale_ID   Sale_Date                Description  Customer_ID  Product_ID  \\\n3        4  11/11/2015  Sales Convention Purchase            3           3   \n\n   Sales_Amount  Sales_Quantity  \n3           500             100  ",
      "text/html": "<div>\n<style scoped>\n    .dataframe tbody tr th:only-of-type {\n        vertical-align: middle;\n    }\n\n    .dataframe tbody tr th {\n        vertical-align: top;\n    }\n\n    .dataframe thead th {\n        text-align: right;\n    }\n</style>\n<table border=\"1\" class=\"dataframe\">\n  <thead>\n    <tr style=\"text-align: right;\">\n      <th></th>\n      <th>Sale_ID</th>\n      <th>Sale_Date</th>\n      <th>Description</th>\n      <th>Customer_ID</th>\n      <th>Product_ID</th>\n      <th>Sales_Amount</th>\n      <th>Sales_Quantity</th>\n    </tr>\n  </thead>\n  <tbody>\n    <tr>\n      <th>3</th>\n      <td>4</td>\n      <td>11/11/2015</td>\n      <td>Sales Convention Purchase</td>\n      <td>3</td>\n      <td>3</td>\n      <td>500</td>\n      <td>100</td>\n    </tr>\n  </tbody>\n</table>\n</div>"
     },
     "execution_count": 11,
     "metadata": {},
     "output_type": "execute_result"
    }
   ],
   "source": [
    "df_sales[(df_sales['Sales_Amount'] > 100)]"
   ]
  },
  {
   "cell_type": "code",
   "execution_count": 12,
   "metadata": {
    "collapsed": false,
    "ExecuteTime": {
     "end_time": "2023-09-04T22:06:02.647929300Z",
     "start_time": "2023-09-04T22:06:02.339965Z"
    }
   },
   "outputs": [
    {
     "data": {
      "text/plain": "   Sale_ID   Sale_Date           Description  Customer_ID  Product_ID  \\\n0        1  12/31/2014  Purchased from Store            2           2   \n2        3   6/14/2015     Internet Purchase            3           3   \n5        6  10/15/2016  Purchased from Store            5           1   \n6        7   3/17/2017     Internet Purchase            4           1   \n7        8   6/15/2018  Purchased from Store            3           3   \n\n   Sales_Amount  Sales_Quantity  \n0            20               1  \n2             5               1  \n5            20               1  \n6            20               1  \n7             5               1  ",
      "text/html": "<div>\n<style scoped>\n    .dataframe tbody tr th:only-of-type {\n        vertical-align: middle;\n    }\n\n    .dataframe tbody tr th {\n        vertical-align: top;\n    }\n\n    .dataframe thead th {\n        text-align: right;\n    }\n</style>\n<table border=\"1\" class=\"dataframe\">\n  <thead>\n    <tr style=\"text-align: right;\">\n      <th></th>\n      <th>Sale_ID</th>\n      <th>Sale_Date</th>\n      <th>Description</th>\n      <th>Customer_ID</th>\n      <th>Product_ID</th>\n      <th>Sales_Amount</th>\n      <th>Sales_Quantity</th>\n    </tr>\n  </thead>\n  <tbody>\n    <tr>\n      <th>0</th>\n      <td>1</td>\n      <td>12/31/2014</td>\n      <td>Purchased from Store</td>\n      <td>2</td>\n      <td>2</td>\n      <td>20</td>\n      <td>1</td>\n    </tr>\n    <tr>\n      <th>2</th>\n      <td>3</td>\n      <td>6/14/2015</td>\n      <td>Internet Purchase</td>\n      <td>3</td>\n      <td>3</td>\n      <td>5</td>\n      <td>1</td>\n    </tr>\n    <tr>\n      <th>5</th>\n      <td>6</td>\n      <td>10/15/2016</td>\n      <td>Purchased from Store</td>\n      <td>5</td>\n      <td>1</td>\n      <td>20</td>\n      <td>1</td>\n    </tr>\n    <tr>\n      <th>6</th>\n      <td>7</td>\n      <td>3/17/2017</td>\n      <td>Internet Purchase</td>\n      <td>4</td>\n      <td>1</td>\n      <td>20</td>\n      <td>1</td>\n    </tr>\n    <tr>\n      <th>7</th>\n      <td>8</td>\n      <td>6/15/2018</td>\n      <td>Purchased from Store</td>\n      <td>3</td>\n      <td>3</td>\n      <td>5</td>\n      <td>1</td>\n    </tr>\n  </tbody>\n</table>\n</div>"
     },
     "execution_count": 12,
     "metadata": {},
     "output_type": "execute_result"
    }
   ],
   "source": [
    "df_sales[(df_sales['Sales_Quantity'] == 1)]"
   ]
  }
 ],
 "metadata": {
  "kernelspec": {
   "display_name": "Python 3",
   "language": "python",
   "name": "python3"
  },
  "language_info": {
   "codemirror_mode": {
    "name": "ipython",
    "version": 3
   },
   "file_extension": ".py",
   "mimetype": "text/x-python",
   "name": "python",
   "nbconvert_exporter": "python",
   "pygments_lexer": "ipython3",
   "version": "3.5.1"
  }
 },
 "nbformat": 4,
 "nbformat_minor": 0
}
