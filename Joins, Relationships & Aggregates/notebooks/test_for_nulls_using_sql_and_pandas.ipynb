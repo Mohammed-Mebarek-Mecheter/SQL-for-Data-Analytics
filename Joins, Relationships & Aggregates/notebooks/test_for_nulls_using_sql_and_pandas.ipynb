{
 "cells": [
  {
   "cell_type": "code",
   "execution_count": 1,
   "metadata": {
    "collapsed": false,
    "ExecuteTime": {
     "end_time": "2023-09-04T22:07:14.470852200Z",
     "start_time": "2023-09-04T22:07:14.452459200Z"
    }
   },
   "outputs": [],
   "source": [
    "import sqlite3"
   ]
  },
  {
   "cell_type": "code",
   "execution_count": 2,
   "metadata": {
    "collapsed": true,
    "ExecuteTime": {
     "end_time": "2023-09-04T22:07:14.482845600Z",
     "start_time": "2023-09-04T22:07:14.464255100Z"
    }
   },
   "outputs": [],
   "source": [
    "conn = sqlite3.connect('../data/source/customer_sales.db') "
   ]
  },
  {
   "cell_type": "code",
   "execution_count": 3,
   "metadata": {
    "collapsed": true,
    "ExecuteTime": {
     "end_time": "2023-09-04T22:07:16.159326600Z",
     "start_time": "2023-09-04T22:07:14.475850700Z"
    }
   },
   "outputs": [],
   "source": [
    "import pandas as pd"
   ]
  },
  {
   "cell_type": "code",
   "execution_count": 4,
   "metadata": {
    "collapsed": true,
    "ExecuteTime": {
     "end_time": "2023-09-04T22:07:16.200313800Z",
     "start_time": "2023-09-04T22:07:16.160325600Z"
    }
   },
   "outputs": [],
   "source": [
    "df_customers = pd.read_sql_query(\"select * from tbl_customers;\", conn)"
   ]
  },
  {
   "cell_type": "code",
   "execution_count": 5,
   "metadata": {
    "collapsed": false,
    "ExecuteTime": {
     "end_time": "2023-09-04T22:07:16.235972800Z",
     "start_time": "2023-09-04T22:07:16.192319500Z"
    }
   },
   "outputs": [
    {
     "data": {
      "text/plain": "   Customer_ID First_Name Last_Name      Address_Line_1 Address_Line_2  \\\n0            1     Johnny     Smith     123 Main Street           None   \n1            2     Debbie    Winner   31 Roundtree Lane           None   \n2            3       Seth     Winer  310 Roundtree Lane           None   \n3            4    Anthony  Leedessa        Dallas Drive       Unit 806   \n4            5       Pete  Einstein       Morton Street           None   \n\n           City State ZipCode         Phone                     Email  \n0         Miami    FL   12345  302-555-1212          jsmith@email.com  \n1         Dover    NJ   18888          None   debbie_winner@email.com  \n2         Dover    NJ   18888          None              sw@email.com  \n3       El Paso    TX   99928          None       alligator@email.com  \n4  Philadelphia    PA   28373  215-555-1212  peter_einstein@email.com  ",
      "text/html": "<div>\n<style scoped>\n    .dataframe tbody tr th:only-of-type {\n        vertical-align: middle;\n    }\n\n    .dataframe tbody tr th {\n        vertical-align: top;\n    }\n\n    .dataframe thead th {\n        text-align: right;\n    }\n</style>\n<table border=\"1\" class=\"dataframe\">\n  <thead>\n    <tr style=\"text-align: right;\">\n      <th></th>\n      <th>Customer_ID</th>\n      <th>First_Name</th>\n      <th>Last_Name</th>\n      <th>Address_Line_1</th>\n      <th>Address_Line_2</th>\n      <th>City</th>\n      <th>State</th>\n      <th>ZipCode</th>\n      <th>Phone</th>\n      <th>Email</th>\n    </tr>\n  </thead>\n  <tbody>\n    <tr>\n      <th>0</th>\n      <td>1</td>\n      <td>Johnny</td>\n      <td>Smith</td>\n      <td>123 Main Street</td>\n      <td>None</td>\n      <td>Miami</td>\n      <td>FL</td>\n      <td>12345</td>\n      <td>302-555-1212</td>\n      <td>jsmith@email.com</td>\n    </tr>\n    <tr>\n      <th>1</th>\n      <td>2</td>\n      <td>Debbie</td>\n      <td>Winner</td>\n      <td>31 Roundtree Lane</td>\n      <td>None</td>\n      <td>Dover</td>\n      <td>NJ</td>\n      <td>18888</td>\n      <td>None</td>\n      <td>debbie_winner@email.com</td>\n    </tr>\n    <tr>\n      <th>2</th>\n      <td>3</td>\n      <td>Seth</td>\n      <td>Winer</td>\n      <td>310 Roundtree Lane</td>\n      <td>None</td>\n      <td>Dover</td>\n      <td>NJ</td>\n      <td>18888</td>\n      <td>None</td>\n      <td>sw@email.com</td>\n    </tr>\n    <tr>\n      <th>3</th>\n      <td>4</td>\n      <td>Anthony</td>\n      <td>Leedessa</td>\n      <td>Dallas Drive</td>\n      <td>Unit 806</td>\n      <td>El Paso</td>\n      <td>TX</td>\n      <td>99928</td>\n      <td>None</td>\n      <td>alligator@email.com</td>\n    </tr>\n    <tr>\n      <th>4</th>\n      <td>5</td>\n      <td>Pete</td>\n      <td>Einstein</td>\n      <td>Morton Street</td>\n      <td>None</td>\n      <td>Philadelphia</td>\n      <td>PA</td>\n      <td>28373</td>\n      <td>215-555-1212</td>\n      <td>peter_einstein@email.com</td>\n    </tr>\n  </tbody>\n</table>\n</div>"
     },
     "execution_count": 5,
     "metadata": {},
     "output_type": "execute_result"
    }
   ],
   "source": [
    "df_customers.head()"
   ]
  },
  {
   "cell_type": "code",
   "execution_count": 6,
   "metadata": {
    "collapsed": false,
    "ExecuteTime": {
     "end_time": "2023-09-04T22:07:16.342293200Z",
     "start_time": "2023-09-04T22:07:16.230974600Z"
    }
   },
   "outputs": [
    {
     "data": {
      "text/plain": "   Customer_ID  First_Name  Last_Name  Address_Line_1  Address_Line_2   City  \\\n0        False       False      False           False            True  False   \n1        False       False      False           False            True  False   \n2        False       False      False           False            True  False   \n3        False       False      False           False           False  False   \n4        False       False      False           False            True  False   \n\n   State  ZipCode  Phone  Email  \n0  False    False  False  False  \n1  False    False   True  False  \n2  False    False   True  False  \n3  False    False   True  False  \n4  False    False  False  False  ",
      "text/html": "<div>\n<style scoped>\n    .dataframe tbody tr th:only-of-type {\n        vertical-align: middle;\n    }\n\n    .dataframe tbody tr th {\n        vertical-align: top;\n    }\n\n    .dataframe thead th {\n        text-align: right;\n    }\n</style>\n<table border=\"1\" class=\"dataframe\">\n  <thead>\n    <tr style=\"text-align: right;\">\n      <th></th>\n      <th>Customer_ID</th>\n      <th>First_Name</th>\n      <th>Last_Name</th>\n      <th>Address_Line_1</th>\n      <th>Address_Line_2</th>\n      <th>City</th>\n      <th>State</th>\n      <th>ZipCode</th>\n      <th>Phone</th>\n      <th>Email</th>\n    </tr>\n  </thead>\n  <tbody>\n    <tr>\n      <th>0</th>\n      <td>False</td>\n      <td>False</td>\n      <td>False</td>\n      <td>False</td>\n      <td>True</td>\n      <td>False</td>\n      <td>False</td>\n      <td>False</td>\n      <td>False</td>\n      <td>False</td>\n    </tr>\n    <tr>\n      <th>1</th>\n      <td>False</td>\n      <td>False</td>\n      <td>False</td>\n      <td>False</td>\n      <td>True</td>\n      <td>False</td>\n      <td>False</td>\n      <td>False</td>\n      <td>True</td>\n      <td>False</td>\n    </tr>\n    <tr>\n      <th>2</th>\n      <td>False</td>\n      <td>False</td>\n      <td>False</td>\n      <td>False</td>\n      <td>True</td>\n      <td>False</td>\n      <td>False</td>\n      <td>False</td>\n      <td>True</td>\n      <td>False</td>\n    </tr>\n    <tr>\n      <th>3</th>\n      <td>False</td>\n      <td>False</td>\n      <td>False</td>\n      <td>False</td>\n      <td>False</td>\n      <td>False</td>\n      <td>False</td>\n      <td>False</td>\n      <td>True</td>\n      <td>False</td>\n    </tr>\n    <tr>\n      <th>4</th>\n      <td>False</td>\n      <td>False</td>\n      <td>False</td>\n      <td>False</td>\n      <td>True</td>\n      <td>False</td>\n      <td>False</td>\n      <td>False</td>\n      <td>False</td>\n      <td>False</td>\n    </tr>\n  </tbody>\n</table>\n</div>"
     },
     "execution_count": 6,
     "metadata": {},
     "output_type": "execute_result"
    }
   ],
   "source": [
    "pd.isnull(df_customers)"
   ]
  }
 ],
 "metadata": {
  "kernelspec": {
   "display_name": "Python 3",
   "language": "python",
   "name": "python3"
  },
  "language_info": {
   "codemirror_mode": {
    "name": "ipython",
    "version": 3
   },
   "file_extension": ".py",
   "mimetype": "text/x-python",
   "name": "python",
   "nbconvert_exporter": "python",
   "pygments_lexer": "ipython3",
   "version": "3.5.1"
  }
 },
 "nbformat": 4,
 "nbformat_minor": 0
}
