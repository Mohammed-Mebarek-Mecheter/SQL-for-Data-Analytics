{
 "cells": [
  {
   "cell_type": "markdown",
   "source": [
    "## 1. Classic American names\n",
    "<p><img src=\"https://assets.datacamp.com/production/project_1441/img/name.jpg\" alt=\"Lots of name tags piled on top of each other.\" width=\"600\"></p>\n",
    "<p>Photo by Travis Wise on <a href=\"https://commons.wikimedia.org/wiki/File:Hello_My_Name_Is_(15283079263).jpg\">Wikimedia</a>.</p>\n",
    "<p>How have American baby name tastes changed since 1920?  Which names have remained popular for over 100 years, and how do those names compare to more recent top baby names? These are considerations for many new parents, but the skills we'll practice while answering these queries are broadly applicable. After all, understanding trends and popularity is important for many businesses, too! </p>\n",
    "<p>We'll be working with data provided by the United States Social Security Administration, which lists first names along with the number and sex of babies they were given to in each year. For processing speed purposes, we've limited the dataset to first names which were given to over 5,000 American babies in a given year. Our data spans 101 years, from 1920 through 2020.</p>\n",
    "<h3 id=\"baby_names\"><code>baby_names</code></h3>\n",
    "<table>\n",
    "<thead>\n",
    "<tr>\n",
    "<th style=\"text-align:left;\">column</th>\n",
    "<th>type</th>\n",
    "<th>meaning</th>\n",
    "</tr>\n",
    "</thead>\n",
    "<tbody>\n",
    "<tr>\n",
    "<td style=\"text-align:left;\"><code>year</code></td>\n",
    "<td>int</td>\n",
    "<td>year</td>\n",
    "</tr>\n",
    "<tr>\n",
    "<td style=\"text-align:left;\"><code>first_name</code></td>\n",
    "<td>varchar</td>\n",
    "<td>first name</td>\n",
    "</tr>\n",
    "<tr>\n",
    "<td style=\"text-align:left;\"><code>sex</code></td>\n",
    "<td>varchar</td>\n",
    "<td><code>sex</code> of babies given <code>first_name</code></td>\n",
    "</tr>\n",
    "<tr>\n",
    "<td style=\"text-align:left;\"><code>num</code></td>\n",
    "<td>int</td>\n",
    "<td>number of babies of <code>sex</code> given <code>first_name</code> in that <code>year</code></td>\n",
    "</tr>\n",
    "</tbody>\n",
    "</table>\n",
    "<p>Let's get oriented to American baby name tastes by looking at the names that have stood the test of time!</p>"
   ],
   "metadata": {
    "collapsed": false
   },
   "id": "dc558eff99a5e1af"
  },
  {
   "cell_type": "code",
   "outputs": [
    {
     "data": {
      "text/plain": "  first_name      sum\n0      James  4748138\n1       John  4510721\n2    William  3614424\n3      David  3571498\n4     Joseph  2361382\n5     Thomas  2166802\n6    Charles  2112352\n7  Elizabeth  1436286",
      "text/html": "<div>\n<style scoped>\n    .dataframe tbody tr th:only-of-type {\n        vertical-align: middle;\n    }\n\n    .dataframe tbody tr th {\n        vertical-align: top;\n    }\n\n    .dataframe thead th {\n        text-align: right;\n    }\n</style>\n<table border=\"1\" class=\"dataframe\">\n  <thead>\n    <tr style=\"text-align: right;\">\n      <th></th>\n      <th>first_name</th>\n      <th>sum</th>\n    </tr>\n  </thead>\n  <tbody>\n    <tr>\n      <th>0</th>\n      <td>James</td>\n      <td>4748138</td>\n    </tr>\n    <tr>\n      <th>1</th>\n      <td>John</td>\n      <td>4510721</td>\n    </tr>\n    <tr>\n      <th>2</th>\n      <td>William</td>\n      <td>3614424</td>\n    </tr>\n    <tr>\n      <th>3</th>\n      <td>David</td>\n      <td>3571498</td>\n    </tr>\n    <tr>\n      <th>4</th>\n      <td>Joseph</td>\n      <td>2361382</td>\n    </tr>\n    <tr>\n      <th>5</th>\n      <td>Thomas</td>\n      <td>2166802</td>\n    </tr>\n    <tr>\n      <th>6</th>\n      <td>Charles</td>\n      <td>2112352</td>\n    </tr>\n    <tr>\n      <th>7</th>\n      <td>Elizabeth</td>\n      <td>1436286</td>\n    </tr>\n  </tbody>\n</table>\n</div>"
     },
     "execution_count": 2,
     "metadata": {},
     "output_type": "execute_result"
    }
   ],
   "source": [
    "%%sql\n",
    "SELECT first_name, SUM(num) AS sum\n",
    "FROM baby_names\n",
    "GROUP BY first_name\n",
    "HAVING COUNT(DISTINCT year) = 101\n",
    "ORDER BY sum DESC;"
   ],
   "metadata": {
    "collapsed": false,
    "SqlCellData": {
     "data_source_name": "postgres@localhost",
     "variableName$1": "df_sql"
    },
    "ExecuteTime": {
     "end_time": "2024-03-19T12:46:11.653998Z",
     "start_time": "2024-03-19T12:45:59.198619500Z"
    }
   },
   "id": "1adcd13595a86c94",
   "execution_count": 2
  },
  {
   "cell_type": "markdown",
   "source": [
    "## 2. Timeless or trendy?\n",
    "<p>Wow, it looks like there are a lot of timeless traditionally male names! Elizabeth is holding her own for the female names, too. </p>\n",
    "<p>Now, let's broaden our understanding of the dataset by looking at all names. We'll attempt to capture the type of popularity that each name in the dataset enjoyed. Was the name classic and popular across many years or trendy, only popular for a few years? Let's find out. </p>"
   ],
   "metadata": {
    "collapsed": false
   },
   "id": "55d332ecd44ea4"
  },
  {
   "cell_type": "code",
   "outputs": [
    {
     "data": {
      "text/plain": "    first_name     sum popularity_type\n0      Aaliyah   15870          Trendy\n1        Aaron  530592    Semi-classic\n2      Abigail  338485     Semi-trendy\n3         Adam  497293     Semi-trendy\n4      Addison  107433          Trendy\n..         ...     ...             ...\n542      Wyatt  128168          Trendy\n543     Xavier   51892          Trendy\n544    Zachary  483955     Semi-trendy\n545        Zoe   78773          Trendy\n546       Zoey   70140          Trendy\n\n[547 rows x 3 columns]",
      "text/html": "<div>\n<style scoped>\n    .dataframe tbody tr th:only-of-type {\n        vertical-align: middle;\n    }\n\n    .dataframe tbody tr th {\n        vertical-align: top;\n    }\n\n    .dataframe thead th {\n        text-align: right;\n    }\n</style>\n<table border=\"1\" class=\"dataframe\">\n  <thead>\n    <tr style=\"text-align: right;\">\n      <th></th>\n      <th>first_name</th>\n      <th>sum</th>\n      <th>popularity_type</th>\n    </tr>\n  </thead>\n  <tbody>\n    <tr>\n      <th>0</th>\n      <td>Aaliyah</td>\n      <td>15870</td>\n      <td>Trendy</td>\n    </tr>\n    <tr>\n      <th>1</th>\n      <td>Aaron</td>\n      <td>530592</td>\n      <td>Semi-classic</td>\n    </tr>\n    <tr>\n      <th>2</th>\n      <td>Abigail</td>\n      <td>338485</td>\n      <td>Semi-trendy</td>\n    </tr>\n    <tr>\n      <th>3</th>\n      <td>Adam</td>\n      <td>497293</td>\n      <td>Semi-trendy</td>\n    </tr>\n    <tr>\n      <th>4</th>\n      <td>Addison</td>\n      <td>107433</td>\n      <td>Trendy</td>\n    </tr>\n    <tr>\n      <th>...</th>\n      <td>...</td>\n      <td>...</td>\n      <td>...</td>\n    </tr>\n    <tr>\n      <th>542</th>\n      <td>Wyatt</td>\n      <td>128168</td>\n      <td>Trendy</td>\n    </tr>\n    <tr>\n      <th>543</th>\n      <td>Xavier</td>\n      <td>51892</td>\n      <td>Trendy</td>\n    </tr>\n    <tr>\n      <th>544</th>\n      <td>Zachary</td>\n      <td>483955</td>\n      <td>Semi-trendy</td>\n    </tr>\n    <tr>\n      <th>545</th>\n      <td>Zoe</td>\n      <td>78773</td>\n      <td>Trendy</td>\n    </tr>\n    <tr>\n      <th>546</th>\n      <td>Zoey</td>\n      <td>70140</td>\n      <td>Trendy</td>\n    </tr>\n  </tbody>\n</table>\n<p>547 rows × 3 columns</p>\n</div>"
     },
     "execution_count": 3,
     "metadata": {},
     "output_type": "execute_result"
    }
   ],
   "source": [
    "%%sql\n",
    "WITH NamePopularity AS (\n",
    "    SELECT \n",
    "        first_name, \n",
    "        SUM(num) AS sum,\n",
    "        COUNT(DISTINCT year) AS years_present\n",
    "    FROM \n",
    "        baby_names\n",
    "    GROUP BY \n",
    "        first_name\n",
    ")\n",
    "SELECT \n",
    "    first_name,\n",
    "    sum,\n",
    "    CASE \n",
    "        WHEN years_present > 80 THEN 'Classic'\n",
    "        WHEN years_present > 50 THEN 'Semi-classic'\n",
    "        WHEN years_present > 20 THEN 'Semi-trendy'\n",
    "        ELSE 'Trendy'\n",
    "    END AS popularity_type\n",
    "FROM \n",
    "    NamePopularity\n",
    "ORDER BY \n",
    "    first_name;"
   ],
   "metadata": {
    "collapsed": false,
    "SqlCellData": {
     "data_source_name": "postgres@localhost",
     "variableName$1": "df_sql1"
    },
    "ExecuteTime": {
     "end_time": "2024-03-19T12:46:11.874908Z",
     "start_time": "2024-03-19T12:46:03.029481Z"
    }
   },
   "id": "d734dd0fb72dba3",
   "execution_count": 3
  },
  {
   "cell_type": "markdown",
   "source": [
    "## 3. Top-ranked female names since 1920\n",
    "<p>It's time to dive into the female names! </p>\n",
    "<p>Since we didn't get many traditionally female names in our classic American names search in the first task, let's limit our search to names which were given to female babies. </p>\n",
    "<p>We can use this opportunity to practice window functions by assigning a rank to female names based on the number of babies that have ever been given that name. What are the top-ranked female names since 1920?</p>"
   ],
   "metadata": {
    "collapsed": false
   },
   "id": "d45daebf7ffb37e"
  },
  {
   "cell_type": "code",
   "outputs": [
    {
     "data": {
      "text/plain": "   name_rank first_name      sum\n0          1       Mary  3215850\n1          2   Patricia  1479802\n2          3  Elizabeth  1436286\n3          4   Jennifer  1404743\n4          5      Linda  1361021\n5          6    Barbara  1343901\n6          7      Susan  1025728\n7          8    Jessica   994210\n8          9       Lisa   920119\n9         10      Betty   893396",
      "text/html": "<div>\n<style scoped>\n    .dataframe tbody tr th:only-of-type {\n        vertical-align: middle;\n    }\n\n    .dataframe tbody tr th {\n        vertical-align: top;\n    }\n\n    .dataframe thead th {\n        text-align: right;\n    }\n</style>\n<table border=\"1\" class=\"dataframe\">\n  <thead>\n    <tr style=\"text-align: right;\">\n      <th></th>\n      <th>name_rank</th>\n      <th>first_name</th>\n      <th>sum</th>\n    </tr>\n  </thead>\n  <tbody>\n    <tr>\n      <th>0</th>\n      <td>1</td>\n      <td>Mary</td>\n      <td>3215850</td>\n    </tr>\n    <tr>\n      <th>1</th>\n      <td>2</td>\n      <td>Patricia</td>\n      <td>1479802</td>\n    </tr>\n    <tr>\n      <th>2</th>\n      <td>3</td>\n      <td>Elizabeth</td>\n      <td>1436286</td>\n    </tr>\n    <tr>\n      <th>3</th>\n      <td>4</td>\n      <td>Jennifer</td>\n      <td>1404743</td>\n    </tr>\n    <tr>\n      <th>4</th>\n      <td>5</td>\n      <td>Linda</td>\n      <td>1361021</td>\n    </tr>\n    <tr>\n      <th>5</th>\n      <td>6</td>\n      <td>Barbara</td>\n      <td>1343901</td>\n    </tr>\n    <tr>\n      <th>6</th>\n      <td>7</td>\n      <td>Susan</td>\n      <td>1025728</td>\n    </tr>\n    <tr>\n      <th>7</th>\n      <td>8</td>\n      <td>Jessica</td>\n      <td>994210</td>\n    </tr>\n    <tr>\n      <th>8</th>\n      <td>9</td>\n      <td>Lisa</td>\n      <td>920119</td>\n    </tr>\n    <tr>\n      <th>9</th>\n      <td>10</td>\n      <td>Betty</td>\n      <td>893396</td>\n    </tr>\n  </tbody>\n</table>\n</div>"
     },
     "execution_count": 4,
     "metadata": {},
     "output_type": "execute_result"
    }
   ],
   "source": [
    "%%sql\n",
    "WITH FemaleNameRank AS (\n",
    "    SELECT \n",
    "        first_name,\n",
    "        SUM(num) AS sum,\n",
    "        RANK() OVER (ORDER BY SUM(num) DESC) AS name_rank\n",
    "    FROM \n",
    "        baby_names\n",
    "    WHERE \n",
    "        sex = 'F'\n",
    "    GROUP BY \n",
    "        first_name\n",
    ")\n",
    "SELECT \n",
    "    name_rank,\n",
    "    first_name,\n",
    "    sum\n",
    "FROM \n",
    "    FemaleNameRank\n",
    "LIMIT 10;"
   ],
   "metadata": {
    "collapsed": false,
    "SqlCellData": {
     "data_source_name": "postgres@localhost",
     "variableName$1": "df_sql2"
    },
    "ExecuteTime": {
     "end_time": "2024-03-19T12:46:11.962382Z",
     "start_time": "2024-03-19T12:46:04.174451400Z"
    }
   },
   "id": "6f674bed0c25ce87",
   "execution_count": 4
  },
  {
   "cell_type": "markdown",
   "source": [
    "## 4. Picking a baby name\n",
    "<p>Perhaps a friend has heard of our work analyzing baby names and would like help choosing a name for her baby, a girl. She doesn't like any of the top-ranked names we found in the previous task. </p>\n",
    "<p>She's set on a traditionally female name ending in the letter 'a' since she's heard that vowels in baby names are trendy. She's also looking for a name that has been popular in the years since 2015. </p>\n",
    "<p>Let's see what we can do to find some options for this friend!</p>"
   ],
   "metadata": {
    "collapsed": false
   },
   "id": "74eb852f0ccca8a6"
  },
  {
   "cell_type": "code",
   "outputs": [
    {
     "data": {
      "text/plain": "   first_name\n0      Olivia\n1        Emma\n2         Ava\n3      Sophia\n4    Isabella\n5         Mia\n6      Amelia\n7        Ella\n8       Sofia\n9      Camila\n10       Aria\n11   Victoria\n12      Layla\n13       Nora\n14       Mila\n15       Luna\n16     Stella\n17     Gianna\n18     Aurora",
      "text/html": "<div>\n<style scoped>\n    .dataframe tbody tr th:only-of-type {\n        vertical-align: middle;\n    }\n\n    .dataframe tbody tr th {\n        vertical-align: top;\n    }\n\n    .dataframe thead th {\n        text-align: right;\n    }\n</style>\n<table border=\"1\" class=\"dataframe\">\n  <thead>\n    <tr style=\"text-align: right;\">\n      <th></th>\n      <th>first_name</th>\n    </tr>\n  </thead>\n  <tbody>\n    <tr>\n      <th>0</th>\n      <td>Olivia</td>\n    </tr>\n    <tr>\n      <th>1</th>\n      <td>Emma</td>\n    </tr>\n    <tr>\n      <th>2</th>\n      <td>Ava</td>\n    </tr>\n    <tr>\n      <th>3</th>\n      <td>Sophia</td>\n    </tr>\n    <tr>\n      <th>4</th>\n      <td>Isabella</td>\n    </tr>\n    <tr>\n      <th>5</th>\n      <td>Mia</td>\n    </tr>\n    <tr>\n      <th>6</th>\n      <td>Amelia</td>\n    </tr>\n    <tr>\n      <th>7</th>\n      <td>Ella</td>\n    </tr>\n    <tr>\n      <th>8</th>\n      <td>Sofia</td>\n    </tr>\n    <tr>\n      <th>9</th>\n      <td>Camila</td>\n    </tr>\n    <tr>\n      <th>10</th>\n      <td>Aria</td>\n    </tr>\n    <tr>\n      <th>11</th>\n      <td>Victoria</td>\n    </tr>\n    <tr>\n      <th>12</th>\n      <td>Layla</td>\n    </tr>\n    <tr>\n      <th>13</th>\n      <td>Nora</td>\n    </tr>\n    <tr>\n      <th>14</th>\n      <td>Mila</td>\n    </tr>\n    <tr>\n      <th>15</th>\n      <td>Luna</td>\n    </tr>\n    <tr>\n      <th>16</th>\n      <td>Stella</td>\n    </tr>\n    <tr>\n      <th>17</th>\n      <td>Gianna</td>\n    </tr>\n    <tr>\n      <th>18</th>\n      <td>Aurora</td>\n    </tr>\n  </tbody>\n</table>\n</div>"
     },
     "execution_count": 5,
     "metadata": {},
     "output_type": "execute_result"
    }
   ],
   "source": [
    "%%sql\n",
    "SELECT \n",
    "    first_name\n",
    "FROM \n",
    "    baby_names\n",
    "WHERE \n",
    "    sex = 'F'\n",
    "    AND year > 2015\n",
    "    AND first_name LIKE '%a'\n",
    "GROUP BY \n",
    "    first_name\n",
    "ORDER BY \n",
    "    SUM(num) DESC;"
   ],
   "metadata": {
    "collapsed": false,
    "SqlCellData": {
     "data_source_name": "postgres@localhost",
     "variableName$1": "df_sql3"
    },
    "ExecuteTime": {
     "end_time": "2024-03-19T12:46:12.039978Z",
     "start_time": "2024-03-19T12:46:04.476849400Z"
    }
   },
   "id": "79594388ba516938",
   "execution_count": 5
  },
  {
   "cell_type": "markdown",
   "source": [
    "## 5. The Olivia expansion\n",
    "<p>Based on the results in the previous task, we can see that Olivia is the most popular female name ending in 'A' since 2015. When did the name Olivia become so popular?</p>\n",
    "<p>Let's explore the rise of the name Olivia with the help of a window function.</p>"
   ],
   "metadata": {
    "collapsed": false
   },
   "id": "f48dd0a26db0eb4"
  },
  {
   "cell_type": "code",
   "outputs": [
    {
     "data": {
      "text/plain": "    year first_name    num  cumulative_olivias\n0   1991     Olivia   5601                5601\n1   1992     Olivia   5809               11410\n2   1993     Olivia   6340               17750\n3   1994     Olivia   6434               24184\n4   1995     Olivia   7624               31808\n5   1996     Olivia   8124               39932\n6   1997     Olivia   9477               49409\n7   1998     Olivia  10610               60019\n8   1999     Olivia  11255               71274\n9   2000     Olivia  12852               84126\n10  2001     Olivia  13977               98103\n11  2002     Olivia  14630              112733\n12  2003     Olivia  16152              128885\n13  2004     Olivia  16106              144991\n14  2005     Olivia  15694              160685\n15  2006     Olivia  15501              176186\n16  2007     Olivia  16584              192770\n17  2008     Olivia  17084              209854\n18  2009     Olivia  17438              227292\n19  2010     Olivia  17029              244321\n20  2011     Olivia  17327              261648\n21  2012     Olivia  17320              278968\n22  2013     Olivia  18439              297407\n23  2014     Olivia  19823              317230\n24  2015     Olivia  19710              336940\n25  2016     Olivia  19380              356320\n26  2017     Olivia  18744              375064\n27  2018     Olivia  18011              393075\n28  2019     Olivia  18508              411583\n29  2020     Olivia  17535              429118",
      "text/html": "<div>\n<style scoped>\n    .dataframe tbody tr th:only-of-type {\n        vertical-align: middle;\n    }\n\n    .dataframe tbody tr th {\n        vertical-align: top;\n    }\n\n    .dataframe thead th {\n        text-align: right;\n    }\n</style>\n<table border=\"1\" class=\"dataframe\">\n  <thead>\n    <tr style=\"text-align: right;\">\n      <th></th>\n      <th>year</th>\n      <th>first_name</th>\n      <th>num</th>\n      <th>cumulative_olivias</th>\n    </tr>\n  </thead>\n  <tbody>\n    <tr>\n      <th>0</th>\n      <td>1991</td>\n      <td>Olivia</td>\n      <td>5601</td>\n      <td>5601</td>\n    </tr>\n    <tr>\n      <th>1</th>\n      <td>1992</td>\n      <td>Olivia</td>\n      <td>5809</td>\n      <td>11410</td>\n    </tr>\n    <tr>\n      <th>2</th>\n      <td>1993</td>\n      <td>Olivia</td>\n      <td>6340</td>\n      <td>17750</td>\n    </tr>\n    <tr>\n      <th>3</th>\n      <td>1994</td>\n      <td>Olivia</td>\n      <td>6434</td>\n      <td>24184</td>\n    </tr>\n    <tr>\n      <th>4</th>\n      <td>1995</td>\n      <td>Olivia</td>\n      <td>7624</td>\n      <td>31808</td>\n    </tr>\n    <tr>\n      <th>5</th>\n      <td>1996</td>\n      <td>Olivia</td>\n      <td>8124</td>\n      <td>39932</td>\n    </tr>\n    <tr>\n      <th>6</th>\n      <td>1997</td>\n      <td>Olivia</td>\n      <td>9477</td>\n      <td>49409</td>\n    </tr>\n    <tr>\n      <th>7</th>\n      <td>1998</td>\n      <td>Olivia</td>\n      <td>10610</td>\n      <td>60019</td>\n    </tr>\n    <tr>\n      <th>8</th>\n      <td>1999</td>\n      <td>Olivia</td>\n      <td>11255</td>\n      <td>71274</td>\n    </tr>\n    <tr>\n      <th>9</th>\n      <td>2000</td>\n      <td>Olivia</td>\n      <td>12852</td>\n      <td>84126</td>\n    </tr>\n    <tr>\n      <th>10</th>\n      <td>2001</td>\n      <td>Olivia</td>\n      <td>13977</td>\n      <td>98103</td>\n    </tr>\n    <tr>\n      <th>11</th>\n      <td>2002</td>\n      <td>Olivia</td>\n      <td>14630</td>\n      <td>112733</td>\n    </tr>\n    <tr>\n      <th>12</th>\n      <td>2003</td>\n      <td>Olivia</td>\n      <td>16152</td>\n      <td>128885</td>\n    </tr>\n    <tr>\n      <th>13</th>\n      <td>2004</td>\n      <td>Olivia</td>\n      <td>16106</td>\n      <td>144991</td>\n    </tr>\n    <tr>\n      <th>14</th>\n      <td>2005</td>\n      <td>Olivia</td>\n      <td>15694</td>\n      <td>160685</td>\n    </tr>\n    <tr>\n      <th>15</th>\n      <td>2006</td>\n      <td>Olivia</td>\n      <td>15501</td>\n      <td>176186</td>\n    </tr>\n    <tr>\n      <th>16</th>\n      <td>2007</td>\n      <td>Olivia</td>\n      <td>16584</td>\n      <td>192770</td>\n    </tr>\n    <tr>\n      <th>17</th>\n      <td>2008</td>\n      <td>Olivia</td>\n      <td>17084</td>\n      <td>209854</td>\n    </tr>\n    <tr>\n      <th>18</th>\n      <td>2009</td>\n      <td>Olivia</td>\n      <td>17438</td>\n      <td>227292</td>\n    </tr>\n    <tr>\n      <th>19</th>\n      <td>2010</td>\n      <td>Olivia</td>\n      <td>17029</td>\n      <td>244321</td>\n    </tr>\n    <tr>\n      <th>20</th>\n      <td>2011</td>\n      <td>Olivia</td>\n      <td>17327</td>\n      <td>261648</td>\n    </tr>\n    <tr>\n      <th>21</th>\n      <td>2012</td>\n      <td>Olivia</td>\n      <td>17320</td>\n      <td>278968</td>\n    </tr>\n    <tr>\n      <th>22</th>\n      <td>2013</td>\n      <td>Olivia</td>\n      <td>18439</td>\n      <td>297407</td>\n    </tr>\n    <tr>\n      <th>23</th>\n      <td>2014</td>\n      <td>Olivia</td>\n      <td>19823</td>\n      <td>317230</td>\n    </tr>\n    <tr>\n      <th>24</th>\n      <td>2015</td>\n      <td>Olivia</td>\n      <td>19710</td>\n      <td>336940</td>\n    </tr>\n    <tr>\n      <th>25</th>\n      <td>2016</td>\n      <td>Olivia</td>\n      <td>19380</td>\n      <td>356320</td>\n    </tr>\n    <tr>\n      <th>26</th>\n      <td>2017</td>\n      <td>Olivia</td>\n      <td>18744</td>\n      <td>375064</td>\n    </tr>\n    <tr>\n      <th>27</th>\n      <td>2018</td>\n      <td>Olivia</td>\n      <td>18011</td>\n      <td>393075</td>\n    </tr>\n    <tr>\n      <th>28</th>\n      <td>2019</td>\n      <td>Olivia</td>\n      <td>18508</td>\n      <td>411583</td>\n    </tr>\n    <tr>\n      <th>29</th>\n      <td>2020</td>\n      <td>Olivia</td>\n      <td>17535</td>\n      <td>429118</td>\n    </tr>\n  </tbody>\n</table>\n</div>"
     },
     "execution_count": 6,
     "metadata": {},
     "output_type": "execute_result"
    }
   ],
   "source": [
    "%%sql\n",
    "SELECT \n",
    "    year,\n",
    "    first_name,\n",
    "    num,\n",
    "    SUM(num) OVER (ORDER BY year) AS cumulative_olivias\n",
    "FROM \n",
    "    baby_names\n",
    "WHERE \n",
    "    first_name = 'Olivia'\n",
    "ORDER BY \n",
    "    year;"
   ],
   "metadata": {
    "collapsed": false,
    "SqlCellData": {
     "data_source_name": "postgres@localhost",
     "variableName$1": "df_sql4"
    },
    "ExecuteTime": {
     "end_time": "2024-03-19T12:46:12.180592Z",
     "start_time": "2024-03-19T12:46:04.854634700Z"
    }
   },
   "id": "ef56d87f17b7b40",
   "execution_count": 6
  },
  {
   "cell_type": "markdown",
   "source": [
    "## 6. Many males with the same name\n",
    "<p>Wow, Olivia has had a meteoric rise! Let's take a look at traditionally male names now. We saw in the first task that there are nine traditionally male names given to at least 5,000 babies every single year in our 101-year dataset! Those names are classics, but showing up in the dataset every year doesn't necessarily mean that the timeless names were the most popular. Let's explore popular male names a little further.</p>\n",
    "<p>In the next two tasks, we will build up to listing every year along with the most popular male name in that year. This presents a common problem: how do we find the greatest X in a group? Or, in the context of this problem, how do we find the male name given to the highest number of babies in a year? </p>\n",
    "<p>In SQL, one approach is to use a subquery. We can first write a query that selects the <code>year</code> and the maximum <code>num</code> of babies given any single male name in that year. For example, in 1989, the male name given to the highest number of babies was given to 65,339 babies. We'll write this query in this task. In the next task, we can use the code from this task as a subquery to look up the <code>first_name</code> that was given to 65,339 babies in 1989… as well as the top male first name for all other years!</p>"
   ],
   "metadata": {
    "collapsed": false
   },
   "id": "88319e4fe59f65ed"
  },
  {
   "cell_type": "code",
   "outputs": [
    {
     "data": {
      "text/plain": "     year  max_num\n0    1964    82642\n1    1969    85201\n2    2008    22603\n3    1991    60793\n4    1989    65399\n..    ...      ...\n96   1923    57469\n97   2012    19088\n98   1954    88576\n99   1988    64150\n100  1959    85224\n\n[101 rows x 2 columns]",
      "text/html": "<div>\n<style scoped>\n    .dataframe tbody tr th:only-of-type {\n        vertical-align: middle;\n    }\n\n    .dataframe tbody tr th {\n        vertical-align: top;\n    }\n\n    .dataframe thead th {\n        text-align: right;\n    }\n</style>\n<table border=\"1\" class=\"dataframe\">\n  <thead>\n    <tr style=\"text-align: right;\">\n      <th></th>\n      <th>year</th>\n      <th>max_num</th>\n    </tr>\n  </thead>\n  <tbody>\n    <tr>\n      <th>0</th>\n      <td>1964</td>\n      <td>82642</td>\n    </tr>\n    <tr>\n      <th>1</th>\n      <td>1969</td>\n      <td>85201</td>\n    </tr>\n    <tr>\n      <th>2</th>\n      <td>2008</td>\n      <td>22603</td>\n    </tr>\n    <tr>\n      <th>3</th>\n      <td>1991</td>\n      <td>60793</td>\n    </tr>\n    <tr>\n      <th>4</th>\n      <td>1989</td>\n      <td>65399</td>\n    </tr>\n    <tr>\n      <th>...</th>\n      <td>...</td>\n      <td>...</td>\n    </tr>\n    <tr>\n      <th>96</th>\n      <td>1923</td>\n      <td>57469</td>\n    </tr>\n    <tr>\n      <th>97</th>\n      <td>2012</td>\n      <td>19088</td>\n    </tr>\n    <tr>\n      <th>98</th>\n      <td>1954</td>\n      <td>88576</td>\n    </tr>\n    <tr>\n      <th>99</th>\n      <td>1988</td>\n      <td>64150</td>\n    </tr>\n    <tr>\n      <th>100</th>\n      <td>1959</td>\n      <td>85224</td>\n    </tr>\n  </tbody>\n</table>\n<p>101 rows × 2 columns</p>\n</div>"
     },
     "execution_count": 7,
     "metadata": {},
     "output_type": "execute_result"
    }
   ],
   "source": [
    "%%sql\n",
    "SELECT \n",
    "    year,\n",
    "    MAX(num) AS max_num\n",
    "FROM \n",
    "    baby_names\n",
    "WHERE \n",
    "    sex = 'M'\n",
    "GROUP BY \n",
    "    year;"
   ],
   "metadata": {
    "collapsed": false,
    "SqlCellData": {
     "data_source_name": "postgres@localhost",
     "variableName$1": "df_sql5"
    },
    "ExecuteTime": {
     "end_time": "2024-03-19T12:46:12.414416Z",
     "start_time": "2024-03-19T12:46:05.452714300Z"
    }
   },
   "id": "c047a8f507f5c91d",
   "execution_count": 7
  },
  {
   "cell_type": "markdown",
   "source": [
    "## 7. Top male names over the years\n",
    "<p>In the previous task, we found the maximum number of babies given any one male name in each year. Incredibly, the most popular name each year varied from being given to less than 20,000 babies to being given to more than 90,000! </p>\n",
    "<p>In this task, we find out what that top male name is for each year in our dataset. </p>"
   ],
   "metadata": {
    "collapsed": false
   },
   "id": "2b753c3b0c62f339"
  },
  {
   "cell_type": "code",
   "outputs": [
    {
     "data": {
      "text/plain": "     year first_name    num\n0    2020       Liam  19659\n1    2019       Liam  20555\n2    2018       Liam  19924\n3    2017       Liam  18824\n4    2016       Noah  19154\n..    ...        ...    ...\n96   1924     Robert  60801\n97   1923       John  57469\n98   1922       John  57280\n99   1921       John  58215\n100  1920       John  56914\n\n[101 rows x 3 columns]",
      "text/html": "<div>\n<style scoped>\n    .dataframe tbody tr th:only-of-type {\n        vertical-align: middle;\n    }\n\n    .dataframe tbody tr th {\n        vertical-align: top;\n    }\n\n    .dataframe thead th {\n        text-align: right;\n    }\n</style>\n<table border=\"1\" class=\"dataframe\">\n  <thead>\n    <tr style=\"text-align: right;\">\n      <th></th>\n      <th>year</th>\n      <th>first_name</th>\n      <th>num</th>\n    </tr>\n  </thead>\n  <tbody>\n    <tr>\n      <th>0</th>\n      <td>2020</td>\n      <td>Liam</td>\n      <td>19659</td>\n    </tr>\n    <tr>\n      <th>1</th>\n      <td>2019</td>\n      <td>Liam</td>\n      <td>20555</td>\n    </tr>\n    <tr>\n      <th>2</th>\n      <td>2018</td>\n      <td>Liam</td>\n      <td>19924</td>\n    </tr>\n    <tr>\n      <th>3</th>\n      <td>2017</td>\n      <td>Liam</td>\n      <td>18824</td>\n    </tr>\n    <tr>\n      <th>4</th>\n      <td>2016</td>\n      <td>Noah</td>\n      <td>19154</td>\n    </tr>\n    <tr>\n      <th>...</th>\n      <td>...</td>\n      <td>...</td>\n      <td>...</td>\n    </tr>\n    <tr>\n      <th>96</th>\n      <td>1924</td>\n      <td>Robert</td>\n      <td>60801</td>\n    </tr>\n    <tr>\n      <th>97</th>\n      <td>1923</td>\n      <td>John</td>\n      <td>57469</td>\n    </tr>\n    <tr>\n      <th>98</th>\n      <td>1922</td>\n      <td>John</td>\n      <td>57280</td>\n    </tr>\n    <tr>\n      <th>99</th>\n      <td>1921</td>\n      <td>John</td>\n      <td>58215</td>\n    </tr>\n    <tr>\n      <th>100</th>\n      <td>1920</td>\n      <td>John</td>\n      <td>56914</td>\n    </tr>\n  </tbody>\n</table>\n<p>101 rows × 3 columns</p>\n</div>"
     },
     "execution_count": 8,
     "metadata": {},
     "output_type": "execute_result"
    }
   ],
   "source": [
    "%%sql\n",
    "SELECT \n",
    "    subquery.year,\n",
    "    baby_names.first_name,\n",
    "    subquery.max_num AS num\n",
    "FROM \n",
    "    baby_names\n",
    "INNER JOIN (\n",
    "    SELECT \n",
    "        year,\n",
    "        MAX(num) AS max_num\n",
    "    FROM \n",
    "        baby_names\n",
    "    WHERE \n",
    "        sex = 'M'\n",
    "    GROUP BY \n",
    "        year\n",
    ") AS subquery\n",
    "ON \n",
    "    baby_names.year = subquery.year\n",
    "    AND baby_names.num = subquery.max_num\n",
    "    AND baby_names.sex = 'M'\n",
    "ORDER BY \n",
    "    subquery.year DESC;"
   ],
   "metadata": {
    "collapsed": false,
    "SqlCellData": {
     "data_source_name": "postgres@localhost",
     "variableName$1": "df_sql6"
    },
    "ExecuteTime": {
     "end_time": "2024-03-19T12:46:12.632718Z",
     "start_time": "2024-03-19T12:46:05.822769100Z"
    }
   },
   "id": "34ae77c1520359eb",
   "execution_count": 8
  },
  {
   "cell_type": "markdown",
   "source": [
    "## 8. The most years at number one\n",
    "<p>Noah and Liam have ruled the roost in the last few years, but if we scroll down in the results, it looks like Michael and Jacob have also spent a good number of years as the top name! Which name has been number one for the largest number of years? Let's use a common table expression to find out. </p>"
   ],
   "metadata": {
    "collapsed": false
   },
   "id": "fc393f5d40353824"
  },
  {
   "cell_type": "code",
   "outputs": [
    {
     "data": {
      "text/plain": "  first_name  count_top_name\n0    Michael              44\n1     Robert              17\n2      Jacob              14\n3      James              13\n4       Liam               4\n5       John               4\n6       Noah               4\n7      David               1",
      "text/html": "<div>\n<style scoped>\n    .dataframe tbody tr th:only-of-type {\n        vertical-align: middle;\n    }\n\n    .dataframe tbody tr th {\n        vertical-align: top;\n    }\n\n    .dataframe thead th {\n        text-align: right;\n    }\n</style>\n<table border=\"1\" class=\"dataframe\">\n  <thead>\n    <tr style=\"text-align: right;\">\n      <th></th>\n      <th>first_name</th>\n      <th>count_top_name</th>\n    </tr>\n  </thead>\n  <tbody>\n    <tr>\n      <th>0</th>\n      <td>Michael</td>\n      <td>44</td>\n    </tr>\n    <tr>\n      <th>1</th>\n      <td>Robert</td>\n      <td>17</td>\n    </tr>\n    <tr>\n      <th>2</th>\n      <td>Jacob</td>\n      <td>14</td>\n    </tr>\n    <tr>\n      <th>3</th>\n      <td>James</td>\n      <td>13</td>\n    </tr>\n    <tr>\n      <th>4</th>\n      <td>Liam</td>\n      <td>4</td>\n    </tr>\n    <tr>\n      <th>5</th>\n      <td>John</td>\n      <td>4</td>\n    </tr>\n    <tr>\n      <th>6</th>\n      <td>Noah</td>\n      <td>4</td>\n    </tr>\n    <tr>\n      <th>7</th>\n      <td>David</td>\n      <td>1</td>\n    </tr>\n  </tbody>\n</table>\n</div>"
     },
     "execution_count": 9,
     "metadata": {},
     "output_type": "execute_result"
    }
   ],
   "source": [
    "%%sql\n",
    "WITH TopNames AS (\n",
    "    SELECT \n",
    "        subquery.year,\n",
    "        baby_names.first_name,\n",
    "        subquery.max_num AS num_babies\n",
    "    FROM \n",
    "        baby_names\n",
    "    INNER JOIN (\n",
    "        SELECT \n",
    "            year,\n",
    "            MAX(num) AS max_num\n",
    "        FROM \n",
    "            baby_names\n",
    "        WHERE \n",
    "            sex = 'M'\n",
    "        GROUP BY \n",
    "            year\n",
    "    ) AS subquery\n",
    "    ON \n",
    "        baby_names.year = subquery.year\n",
    "        AND baby_names.num = subquery.max_num\n",
    "        AND baby_names.sex = 'M'\n",
    ")\n",
    "SELECT \n",
    "    first_name,\n",
    "    COUNT(*) AS count_top_name\n",
    "FROM \n",
    "    TopNames\n",
    "GROUP BY \n",
    "    first_name\n",
    "ORDER BY \n",
    "    count_top_name DESC;"
   ],
   "metadata": {
    "collapsed": false,
    "SqlCellData": {
     "data_source_name": "postgres@localhost",
     "variableName$1": "df_sql7"
    },
    "ExecuteTime": {
     "end_time": "2024-03-19T12:46:12.730409Z",
     "start_time": "2024-03-19T12:46:06.194267Z"
    }
   },
   "id": "1ad55eaef2e23891",
   "execution_count": 9
  }
 ],
 "metadata": {
  "kernelspec": {
   "display_name": "Python 3",
   "language": "python",
   "name": "python3"
  },
  "language_info": {
   "codemirror_mode": {
    "name": "ipython",
    "version": 2
   },
   "file_extension": ".py",
   "mimetype": "text/x-python",
   "name": "python",
   "nbconvert_exporter": "python",
   "pygments_lexer": "ipython2",
   "version": "2.7.6"
  }
 },
 "nbformat": 4,
 "nbformat_minor": 5
}
