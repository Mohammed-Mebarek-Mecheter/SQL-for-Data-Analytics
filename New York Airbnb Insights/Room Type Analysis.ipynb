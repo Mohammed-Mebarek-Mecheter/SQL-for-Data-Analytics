{
 "cells": [
  {
   "cell_type": "code",
   "id": "initial_id",
   "metadata": {
    "collapsed": true,
    "ExecuteTime": {
     "end_time": "2024-04-05T05:40:35.006629Z",
     "start_time": "2024-04-05T05:40:34.066271Z"
    }
   },
   "source": "import pandas as pd",
   "outputs": [],
   "execution_count": 1
  },
  {
   "metadata": {
    "ExecuteTime": {
     "end_time": "2024-04-05T05:40:37.699880Z",
     "start_time": "2024-04-05T05:40:37.594941Z"
    }
   },
   "cell_type": "code",
   "source": "airbnb = pd.read_csv('airbnb_data.csv')",
   "id": "25ca61557de36db1",
   "outputs": [],
   "execution_count": 2
  },
  {
   "metadata": {
    "SqlCellData": {
     "variableName$1": "df_sql"
    },
    "ExecuteTime": {
     "end_time": "2024-04-05T05:42:23.161296Z",
     "start_time": "2024-04-05T05:42:23.061661500Z"
    }
   },
   "cell_type": "code",
   "source": [
    "%%sql\n",
    "SELECT \n",
    "    room_type,\n",
    "    COUNT(*) AS num_listings\n",
    "FROM \n",
    "    airbnb\n",
    "GROUP BY \n",
    "    room_type\n",
    "ORDER BY \n",
    "    num_listings DESC\n",
    "LIMIT 1;"
   ],
   "id": "9f54e851b237d99d",
   "outputs": [
    {
     "data": {
      "text/plain": [
       "      room_type  num_listings\n",
       "0  Entire place          4075"
      ],
      "text/html": [
       "<div>\n",
       "<style scoped>\n",
       "    .dataframe tbody tr th:only-of-type {\n",
       "        vertical-align: middle;\n",
       "    }\n",
       "\n",
       "    .dataframe tbody tr th {\n",
       "        vertical-align: top;\n",
       "    }\n",
       "\n",
       "    .dataframe thead th {\n",
       "        text-align: right;\n",
       "    }\n",
       "</style>\n",
       "<table border=\"1\" class=\"dataframe\">\n",
       "  <thead>\n",
       "    <tr style=\"text-align: right;\">\n",
       "      <th></th>\n",
       "      <th>room_type</th>\n",
       "      <th>num_listings</th>\n",
       "    </tr>\n",
       "  </thead>\n",
       "  <tbody>\n",
       "    <tr>\n",
       "      <th>0</th>\n",
       "      <td>Entire place</td>\n",
       "      <td>4075</td>\n",
       "    </tr>\n",
       "  </tbody>\n",
       "</table>\n",
       "</div>"
      ]
     },
     "execution_count": 5,
     "metadata": {},
     "output_type": "execute_result"
    }
   ],
   "execution_count": 5
  },
  {
   "metadata": {
    "SqlCellData": {
     "variableName$1": "df_sql1"
    },
    "ExecuteTime": {
     "end_time": "2024-04-05T05:43:02.113503Z",
     "start_time": "2024-04-05T05:43:02.015603500Z"
    }
   },
   "cell_type": "code",
   "source": [
    "%%sql\n",
    "SELECT \n",
    "    room_type,\n",
    "    AVG(rating) AS avg_rating,\n",
    "    AVG(price) AS avg_price\n",
    "FROM \n",
    "    airbnb\n",
    "GROUP BY \n",
    "    room_type;"
   ],
   "id": "c28bae805558f956",
   "outputs": [
    {
     "data": {
      "text/plain": [
       "      room_type  avg_rating   avg_price\n",
       "0  Private Room    4.010318   81.928449\n",
       "1  Entire place    4.015791  193.170798\n",
       "2   Shared room    3.963321   68.006061"
      ],
      "text/html": [
       "<div>\n",
       "<style scoped>\n",
       "    .dataframe tbody tr th:only-of-type {\n",
       "        vertical-align: middle;\n",
       "    }\n",
       "\n",
       "    .dataframe tbody tr th {\n",
       "        vertical-align: top;\n",
       "    }\n",
       "\n",
       "    .dataframe thead th {\n",
       "        text-align: right;\n",
       "    }\n",
       "</style>\n",
       "<table border=\"1\" class=\"dataframe\">\n",
       "  <thead>\n",
       "    <tr style=\"text-align: right;\">\n",
       "      <th></th>\n",
       "      <th>room_type</th>\n",
       "      <th>avg_rating</th>\n",
       "      <th>avg_price</th>\n",
       "    </tr>\n",
       "  </thead>\n",
       "  <tbody>\n",
       "    <tr>\n",
       "      <th>0</th>\n",
       "      <td>Private Room</td>\n",
       "      <td>4.010318</td>\n",
       "      <td>81.928449</td>\n",
       "    </tr>\n",
       "    <tr>\n",
       "      <th>1</th>\n",
       "      <td>Entire place</td>\n",
       "      <td>4.015791</td>\n",
       "      <td>193.170798</td>\n",
       "    </tr>\n",
       "    <tr>\n",
       "      <th>2</th>\n",
       "      <td>Shared room</td>\n",
       "      <td>3.963321</td>\n",
       "      <td>68.006061</td>\n",
       "    </tr>\n",
       "  </tbody>\n",
       "</table>\n",
       "</div>"
      ]
     },
     "execution_count": 6,
     "metadata": {},
     "output_type": "execute_result"
    }
   ],
   "execution_count": 6
  },
  {
   "metadata": {
    "SqlCellData": {
     "variableName$1": "df_sql2"
    },
    "ExecuteTime": {
     "end_time": "2024-04-05T05:45:39.602657Z",
     "start_time": "2024-04-05T05:45:39.467515400Z"
    }
   },
   "cell_type": "code",
   "source": [
    "%%sql\n",
    "SELECT \n",
    "    neighbourhood_full,\n",
    "    room_type,\n",
    "    COUNT(*) AS num_listings\n",
    "FROM \n",
    "    airbnb\n",
    "GROUP BY \n",
    "    neighbourhood_full, room_type\n",
    "ORDER BY \n",
    "    num_listings DESC\n",
    "LIMIT 10;"
   ],
   "id": "b1fbffb662d6a266",
   "outputs": [
    {
     "data": {
      "text/plain": [
       "             neighbourhood_full     room_type  num_listings\n",
       "0  Brooklyn, Bedford-Stuyvesant  Private Room           336\n",
       "1        Brooklyn, Williamsburg  Entire place           309\n",
       "2        Brooklyn, Williamsburg  Private Room           293\n",
       "3  Brooklyn, Bedford-Stuyvesant  Entire place           286\n",
       "4            Brooklyn, Bushwick  Private Room           275\n",
       "5             Manhattan, Harlem  Private Room           251\n",
       "6    Manhattan, Upper East Side  Entire place           208\n",
       "7             Manhattan, Harlem  Entire place           186\n",
       "8    Manhattan, Upper West Side  Entire place           182\n",
       "9       Manhattan, East Village  Entire place           176"
      ],
      "text/html": [
       "<div>\n",
       "<style scoped>\n",
       "    .dataframe tbody tr th:only-of-type {\n",
       "        vertical-align: middle;\n",
       "    }\n",
       "\n",
       "    .dataframe tbody tr th {\n",
       "        vertical-align: top;\n",
       "    }\n",
       "\n",
       "    .dataframe thead th {\n",
       "        text-align: right;\n",
       "    }\n",
       "</style>\n",
       "<table border=\"1\" class=\"dataframe\">\n",
       "  <thead>\n",
       "    <tr style=\"text-align: right;\">\n",
       "      <th></th>\n",
       "      <th>neighbourhood_full</th>\n",
       "      <th>room_type</th>\n",
       "      <th>num_listings</th>\n",
       "    </tr>\n",
       "  </thead>\n",
       "  <tbody>\n",
       "    <tr>\n",
       "      <th>0</th>\n",
       "      <td>Brooklyn, Bedford-Stuyvesant</td>\n",
       "      <td>Private Room</td>\n",
       "      <td>336</td>\n",
       "    </tr>\n",
       "    <tr>\n",
       "      <th>1</th>\n",
       "      <td>Brooklyn, Williamsburg</td>\n",
       "      <td>Entire place</td>\n",
       "      <td>309</td>\n",
       "    </tr>\n",
       "    <tr>\n",
       "      <th>2</th>\n",
       "      <td>Brooklyn, Williamsburg</td>\n",
       "      <td>Private Room</td>\n",
       "      <td>293</td>\n",
       "    </tr>\n",
       "    <tr>\n",
       "      <th>3</th>\n",
       "      <td>Brooklyn, Bedford-Stuyvesant</td>\n",
       "      <td>Entire place</td>\n",
       "      <td>286</td>\n",
       "    </tr>\n",
       "    <tr>\n",
       "      <th>4</th>\n",
       "      <td>Brooklyn, Bushwick</td>\n",
       "      <td>Private Room</td>\n",
       "      <td>275</td>\n",
       "    </tr>\n",
       "    <tr>\n",
       "      <th>5</th>\n",
       "      <td>Manhattan, Harlem</td>\n",
       "      <td>Private Room</td>\n",
       "      <td>251</td>\n",
       "    </tr>\n",
       "    <tr>\n",
       "      <th>6</th>\n",
       "      <td>Manhattan, Upper East Side</td>\n",
       "      <td>Entire place</td>\n",
       "      <td>208</td>\n",
       "    </tr>\n",
       "    <tr>\n",
       "      <th>7</th>\n",
       "      <td>Manhattan, Harlem</td>\n",
       "      <td>Entire place</td>\n",
       "      <td>186</td>\n",
       "    </tr>\n",
       "    <tr>\n",
       "      <th>8</th>\n",
       "      <td>Manhattan, Upper West Side</td>\n",
       "      <td>Entire place</td>\n",
       "      <td>182</td>\n",
       "    </tr>\n",
       "    <tr>\n",
       "      <th>9</th>\n",
       "      <td>Manhattan, East Village</td>\n",
       "      <td>Entire place</td>\n",
       "      <td>176</td>\n",
       "    </tr>\n",
       "  </tbody>\n",
       "</table>\n",
       "</div>"
      ]
     },
     "execution_count": 9,
     "metadata": {},
     "output_type": "execute_result"
    }
   ],
   "execution_count": 9
  },
  {
   "metadata": {},
   "cell_type": "markdown",
   "source": [
    "Most Common Room Type:\n",
    "\n",
    "- Identified the most common room type among Airbnb listings in the dataset.\n",
    "- Counted the occurrences of each room type and selected the most frequent one.\n",
    "- Result: The most common room type is \"Entire place\", with 4,075 listings.\n",
    "\n",
    "Average Ratings and Prices by Room Type:\n",
    "\n",
    "- Calculated the average rating and average price for each room type.\n",
    "- Grouped the listings by room type and compute the average rating and price.\n",
    "- Results:\n",
    "  * Private Room: Average Rating = 4.01, Average Price = $81.93\n",
    "  * Entire Place: Average Rating = 4.02, Average Price = $193.17\n",
    "  * Shared Room: Average Rating = 3.96, Average Price = $68.01\n",
    "\n",
    "Popularity of Room Types in Specific Neighborhoods:\n",
    "\n",
    "- Examined the popularity of different room types within specific neighborhoods.\n",
    "- Counted the occurrences of each room type within each neighborhood and ranked them by the number of listings.\n",
    "- Identified the top 10 combinations of neighborhood and room type with the highest number of listings.\n",
    "\n",
    "These analyses provide insights into the distribution, ratings, prices, and popularity of different room types among Airbnb listings, both overall and within specific neighborhoods."
   ],
   "id": "460fc7acd2cd256d"
  }
 ],
 "metadata": {
  "kernelspec": {
   "display_name": "Python 3",
   "language": "python",
   "name": "python3"
  },
  "language_info": {
   "codemirror_mode": {
    "name": "ipython",
    "version": 2
   },
   "file_extension": ".py",
   "mimetype": "text/x-python",
   "name": "python",
   "nbconvert_exporter": "python",
   "pygments_lexer": "ipython2",
   "version": "2.7.6"
  }
 },
 "nbformat": 4,
 "nbformat_minor": 5
}
