{
 "cells": [
  {
   "cell_type": "code",
   "id": "initial_id",
   "metadata": {
    "collapsed": true,
    "ExecuteTime": {
     "end_time": "2024-04-05T05:32:03.821183Z",
     "start_time": "2024-04-05T05:32:02.864142Z"
    }
   },
   "source": "import pandas as pd",
   "outputs": [],
   "execution_count": 1
  },
  {
   "metadata": {
    "ExecuteTime": {
     "end_time": "2024-04-05T05:32:20.738633Z",
     "start_time": "2024-04-05T05:32:20.651553Z"
    }
   },
   "cell_type": "code",
   "source": "airbnb = pd.read_csv('airbnb_data.csv')",
   "id": "e23587866fcd50c",
   "outputs": [],
   "execution_count": 2
  },
  {
   "metadata": {
    "SqlCellData": {
     "variableName$1": "df_sql"
    },
    "ExecuteTime": {
     "end_time": "2024-04-05T05:32:56.244460Z",
     "start_time": "2024-04-05T05:32:55.960473700Z"
    }
   },
   "cell_type": "code",
   "source": [
    "%%sql\n",
    "SELECT AVG(num_listings) AS avg_listings_per_host\n",
    "FROM (\n",
    "    SELECT host_id, COUNT(DISTINCT listing_id) AS num_listings\n",
    "    FROM airbnb\n",
    "    GROUP BY host_id\n",
    ") AS host_listings;"
   ],
   "id": "95f19c4be3b4f606",
   "outputs": [
    {
     "data": {
      "text/plain": [
       "   avg_listings_per_host\n",
       "0               1.101082"
      ],
      "text/html": [
       "<div>\n",
       "<style scoped>\n",
       "    .dataframe tbody tr th:only-of-type {\n",
       "        vertical-align: middle;\n",
       "    }\n",
       "\n",
       "    .dataframe tbody tr th {\n",
       "        vertical-align: top;\n",
       "    }\n",
       "\n",
       "    .dataframe thead th {\n",
       "        text-align: right;\n",
       "    }\n",
       "</style>\n",
       "<table border=\"1\" class=\"dataframe\">\n",
       "  <thead>\n",
       "    <tr style=\"text-align: right;\">\n",
       "      <th></th>\n",
       "      <th>avg_listings_per_host</th>\n",
       "    </tr>\n",
       "  </thead>\n",
       "  <tbody>\n",
       "    <tr>\n",
       "      <th>0</th>\n",
       "      <td>1.101082</td>\n",
       "    </tr>\n",
       "  </tbody>\n",
       "</table>\n",
       "</div>"
      ]
     },
     "execution_count": 3,
     "metadata": {},
     "output_type": "execute_result"
    }
   ],
   "execution_count": 3
  },
  {
   "metadata": {
    "SqlCellData": {
     "variableName$1": "df_sql1"
    },
    "ExecuteTime": {
     "end_time": "2024-04-05T05:33:42.684686Z",
     "start_time": "2024-04-05T05:33:42.586572500Z"
    }
   },
   "cell_type": "code",
   "source": [
    "%%sql\n",
    "SELECT \n",
    "    CORR(avg_rating, num_listings) AS correlation_rating_listings,\n",
    "    CORR(avg_price, num_listings) AS correlation_price_listings\n",
    "FROM (\n",
    "    SELECT \n",
    "        host_id,\n",
    "        AVG(rating) AS avg_rating,\n",
    "        AVG(price) AS avg_price,\n",
    "        COUNT(DISTINCT listing_id) AS num_listings\n",
    "    FROM \n",
    "        airbnb\n",
    "    GROUP BY \n",
    "        host_id\n",
    ") AS host_data;"
   ],
   "id": "baac5e238f088909",
   "outputs": [
    {
     "data": {
      "text/plain": [
       "   correlation_rating_listings  correlation_price_listings\n",
       "0                     0.002957                    0.003868"
      ],
      "text/html": [
       "<div>\n",
       "<style scoped>\n",
       "    .dataframe tbody tr th:only-of-type {\n",
       "        vertical-align: middle;\n",
       "    }\n",
       "\n",
       "    .dataframe tbody tr th {\n",
       "        vertical-align: top;\n",
       "    }\n",
       "\n",
       "    .dataframe thead th {\n",
       "        text-align: right;\n",
       "    }\n",
       "</style>\n",
       "<table border=\"1\" class=\"dataframe\">\n",
       "  <thead>\n",
       "    <tr style=\"text-align: right;\">\n",
       "      <th></th>\n",
       "      <th>correlation_rating_listings</th>\n",
       "      <th>correlation_price_listings</th>\n",
       "    </tr>\n",
       "  </thead>\n",
       "  <tbody>\n",
       "    <tr>\n",
       "      <th>0</th>\n",
       "      <td>0.002957</td>\n",
       "      <td>0.003868</td>\n",
       "    </tr>\n",
       "  </tbody>\n",
       "</table>\n",
       "</div>"
      ]
     },
     "execution_count": 4,
     "metadata": {},
     "output_type": "execute_result"
    }
   ],
   "execution_count": 4
  },
  {
   "metadata": {},
   "cell_type": "markdown",
   "source": [
    "Average Number of Listings per Host:\n",
    "\n",
    "- Calculated the average number of listings per host in the dataset.\n",
    "- Counted the distinct number of listings associated with each host and then calculated the average across all hosts.\n",
    "- Result: The average number of listings per host is approximately 1.10.\n",
    "\n",
    "Correlation between Number of Listings and Average Rating or Price:\n",
    "\n",
    "- Investigated whether there is a correlation between the number of listings and the average rating or price per host.\n",
    "- Calculated the correlation coefficients between the number of listings and the average rating or price.\n",
    "- Results: \n",
    "  - Correlation between the number of listings and average rating: 0.002957\n",
    "  - Correlation between the number of listings and average price: 0.003868\n",
    "- These values indicate that there is almost no linear relationship between the number of listings and either the average rating or the average price per host in the dataset."
   ],
   "id": "6c38cd82f3f66282"
  }
 ],
 "metadata": {
  "kernelspec": {
   "display_name": "Python 3",
   "language": "python",
   "name": "python3"
  },
  "language_info": {
   "codemirror_mode": {
    "name": "ipython",
    "version": 2
   },
   "file_extension": ".py",
   "mimetype": "text/x-python",
   "name": "python",
   "nbconvert_exporter": "python",
   "pygments_lexer": "ipython2",
   "version": "2.7.6"
  }
 },
 "nbformat": 4,
 "nbformat_minor": 5
}
