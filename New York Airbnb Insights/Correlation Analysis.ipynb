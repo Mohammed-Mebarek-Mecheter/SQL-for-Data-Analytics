{
 "cells": [
  {
   "cell_type": "code",
   "id": "initial_id",
   "metadata": {
    "collapsed": true,
    "ExecuteTime": {
     "end_time": "2024-04-05T05:53:28.976583Z",
     "start_time": "2024-04-05T05:53:27.721882Z"
    }
   },
   "source": "import pandas as pd",
   "outputs": [],
   "execution_count": 1
  },
  {
   "metadata": {
    "ExecuteTime": {
     "end_time": "2024-04-05T05:53:32.170793Z",
     "start_time": "2024-04-05T05:53:32.075662Z"
    }
   },
   "cell_type": "code",
   "source": "airbnb = pd.read_csv('airbnb_data.csv')",
   "id": "8e1eb53bd4fd33fe",
   "outputs": [],
   "execution_count": 2
  },
  {
   "metadata": {
    "SqlCellData": {
     "variableName$1": "df_sql"
    },
    "ExecuteTime": {
     "end_time": "2024-04-05T05:54:05.311441Z",
     "start_time": "2024-04-05T05:54:05.006616400Z"
    }
   },
   "cell_type": "code",
   "source": [
    "%%sql\n",
    "SELECT \n",
    "    CORR(price, rating) AS correlation_price_rating\n",
    "FROM \n",
    "    airbnb\n",
    "WHERE \n",
    "    price IS NOT NULL\n",
    "    AND rating IS NOT NULL;"
   ],
   "id": "fa6a02f24759c013",
   "outputs": [
    {
     "data": {
      "text/plain": [
       "   correlation_price_rating\n",
       "0                 -0.004777"
      ],
      "text/html": [
       "<div>\n",
       "<style scoped>\n",
       "    .dataframe tbody tr th:only-of-type {\n",
       "        vertical-align: middle;\n",
       "    }\n",
       "\n",
       "    .dataframe tbody tr th {\n",
       "        vertical-align: top;\n",
       "    }\n",
       "\n",
       "    .dataframe thead th {\n",
       "        text-align: right;\n",
       "    }\n",
       "</style>\n",
       "<table border=\"1\" class=\"dataframe\">\n",
       "  <thead>\n",
       "    <tr style=\"text-align: right;\">\n",
       "      <th></th>\n",
       "      <th>correlation_price_rating</th>\n",
       "    </tr>\n",
       "  </thead>\n",
       "  <tbody>\n",
       "    <tr>\n",
       "      <th>0</th>\n",
       "      <td>-0.004777</td>\n",
       "    </tr>\n",
       "  </tbody>\n",
       "</table>\n",
       "</div>"
      ]
     },
     "execution_count": 3,
     "metadata": {},
     "output_type": "execute_result"
    }
   ],
   "execution_count": 3
  },
  {
   "metadata": {
    "SqlCellData": {
     "variableName$1": "df_sql1"
    },
    "ExecuteTime": {
     "end_time": "2024-04-05T05:54:56.015431Z",
     "start_time": "2024-04-05T05:54:55.942064200Z"
    }
   },
   "cell_type": "code",
   "source": [
    "%%sql\n",
    "SELECT \n",
    "    CORR(availability_365, number_of_reviews) AS correlation_availability_reviews\n",
    "FROM \n",
    "    airbnb\n",
    "WHERE \n",
    "    availability_365 IS NOT NULL\n",
    "    AND number_of_reviews IS NOT NULL;"
   ],
   "id": "e7e0d49923920265",
   "outputs": [
    {
     "data": {
      "text/plain": [
       "   correlation_availability_reviews\n",
       "0                          0.188975"
      ],
      "text/html": [
       "<div>\n",
       "<style scoped>\n",
       "    .dataframe tbody tr th:only-of-type {\n",
       "        vertical-align: middle;\n",
       "    }\n",
       "\n",
       "    .dataframe tbody tr th {\n",
       "        vertical-align: top;\n",
       "    }\n",
       "\n",
       "    .dataframe thead th {\n",
       "        text-align: right;\n",
       "    }\n",
       "</style>\n",
       "<table border=\"1\" class=\"dataframe\">\n",
       "  <thead>\n",
       "    <tr style=\"text-align: right;\">\n",
       "      <th></th>\n",
       "      <th>correlation_availability_reviews</th>\n",
       "    </tr>\n",
       "  </thead>\n",
       "  <tbody>\n",
       "    <tr>\n",
       "      <th>0</th>\n",
       "      <td>0.188975</td>\n",
       "    </tr>\n",
       "  </tbody>\n",
       "</table>\n",
       "</div>"
      ]
     },
     "execution_count": 4,
     "metadata": {},
     "output_type": "execute_result"
    }
   ],
   "execution_count": 4
  },
  {
   "metadata": {
    "SqlCellData": {
     "variableName$1": "df_sql2"
    },
    "ExecuteTime": {
     "end_time": "2024-04-05T05:55:29.259787Z",
     "start_time": "2024-04-05T05:55:29.171884800Z"
    }
   },
   "cell_type": "code",
   "source": [
    "%%sql\n",
    "SELECT \n",
    "    CORR(number_of_reviews, rating) AS correlation_reviews_rating\n",
    "FROM \n",
    "    airbnb\n",
    "WHERE \n",
    "    number_of_reviews IS NOT NULL\n",
    "    AND rating IS NOT NULL;"
   ],
   "id": "aa4776f3db1ae7e0",
   "outputs": [
    {
     "data": {
      "text/plain": [
       "   correlation_reviews_rating\n",
       "0                   -0.002888"
      ],
      "text/html": [
       "<div>\n",
       "<style scoped>\n",
       "    .dataframe tbody tr th:only-of-type {\n",
       "        vertical-align: middle;\n",
       "    }\n",
       "\n",
       "    .dataframe tbody tr th {\n",
       "        vertical-align: top;\n",
       "    }\n",
       "\n",
       "    .dataframe thead th {\n",
       "        text-align: right;\n",
       "    }\n",
       "</style>\n",
       "<table border=\"1\" class=\"dataframe\">\n",
       "  <thead>\n",
       "    <tr style=\"text-align: right;\">\n",
       "      <th></th>\n",
       "      <th>correlation_reviews_rating</th>\n",
       "    </tr>\n",
       "  </thead>\n",
       "  <tbody>\n",
       "    <tr>\n",
       "      <th>0</th>\n",
       "      <td>-0.002888</td>\n",
       "    </tr>\n",
       "  </tbody>\n",
       "</table>\n",
       "</div>"
      ]
     },
     "execution_count": 5,
     "metadata": {},
     "output_type": "execute_result"
    }
   ],
   "execution_count": 5
  },
  {
   "metadata": {},
   "cell_type": "markdown",
   "source": [
    "Correlation between Price and Ratings:\n",
    "\n",
    "- Calculated the correlation coefficient between the price and ratings of Airbnb listings.\n",
    "- Computed the correlation coefficient, filtering out null values for price or rating.\n",
    "- Result: The correlation coefficient between price and ratings is approximately -0.004777, indicating almost no linear relationship between these variables.\n",
    "\n",
    "Correlation between Availability and Number of Reviews:\n",
    "\n",
    "- Examined the correlation between the availability and the number of reviews of Airbnb listings.\n",
    "- Computed the correlation coefficient, filtering out null values for availability or number of reviews.\n",
    "- Result: The correlation coefficient between availability and number of reviews is approximately 0.188975, suggesting a weak to moderate positive linear relationship between these variables.\n",
    "\n",
    "Correlation between Number of Reviews and Ratings:\n",
    "\n",
    "- Investigated the correlation between the number of reviews and the ratings of Airbnb listings.\n",
    "- Computed the correlation coefficient, filtering out null values for number of reviews or ratings.\n",
    "- Result: The correlation coefficient between number of reviews and ratings is approximately -0.002888, indicating almost no linear relationship between these variables.\n",
    "\n",
    "These analyses provide insights into the relationships between various factors such as price, availability, number of reviews, and ratings of Airbnb listings. The correlation coefficients help understand the strength and direction of these relationships, assisting in making informed decisions related to Airbnb hosting or accommodation choices."
   ],
   "id": "67a22d7c49a892d0"
  }
 ],
 "metadata": {
  "kernelspec": {
   "display_name": "Python 3",
   "language": "python",
   "name": "python3"
  },
  "language_info": {
   "codemirror_mode": {
    "name": "ipython",
    "version": 2
   },
   "file_extension": ".py",
   "mimetype": "text/x-python",
   "name": "python",
   "nbconvert_exporter": "python",
   "pygments_lexer": "ipython2",
   "version": "2.7.6"
  }
 },
 "nbformat": 4,
 "nbformat_minor": 5
}
