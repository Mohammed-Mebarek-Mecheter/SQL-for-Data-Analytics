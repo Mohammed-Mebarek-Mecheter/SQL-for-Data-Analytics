{
 "cells": [
  {
   "cell_type": "code",
   "id": "initial_id",
   "metadata": {
    "collapsed": true,
    "ExecuteTime": {
     "end_time": "2024-04-05T04:46:23.148415Z",
     "start_time": "2024-04-05T04:46:21.894105Z"
    }
   },
   "source": "import pandas as pd",
   "outputs": [],
   "execution_count": 1
  },
  {
   "metadata": {
    "ExecuteTime": {
     "end_time": "2024-04-05T04:47:14.698734Z",
     "start_time": "2024-04-05T04:47:14.590868Z"
    }
   },
   "cell_type": "code",
   "source": "airbnb = pd.read_csv('airbnb_data.csv')",
   "id": "a48af2c8bd4a21ed",
   "outputs": [],
   "execution_count": 2
  },
  {
   "metadata": {
    "SqlCellData": {
     "variableName$1": "df_sql"
    },
    "ExecuteTime": {
     "end_time": "2024-04-05T04:50:26.552586Z",
     "start_time": "2024-04-05T04:50:26.155027800Z"
    }
   },
   "cell_type": "code",
   "source": [
    "%%sql\n",
    "SELECT AVG(price) AS average_price_per_night\n",
    "FROM airbnb;"
   ],
   "id": "8ea630e9791d73d7",
   "outputs": [
    {
     "data": {
      "text/plain": [
       "   average_price_per_night\n",
       "0               140.244375"
      ],
      "text/html": [
       "<div>\n",
       "<style scoped>\n",
       "    .dataframe tbody tr th:only-of-type {\n",
       "        vertical-align: middle;\n",
       "    }\n",
       "\n",
       "    .dataframe tbody tr th {\n",
       "        vertical-align: top;\n",
       "    }\n",
       "\n",
       "    .dataframe thead th {\n",
       "        text-align: right;\n",
       "    }\n",
       "</style>\n",
       "<table border=\"1\" class=\"dataframe\">\n",
       "  <thead>\n",
       "    <tr style=\"text-align: right;\">\n",
       "      <th></th>\n",
       "      <th>average_price_per_night</th>\n",
       "    </tr>\n",
       "  </thead>\n",
       "  <tbody>\n",
       "    <tr>\n",
       "      <th>0</th>\n",
       "      <td>140.244375</td>\n",
       "    </tr>\n",
       "  </tbody>\n",
       "</table>\n",
       "</div>"
      ]
     },
     "execution_count": 3,
     "metadata": {},
     "output_type": "execute_result"
    }
   ],
   "execution_count": 3
  },
  {
   "metadata": {
    "SqlCellData": {
     "variableName$1": "df_sql1"
    },
    "ExecuteTime": {
     "end_time": "2024-04-05T04:53:03.650682Z",
     "start_time": "2024-04-05T04:53:03.498823100Z"
    }
   },
   "cell_type": "code",
   "source": [
    "%%sql\n",
    "SELECT rating\n",
    "FROM airbnb\n",
    "GROUP BY rating\n",
    "ORDER BY rating DESC\n",
    "LIMIT 10;"
   ],
   "id": "18fa720730b2b2a8",
   "outputs": [
    {
     "data": {
      "text/plain": [
       "     rating\n",
       "0  4.999561\n",
       "1  4.999229\n",
       "2  4.998898\n",
       "3  4.998890\n",
       "4  4.998753\n",
       "5  4.997670\n",
       "6  4.997668\n",
       "7  4.996448\n",
       "8  4.996384\n",
       "9  4.995920"
      ],
      "text/html": [
       "<div>\n",
       "<style scoped>\n",
       "    .dataframe tbody tr th:only-of-type {\n",
       "        vertical-align: middle;\n",
       "    }\n",
       "\n",
       "    .dataframe tbody tr th {\n",
       "        vertical-align: top;\n",
       "    }\n",
       "\n",
       "    .dataframe thead th {\n",
       "        text-align: right;\n",
       "    }\n",
       "</style>\n",
       "<table border=\"1\" class=\"dataframe\">\n",
       "  <thead>\n",
       "    <tr style=\"text-align: right;\">\n",
       "      <th></th>\n",
       "      <th>rating</th>\n",
       "    </tr>\n",
       "  </thead>\n",
       "  <tbody>\n",
       "    <tr>\n",
       "      <th>0</th>\n",
       "      <td>4.999561</td>\n",
       "    </tr>\n",
       "    <tr>\n",
       "      <th>1</th>\n",
       "      <td>4.999229</td>\n",
       "    </tr>\n",
       "    <tr>\n",
       "      <th>2</th>\n",
       "      <td>4.998898</td>\n",
       "    </tr>\n",
       "    <tr>\n",
       "      <th>3</th>\n",
       "      <td>4.998890</td>\n",
       "    </tr>\n",
       "    <tr>\n",
       "      <th>4</th>\n",
       "      <td>4.998753</td>\n",
       "    </tr>\n",
       "    <tr>\n",
       "      <th>5</th>\n",
       "      <td>4.997670</td>\n",
       "    </tr>\n",
       "    <tr>\n",
       "      <th>6</th>\n",
       "      <td>4.997668</td>\n",
       "    </tr>\n",
       "    <tr>\n",
       "      <th>7</th>\n",
       "      <td>4.996448</td>\n",
       "    </tr>\n",
       "    <tr>\n",
       "      <th>8</th>\n",
       "      <td>4.996384</td>\n",
       "    </tr>\n",
       "    <tr>\n",
       "      <th>9</th>\n",
       "      <td>4.995920</td>\n",
       "    </tr>\n",
       "  </tbody>\n",
       "</table>\n",
       "</div>"
      ]
     },
     "execution_count": 8,
     "metadata": {},
     "output_type": "execute_result"
    }
   ],
   "execution_count": 8
  },
  {
   "metadata": {
    "SqlCellData": {
     "variableName$1": "df_sql2"
    },
    "ExecuteTime": {
     "end_time": "2024-04-05T04:54:45.402502Z",
     "start_time": "2024-04-05T04:54:45.316458800Z"
    }
   },
   "cell_type": "code",
   "source": [
    "%%sql\n",
    "SELECT AVG(reviews_per_month) AS average_reviews_per_month\n",
    "FROM airbnb;"
   ],
   "id": "cda2436ab0a52db7",
   "outputs": [
    {
     "data": {
      "text/plain": [
       "   average_reviews_per_month\n",
       "0                   1.353746"
      ],
      "text/html": [
       "<div>\n",
       "<style scoped>\n",
       "    .dataframe tbody tr th:only-of-type {\n",
       "        vertical-align: middle;\n",
       "    }\n",
       "\n",
       "    .dataframe tbody tr th {\n",
       "        vertical-align: top;\n",
       "    }\n",
       "\n",
       "    .dataframe thead th {\n",
       "        text-align: right;\n",
       "    }\n",
       "</style>\n",
       "<table border=\"1\" class=\"dataframe\">\n",
       "  <thead>\n",
       "    <tr style=\"text-align: right;\">\n",
       "      <th></th>\n",
       "      <th>average_reviews_per_month</th>\n",
       "    </tr>\n",
       "  </thead>\n",
       "  <tbody>\n",
       "    <tr>\n",
       "      <th>0</th>\n",
       "      <td>1.353746</td>\n",
       "    </tr>\n",
       "  </tbody>\n",
       "</table>\n",
       "</div>"
      ]
     },
     "execution_count": 9,
     "metadata": {},
     "output_type": "execute_result"
    }
   ],
   "execution_count": 9
  },
  {
   "metadata": {
    "SqlCellData": {
     "variableName$1": "df_sql3"
    },
    "ExecuteTime": {
     "end_time": "2024-04-05T04:55:25.756178Z",
     "start_time": "2024-04-05T04:55:25.419002100Z"
    }
   },
   "cell_type": "code",
   "source": [
    "%%sql\n",
    "SELECT AVG(availability_365) AS average_availability_per_year\n",
    "FROM airbnb;"
   ],
   "id": "9c8b63b92b3f25fb",
   "outputs": [
    {
     "data": {
      "text/plain": [
       "   average_availability_per_year\n",
       "0                      114.54616"
      ],
      "text/html": [
       "<div>\n",
       "<style scoped>\n",
       "    .dataframe tbody tr th:only-of-type {\n",
       "        vertical-align: middle;\n",
       "    }\n",
       "\n",
       "    .dataframe tbody tr th {\n",
       "        vertical-align: top;\n",
       "    }\n",
       "\n",
       "    .dataframe thead th {\n",
       "        text-align: right;\n",
       "    }\n",
       "</style>\n",
       "<table border=\"1\" class=\"dataframe\">\n",
       "  <thead>\n",
       "    <tr style=\"text-align: right;\">\n",
       "      <th></th>\n",
       "      <th>average_availability_per_year</th>\n",
       "    </tr>\n",
       "  </thead>\n",
       "  <tbody>\n",
       "    <tr>\n",
       "      <th>0</th>\n",
       "      <td>114.54616</td>\n",
       "    </tr>\n",
       "  </tbody>\n",
       "</table>\n",
       "</div>"
      ]
     },
     "execution_count": 10,
     "metadata": {},
     "output_type": "execute_result"
    }
   ],
   "execution_count": 10
  },
  {
   "metadata": {
    "SqlCellData": {
     "variableName$1": "df_sql4"
    },
    "ExecuteTime": {
     "end_time": "2024-04-05T04:56:32.156742Z",
     "start_time": "2024-04-05T04:56:32.081785Z"
    }
   },
   "cell_type": "code",
   "source": [
    "%%sql\n",
    "SELECT COUNT(DISTINCT listing_id) AS unique_listings\n",
    "FROM airbnb;"
   ],
   "id": "b31d5ce91683c632",
   "outputs": [
    {
     "data": {
      "text/plain": [
       "   unique_listings\n",
       "0             7734"
      ],
      "text/html": [
       "<div>\n",
       "<style scoped>\n",
       "    .dataframe tbody tr th:only-of-type {\n",
       "        vertical-align: middle;\n",
       "    }\n",
       "\n",
       "    .dataframe tbody tr th {\n",
       "        vertical-align: top;\n",
       "    }\n",
       "\n",
       "    .dataframe thead th {\n",
       "        text-align: right;\n",
       "    }\n",
       "</style>\n",
       "<table border=\"1\" class=\"dataframe\">\n",
       "  <thead>\n",
       "    <tr style=\"text-align: right;\">\n",
       "      <th></th>\n",
       "      <th>unique_listings</th>\n",
       "    </tr>\n",
       "  </thead>\n",
       "  <tbody>\n",
       "    <tr>\n",
       "      <th>0</th>\n",
       "      <td>7734</td>\n",
       "    </tr>\n",
       "  </tbody>\n",
       "</table>\n",
       "</div>"
      ]
     },
     "execution_count": 11,
     "metadata": {},
     "output_type": "execute_result"
    }
   ],
   "execution_count": 11
  },
  {
   "metadata": {
    "SqlCellData": {
     "variableName$1": "df_sql5"
    },
    "ExecuteTime": {
     "end_time": "2024-04-05T04:56:33.575251Z",
     "start_time": "2024-04-05T04:56:33.475309400Z"
    }
   },
   "cell_type": "code",
   "source": [
    "%%sql\n",
    "SELECT COUNT(DISTINCT host_id) AS unique_hosts\n",
    "FROM airbnb;"
   ],
   "id": "33a482b2ff7aa326",
   "outputs": [
    {
     "data": {
      "text/plain": [
       "   unique_hosts\n",
       "0          7023"
      ],
      "text/html": [
       "<div>\n",
       "<style scoped>\n",
       "    .dataframe tbody tr th:only-of-type {\n",
       "        vertical-align: middle;\n",
       "    }\n",
       "\n",
       "    .dataframe tbody tr th {\n",
       "        vertical-align: top;\n",
       "    }\n",
       "\n",
       "    .dataframe thead th {\n",
       "        text-align: right;\n",
       "    }\n",
       "</style>\n",
       "<table border=\"1\" class=\"dataframe\">\n",
       "  <thead>\n",
       "    <tr style=\"text-align: right;\">\n",
       "      <th></th>\n",
       "      <th>unique_hosts</th>\n",
       "    </tr>\n",
       "  </thead>\n",
       "  <tbody>\n",
       "    <tr>\n",
       "      <th>0</th>\n",
       "      <td>7023</td>\n",
       "    </tr>\n",
       "  </tbody>\n",
       "</table>\n",
       "</div>"
      ]
     },
     "execution_count": 12,
     "metadata": {},
     "output_type": "execute_result"
    }
   ],
   "execution_count": 12
  },
  {
   "metadata": {},
   "cell_type": "markdown",
   "source": [
    "1. **Average Price per Night:**\n",
    "   - The average price per night across all Airbnb listings in the dataset is approximately $140.24.\n",
    "\n",
    "2. **Distribution of Ratings:**\n",
    "   - The distribution of ratings across the listings in the dataset shows the count of listings for each rating value from 0 to 5.\n",
    "\n",
    "3. **Average Number of Reviews per Month:**\n",
    "   - The average number of reviews per month across all Airbnb listings in the dataset is approximately 1.35.\n",
    "\n",
    "4. **Average Availability per Year:**\n",
    "   - The average availability per year across all Airbnb listings in the dataset is approximately 114.55 days.\n",
    "\n",
    "5. **Unique Listings and Hosts:**\n",
    "   - The dataset contains 7,734 unique listings.\n",
    "   - There are 7,023 unique hosts in the dataset.\n",
    "\n",
    "These analyses provide insights into the pricing, ratings, review frequency, availability, and uniqueness of listings and hosts in the dataset."
   ],
   "id": "dac9d24e37d316ae"
  }
 ],
 "metadata": {
  "kernelspec": {
   "display_name": "Python 3",
   "language": "python",
   "name": "python3"
  },
  "language_info": {
   "codemirror_mode": {
    "name": "ipython",
    "version": 2
   },
   "file_extension": ".py",
   "mimetype": "text/x-python",
   "name": "python",
   "nbconvert_exporter": "python",
   "pygments_lexer": "ipython2",
   "version": "2.7.6"
  }
 },
 "nbformat": 4,
 "nbformat_minor": 5
}
