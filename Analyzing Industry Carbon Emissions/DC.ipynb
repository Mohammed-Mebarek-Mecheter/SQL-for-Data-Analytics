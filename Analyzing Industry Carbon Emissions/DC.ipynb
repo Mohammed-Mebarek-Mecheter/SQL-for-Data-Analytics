{
 "cells": [
  {
   "cell_type": "code",
   "id": "initial_id",
   "metadata": {
    "collapsed": true,
    "jupyter": {
     "outputs_hidden": true
    },
    "ExecuteTime": {
     "end_time": "2024-05-02T15:35:59.143831Z",
     "start_time": "2024-05-02T15:35:57.767691Z"
    }
   },
   "source": [
    "import pandas as pd"
   ],
   "outputs": [],
   "execution_count": 2
  },
  {
   "cell_type": "code",
   "id": "abbd10e4bc91cbac",
   "metadata": {
    "ExecuteTime": {
     "end_time": "2024-05-02T15:44:13.301969Z",
     "start_time": "2024-05-02T15:44:13.276162Z"
    }
   },
   "source": "df = pd.read_csv('product_emissions.csv')",
   "outputs": [],
   "execution_count": 5
  },
  {
   "cell_type": "code",
   "execution_count": 59,
   "id": "d48232407d8d9657",
   "metadata": {
    "ExecuteTime": {
     "end_time": "2024-05-02T14:08:50.257853Z",
     "start_time": "2024-05-02T14:08:50.213561Z"
    }
   },
   "outputs": [],
   "source": [
    "# Convert the column to a numeric data type\n",
    "df['upstream_percent_total_pcf'] = pd.to_numeric(df['upstream_percent_total_pcf'].replace('%', '', regex=True), errors='coerce')\n",
    "df['operations_percent_total_pcf'] = pd.to_numeric(df['operations_percent_total_pcf'].replace('%', '', regex=True), errors='coerce')\n",
    "df['downstream_percent_total_pcf'] = pd.to_numeric(df['downstream_percent_total_pcf'].replace('%', '', regex=True), errors='coerce')\n",
    "\n",
    "# Calculate the mean of non-NaN values\n",
    "mean_value_upstream = round(df['upstream_percent_total_pcf'].mean(skipna=True), 2)\n",
    "mean_value_operations = round(df['operations_percent_total_pcf'].mean(skipna=True), 2)\n",
    "mean_value_total = round(df['downstream_percent_total_pcf'].mean(skipna=True), 2)\n",
    "\n",
    "# Replace NaN values with the mean\n",
    "df['upstream_percent_total_pcf'] = df['upstream_percent_total_pcf'].fillna(mean_value_upstream)\n",
    "df['operations_percent_total_pcf'] = df['operations_percent_total_pcf'].fillna(mean_value_operations)\n",
    "df['downstream_percent_total_pcf'] = df['downstream_percent_total_pcf'].fillna(mean_value_total)"
   ]
  },
  {
   "cell_type": "code",
   "execution_count": 60,
   "id": "2617e94b66e15267",
   "metadata": {
    "ExecuteTime": {
     "end_time": "2024-05-02T14:08:50.269280Z",
     "start_time": "2024-05-02T14:08:50.260918Z"
    }
   },
   "outputs": [],
   "source": [
    "# Standardizing Data Formats\n",
    "df[\"country\"] = df[\"country\"].replace({\"USA\": \"United States\"})"
   ]
  },
  {
   "cell_type": "code",
   "execution_count": 61,
   "id": "2a2feb22cda90fb3",
   "metadata": {
    "ExecuteTime": {
     "end_time": "2024-05-02T14:08:50.285359Z",
     "start_time": "2024-05-02T14:08:50.277284Z"
    }
   },
   "outputs": [],
   "source": [
    "# Removing Duplicates\n",
    "df = df.drop_duplicates(subset=\"id\")"
   ]
  },
  {
   "cell_type": "code",
   "execution_count": 62,
   "id": "4cfedd4ba9c384b0",
   "metadata": {
    "ExecuteTime": {
     "end_time": "2024-05-02T14:08:50.317756Z",
     "start_time": "2024-05-02T14:08:50.291360Z"
    }
   },
   "outputs": [],
   "source": [
    "# Round weight_kg to 2 decimal places\n",
    "df[\"weight_kg\"] = df[\"weight_kg\"].round(2)"
   ]
  },
  {
   "cell_type": "code",
   "execution_count": 63,
   "id": "fe6c02ec3fb7456d",
   "metadata": {
    "ExecuteTime": {
     "end_time": "2024-05-02T14:08:50.338075Z",
     "start_time": "2024-05-02T14:08:50.324496Z"
    }
   },
   "outputs": [],
   "source": [
    "# Remove double quotes from the industry_group and product_name and company columns\n",
    "df[\"industry_group\"] = df[\"industry_group\"].str.strip('\"')\n",
    "df[\"product_name\"] = df[\"product_name\"].str.strip('\"')\n",
    "df[\"company\"] = df[\"company\"].str.strip('\"')"
   ]
  },
  {
   "cell_type": "code",
   "execution_count": 64,
   "id": "1e2899684aa21b14",
   "metadata": {
    "ExecuteTime": {
     "end_time": "2024-05-02T14:08:50.357292Z",
     "start_time": "2024-05-02T14:08:50.343186Z"
    }
   },
   "outputs": [],
   "source": [
    "import re\n",
    "\n",
    "def clean_text(text):\n",
    "    return re.sub(r'[^a-zA-Z0-9\\s]', '', text)\n",
    "\n",
    "df['product_name'] = df['product_name'].apply(clean_text)\n",
    "\n",
    "df['product_name'] = df['product_name'].str.strip()"
   ]
  },
  {
   "cell_type": "code",
   "execution_count": 65,
   "id": "ba9f749849fe7bc7",
   "metadata": {
    "ExecuteTime": {
     "end_time": "2024-05-02T14:08:50.391452Z",
     "start_time": "2024-05-02T14:08:50.361896Z"
    }
   },
   "outputs": [],
   "source": [
    "# Exporting to CSV\n",
    "df.to_csv('product_emissions_clean.csv', index=False)"
   ]
  }
 ],
 "metadata": {
  "kernelspec": {
   "display_name": "Python 3 (ipykernel)",
   "language": "python",
   "name": "python3"
  },
  "language_info": {
   "codemirror_mode": {
    "name": "ipython",
    "version": 3
   },
   "file_extension": ".py",
   "mimetype": "text/x-python",
   "name": "python",
   "nbconvert_exporter": "python",
   "pygments_lexer": "ipython3",
   "version": "3.11.7"
  }
 },
 "nbformat": 4,
 "nbformat_minor": 5
}
