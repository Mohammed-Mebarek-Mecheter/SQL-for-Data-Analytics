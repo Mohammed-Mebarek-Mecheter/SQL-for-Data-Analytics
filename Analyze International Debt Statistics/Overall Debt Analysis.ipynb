{
 "cells": [
  {
   "cell_type": "code",
   "id": "initial_id",
   "metadata": {
    "collapsed": true,
    "ExecuteTime": {
     "end_time": "2024-05-21T04:04:38.685303Z",
     "start_time": "2024-05-21T04:04:37.096355Z"
    }
   },
   "source": "import pandas as pd",
   "outputs": [],
   "execution_count": 1
  },
  {
   "metadata": {
    "ExecuteTime": {
     "end_time": "2024-05-21T04:05:16.954980Z",
     "start_time": "2024-05-21T04:05:16.857609Z"
    }
   },
   "cell_type": "code",
   "source": "international_debt = pd.read_csv(\"international_debt.csv\")",
   "id": "450eff8bb2d4243f",
   "outputs": [],
   "execution_count": 2
  },
  {
   "metadata": {
    "SqlCellData": {
     "variableName$1": "df_sql"
    },
    "ExecuteTime": {
     "end_time": "2024-05-21T04:07:13.196225Z",
     "start_time": "2024-05-21T04:07:12.452860600Z"
    }
   },
   "cell_type": "code",
   "source": [
    "%%sql\n",
    "SELECT SUM(debt) AS total_debt\n",
    "FROM international_debt;"
   ],
   "id": "442f8a6474203621",
   "outputs": [
    {
     "data": {
      "text/plain": [
       "     total_debt\n",
       "0  3.079734e+12"
      ],
      "text/html": [
       "<div>\n",
       "<style scoped>\n",
       "    .dataframe tbody tr th:only-of-type {\n",
       "        vertical-align: middle;\n",
       "    }\n",
       "\n",
       "    .dataframe tbody tr th {\n",
       "        vertical-align: top;\n",
       "    }\n",
       "\n",
       "    .dataframe thead th {\n",
       "        text-align: right;\n",
       "    }\n",
       "</style>\n",
       "<table border=\"1\" class=\"dataframe\">\n",
       "  <thead>\n",
       "    <tr style=\"text-align: right;\">\n",
       "      <th></th>\n",
       "      <th>total_debt</th>\n",
       "    </tr>\n",
       "  </thead>\n",
       "  <tbody>\n",
       "    <tr>\n",
       "      <th>0</th>\n",
       "      <td>3.079734e+12</td>\n",
       "    </tr>\n",
       "  </tbody>\n",
       "</table>\n",
       "</div>"
      ]
     },
     "execution_count": 3,
     "metadata": {},
     "output_type": "execute_result"
    }
   ],
   "execution_count": 3
  },
  {
   "metadata": {
    "SqlCellData": {
     "variableName$1": "df_sql1"
    },
    "ExecuteTime": {
     "end_time": "2024-05-21T04:09:37.969848Z",
     "start_time": "2024-05-21T04:09:37.819013900Z"
    }
   },
   "cell_type": "code",
   "source": [
    "%%sql\n",
    "SELECT country_name, SUM(debt) AS total_debt\n",
    "FROM international_debt\n",
    "GROUP BY country_name\n",
    "ORDER BY total_debt DESC\n",
    "LIMIT 1;"
   ],
   "id": "1ed38aeeec582c33",
   "outputs": [
    {
     "data": {
      "text/plain": [
       "  country_name    total_debt\n",
       "0        China  2.857935e+11"
      ],
      "text/html": [
       "<div>\n",
       "<style scoped>\n",
       "    .dataframe tbody tr th:only-of-type {\n",
       "        vertical-align: middle;\n",
       "    }\n",
       "\n",
       "    .dataframe tbody tr th {\n",
       "        vertical-align: top;\n",
       "    }\n",
       "\n",
       "    .dataframe thead th {\n",
       "        text-align: right;\n",
       "    }\n",
       "</style>\n",
       "<table border=\"1\" class=\"dataframe\">\n",
       "  <thead>\n",
       "    <tr style=\"text-align: right;\">\n",
       "      <th></th>\n",
       "      <th>country_name</th>\n",
       "      <th>total_debt</th>\n",
       "    </tr>\n",
       "  </thead>\n",
       "  <tbody>\n",
       "    <tr>\n",
       "      <th>0</th>\n",
       "      <td>China</td>\n",
       "      <td>2.857935e+11</td>\n",
       "    </tr>\n",
       "  </tbody>\n",
       "</table>\n",
       "</div>"
      ]
     },
     "execution_count": 4,
     "metadata": {},
     "output_type": "execute_result"
    }
   ],
   "execution_count": 4
  },
  {
   "metadata": {
    "SqlCellData": {
     "variableName$1": "df_sql2"
    },
    "ExecuteTime": {
     "end_time": "2024-05-21T04:10:32.348048Z",
     "start_time": "2024-05-21T04:10:32.221378900Z"
    }
   },
   "cell_type": "code",
   "source": [
    "%%sql\n",
    "SELECT country_name, SUM(debt) AS total_debt\n",
    "FROM international_debt\n",
    "GROUP BY country_name\n",
    "ORDER BY total_debt ASC\n",
    "LIMIT 1;"
   ],
   "id": "58a282ab2ff235e",
   "outputs": [
    {
     "data": {
      "text/plain": [
       "            country_name  total_debt\n",
       "0  Sao Tome and Principe  44798032.5"
      ],
      "text/html": [
       "<div>\n",
       "<style scoped>\n",
       "    .dataframe tbody tr th:only-of-type {\n",
       "        vertical-align: middle;\n",
       "    }\n",
       "\n",
       "    .dataframe tbody tr th {\n",
       "        vertical-align: top;\n",
       "    }\n",
       "\n",
       "    .dataframe thead th {\n",
       "        text-align: right;\n",
       "    }\n",
       "</style>\n",
       "<table border=\"1\" class=\"dataframe\">\n",
       "  <thead>\n",
       "    <tr style=\"text-align: right;\">\n",
       "      <th></th>\n",
       "      <th>country_name</th>\n",
       "      <th>total_debt</th>\n",
       "    </tr>\n",
       "  </thead>\n",
       "  <tbody>\n",
       "    <tr>\n",
       "      <th>0</th>\n",
       "      <td>Sao Tome and Principe</td>\n",
       "      <td>44798032.5</td>\n",
       "    </tr>\n",
       "  </tbody>\n",
       "</table>\n",
       "</div>"
      ]
     },
     "execution_count": 5,
     "metadata": {},
     "output_type": "execute_result"
    }
   ],
   "execution_count": 5
  },
  {
   "metadata": {
    "SqlCellData": {
     "variableName$1": "df_sql3"
    },
    "ExecuteTime": {
     "end_time": "2024-05-21T04:13:53.693826Z",
     "start_time": "2024-05-21T04:13:53.544978100Z"
    }
   },
   "cell_type": "code",
   "source": [
    "%%sql\n",
    "SELECT indicator_name, SUM(debt) AS total_debt\n",
    "FROM international_debt\n",
    "GROUP BY indicator_name\n",
    "ORDER BY total_debt DESC;"
   ],
   "id": "b4d38c85edfa0bd4",
   "outputs": [
    {
     "data": {
      "text/plain": [
       "                                       indicator_name    total_debt\n",
       "0   \"Principal repayments on external debt, long-t...  7.322037e+11\n",
       "1   \"Principal repayments on external debt, privat...  4.077344e+11\n",
       "2   \"Disbursements on external debt, long-term (DI...  2.647011e+11\n",
       "3        \"PPG, official creditors (DIS, current US$)\"  2.389960e+11\n",
       "4   \"Interest payments on external debt, long-term...  2.038590e+11\n",
       "5         \"PPG, private creditors (AMT, current US$)\"  1.767620e+11\n",
       "6        \"PPG, official creditors (AMT, current US$)\"  1.477073e+11\n",
       "7                 \"PPG, bilateral (DIS, current US$)\"  1.382147e+11\n",
       "8              \"PPG, multilateral (DIS, current US$)\"  1.007812e+11\n",
       "9   \"Interest payments on external debt, private n...  9.641246e+10\n",
       "10                \"PPG, bilateral (AMT, current US$)\"  8.693960e+10\n",
       "11                    \"PPG, bonds (AMT, current US$)\"  7.470105e+10\n",
       "12        \"PPG, private creditors (INT, current US$)\"  7.053454e+10\n",
       "13         \"PPG, commercial banks (AMT, current US$)\"  6.172897e+10\n",
       "14             \"PPG, multilateral (AMT, current US$)\"  6.076771e+10\n",
       "15                    \"PPG, bonds (INT, current US$)\"  5.552660e+10\n",
       "16  \"PPG, other private creditors (AMT, current US$)\"  4.033200e+10\n",
       "17       \"PPG, official creditors (INT, current US$)\"  3.691199e+10\n",
       "18                \"PPG, bilateral (INT, current US$)\"  2.001938e+10\n",
       "19             \"PPG, multilateral (INT, current US$)\"  1.689261e+10\n",
       "20        \"PPG, private creditors (DIS, current US$)\"  1.650013e+10\n",
       "21         \"PPG, commercial banks (DIS, current US$)\"  1.495856e+10\n",
       "22         \"PPG, commercial banks (INT, current US$)\"  1.315840e+10\n",
       "23  \"PPG, other private creditors (INT, current US$)\"  1.849535e+09\n",
       "24  \"PPG, other private creditors (DIS, current US$)\"  1.541568e+09"
      ],
      "text/html": [
       "<div>\n",
       "<style scoped>\n",
       "    .dataframe tbody tr th:only-of-type {\n",
       "        vertical-align: middle;\n",
       "    }\n",
       "\n",
       "    .dataframe tbody tr th {\n",
       "        vertical-align: top;\n",
       "    }\n",
       "\n",
       "    .dataframe thead th {\n",
       "        text-align: right;\n",
       "    }\n",
       "</style>\n",
       "<table border=\"1\" class=\"dataframe\">\n",
       "  <thead>\n",
       "    <tr style=\"text-align: right;\">\n",
       "      <th></th>\n",
       "      <th>indicator_name</th>\n",
       "      <th>total_debt</th>\n",
       "    </tr>\n",
       "  </thead>\n",
       "  <tbody>\n",
       "    <tr>\n",
       "      <th>0</th>\n",
       "      <td>\"Principal repayments on external debt, long-t...</td>\n",
       "      <td>7.322037e+11</td>\n",
       "    </tr>\n",
       "    <tr>\n",
       "      <th>1</th>\n",
       "      <td>\"Principal repayments on external debt, privat...</td>\n",
       "      <td>4.077344e+11</td>\n",
       "    </tr>\n",
       "    <tr>\n",
       "      <th>2</th>\n",
       "      <td>\"Disbursements on external debt, long-term (DI...</td>\n",
       "      <td>2.647011e+11</td>\n",
       "    </tr>\n",
       "    <tr>\n",
       "      <th>3</th>\n",
       "      <td>\"PPG, official creditors (DIS, current US$)\"</td>\n",
       "      <td>2.389960e+11</td>\n",
       "    </tr>\n",
       "    <tr>\n",
       "      <th>4</th>\n",
       "      <td>\"Interest payments on external debt, long-term...</td>\n",
       "      <td>2.038590e+11</td>\n",
       "    </tr>\n",
       "    <tr>\n",
       "      <th>5</th>\n",
       "      <td>\"PPG, private creditors (AMT, current US$)\"</td>\n",
       "      <td>1.767620e+11</td>\n",
       "    </tr>\n",
       "    <tr>\n",
       "      <th>6</th>\n",
       "      <td>\"PPG, official creditors (AMT, current US$)\"</td>\n",
       "      <td>1.477073e+11</td>\n",
       "    </tr>\n",
       "    <tr>\n",
       "      <th>7</th>\n",
       "      <td>\"PPG, bilateral (DIS, current US$)\"</td>\n",
       "      <td>1.382147e+11</td>\n",
       "    </tr>\n",
       "    <tr>\n",
       "      <th>8</th>\n",
       "      <td>\"PPG, multilateral (DIS, current US$)\"</td>\n",
       "      <td>1.007812e+11</td>\n",
       "    </tr>\n",
       "    <tr>\n",
       "      <th>9</th>\n",
       "      <td>\"Interest payments on external debt, private n...</td>\n",
       "      <td>9.641246e+10</td>\n",
       "    </tr>\n",
       "    <tr>\n",
       "      <th>10</th>\n",
       "      <td>\"PPG, bilateral (AMT, current US$)\"</td>\n",
       "      <td>8.693960e+10</td>\n",
       "    </tr>\n",
       "    <tr>\n",
       "      <th>11</th>\n",
       "      <td>\"PPG, bonds (AMT, current US$)\"</td>\n",
       "      <td>7.470105e+10</td>\n",
       "    </tr>\n",
       "    <tr>\n",
       "      <th>12</th>\n",
       "      <td>\"PPG, private creditors (INT, current US$)\"</td>\n",
       "      <td>7.053454e+10</td>\n",
       "    </tr>\n",
       "    <tr>\n",
       "      <th>13</th>\n",
       "      <td>\"PPG, commercial banks (AMT, current US$)\"</td>\n",
       "      <td>6.172897e+10</td>\n",
       "    </tr>\n",
       "    <tr>\n",
       "      <th>14</th>\n",
       "      <td>\"PPG, multilateral (AMT, current US$)\"</td>\n",
       "      <td>6.076771e+10</td>\n",
       "    </tr>\n",
       "    <tr>\n",
       "      <th>15</th>\n",
       "      <td>\"PPG, bonds (INT, current US$)\"</td>\n",
       "      <td>5.552660e+10</td>\n",
       "    </tr>\n",
       "    <tr>\n",
       "      <th>16</th>\n",
       "      <td>\"PPG, other private creditors (AMT, current US$)\"</td>\n",
       "      <td>4.033200e+10</td>\n",
       "    </tr>\n",
       "    <tr>\n",
       "      <th>17</th>\n",
       "      <td>\"PPG, official creditors (INT, current US$)\"</td>\n",
       "      <td>3.691199e+10</td>\n",
       "    </tr>\n",
       "    <tr>\n",
       "      <th>18</th>\n",
       "      <td>\"PPG, bilateral (INT, current US$)\"</td>\n",
       "      <td>2.001938e+10</td>\n",
       "    </tr>\n",
       "    <tr>\n",
       "      <th>19</th>\n",
       "      <td>\"PPG, multilateral (INT, current US$)\"</td>\n",
       "      <td>1.689261e+10</td>\n",
       "    </tr>\n",
       "    <tr>\n",
       "      <th>20</th>\n",
       "      <td>\"PPG, private creditors (DIS, current US$)\"</td>\n",
       "      <td>1.650013e+10</td>\n",
       "    </tr>\n",
       "    <tr>\n",
       "      <th>21</th>\n",
       "      <td>\"PPG, commercial banks (DIS, current US$)\"</td>\n",
       "      <td>1.495856e+10</td>\n",
       "    </tr>\n",
       "    <tr>\n",
       "      <th>22</th>\n",
       "      <td>\"PPG, commercial banks (INT, current US$)\"</td>\n",
       "      <td>1.315840e+10</td>\n",
       "    </tr>\n",
       "    <tr>\n",
       "      <th>23</th>\n",
       "      <td>\"PPG, other private creditors (INT, current US$)\"</td>\n",
       "      <td>1.849535e+09</td>\n",
       "    </tr>\n",
       "    <tr>\n",
       "      <th>24</th>\n",
       "      <td>\"PPG, other private creditors (DIS, current US$)\"</td>\n",
       "      <td>1.541568e+09</td>\n",
       "    </tr>\n",
       "  </tbody>\n",
       "</table>\n",
       "</div>"
      ]
     },
     "execution_count": 7,
     "metadata": {},
     "output_type": "execute_result"
    }
   ],
   "execution_count": 7
  },
  {
   "metadata": {},
   "cell_type": "markdown",
   "source": [
    "### Summary of Findings\n",
    "\n",
    "1. **Highest Total Debt:**\n",
    "   - Country: China\n",
    "   - Total Debt: \\$285.79 billion\n",
    "\n",
    "2. **Lowest Total Debt:**\n",
    "   - Country: Sao Tome and Principe\n",
    "   - Total Debt: \\$44.80 million\n",
    "\n",
    "3. **Debt by Indicator:**\n",
    "   - The largest debt category is \"Principal repayments on external debt, long-term (DOD, current US$)\" with a total of \\$732.20 billion.\n",
    "   - The smallest debt category is \"PPG, other private creditors (DIS, current US$)\" with a total of \\$1.54 billion.\n",
    "\n",
    "### Detailed Queries and Results Interpretation\n",
    "\n",
    "Let's go through the detailed steps and SQL queries used to arrive at these findings.\n",
    "\n",
    "#### 1. Highest Total Debt by Country\n",
    "To find the country with the highest total debt:\n",
    "\n",
    "```sql\n",
    "SELECT country_name, SUM(debt) AS total_debt\n",
    "FROM international_debt\n",
    "GROUP BY country_name\n",
    "ORDER BY total_debt DESC\n",
    "LIMIT 1;\n",
    "```\n",
    "**Result:**\n",
    "- **Country:** China\n",
    "- **Total Debt:** \\$285.79 billion\n",
    "\n",
    "#### 2. Lowest Total Debt by Country\n",
    "To find the country with the lowest total debt:\n",
    "\n",
    "```sql\n",
    "SELECT country_name, SUM(debt) AS total_debt\n",
    "FROM international_debt\n",
    "GROUP BY country_name\n",
    "ORDER BY total_debt ASC\n",
    "LIMIT 1;\n",
    "```\n",
    "**Result:**\n",
    "- **Country:** Sao Tome and Principe\n",
    "- **Total Debt:** \\$44.80 million\n",
    "\n",
    "#### 3. Debt by Indicator\n",
    "To understand the distribution of debt across different categories:\n",
    "\n",
    "```sql\n",
    "SELECT indicator_name, SUM(debt) AS total_debt\n",
    "FROM international_debt\n",
    "GROUP BY indicator_name\n",
    "ORDER BY total_debt DESC;\n",
    "```\n",
    "**Result:**\n",
    "- The top category is \"Principal repayments on external debt, long-term (DOD, current US$)\" with \\$732.20 billion.\n",
    "- The bottom category is \"PPG, other private creditors (DIS, current US$)\" with \\$1.54 billion.\n"
   ],
   "id": "cb4b14b70a4e48f3"
  }
 ],
 "metadata": {
  "kernelspec": {
   "display_name": "Python 3",
   "language": "python",
   "name": "python3"
  },
  "language_info": {
   "codemirror_mode": {
    "name": "ipython",
    "version": 2
   },
   "file_extension": ".py",
   "mimetype": "text/x-python",
   "name": "python",
   "nbconvert_exporter": "python",
   "pygments_lexer": "ipython2",
   "version": "2.7.6"
  }
 },
 "nbformat": 4,
 "nbformat_minor": 5
}
