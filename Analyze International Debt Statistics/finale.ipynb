{
 "cells": [
  {
   "source": "![](image.jpg)\n\nHumans not only take debts to manage necessities. A country may also take debt to manage its economy. For example, infrastructure spending is one costly ingredient required for a country's citizens to lead comfortable lives. The World Bank is the organization that provides debt to countries.\n\nIn this project, you are going to analyze international debt data collected by The World Bank. The dataset contains information about the amount of debt (in USD) owed by developing countries across several categories. You are going to find the answers to the following questions:\n\n- What is the number of distinct countries present in the database?\n- What country has the highest amount of debt?\n- What country has the lowest amount of repayments?\n\nBelow is a description of the table you will be working with:\n\n## `international_debt` table\n\n| Column | Definition | Data Type |\n|-|-|-|\n|country_name|Name of the country|`varchar`|\n|country_code|Code representing the country|`varchar`|\n|indicator_name|Description of the debt indicator|`varchar`|\n|indicator_code|Code representing the debt indicator|`varchar`|\n|debt|Value of the debt indicator for the given country (in current US dollars)|`float`|\n\nYou will execute SQL queries to answer three questions, as listed in the instructions.",
   "metadata": {},
   "id": "9041cd2e-a5a6-44dd-acd9-4daae006c067",
   "cell_type": "markdown"
  }
 ],
 "metadata": {
  "colab": {
   "name": "Welcome to DataCamp Workspaces.ipynb",
   "provenance": []
  },
  "kernelspec": {
   "display_name": "Python 3 (ipykernel)",
   "language": "python",
   "name": "python3"
  },
  "language_info": {
   "codemirror_mode": {
    "name": "ipython",
    "version": 3
   },
   "file_extension": ".py",
   "mimetype": "text/x-python",
   "name": "python",
   "nbconvert_exporter": "python",
   "pygments_lexer": "ipython3",
   "version": "3.8.10"
  }
 },
 "nbformat": 4,
 "nbformat_minor": 5
}
