{
 "cells": [
  {
   "cell_type": "code",
   "id": "initial_id",
   "metadata": {
    "collapsed": true,
    "ExecuteTime": {
     "end_time": "2024-04-11T06:02:24.335288Z",
     "start_time": "2024-04-11T06:02:22.398672Z"
    }
   },
   "source": "import pandas as pd",
   "outputs": [],
   "execution_count": 1
  },
  {
   "metadata": {
    "ExecuteTime": {
     "end_time": "2024-04-11T06:02:31.379699Z",
     "start_time": "2024-04-11T06:02:31.341259Z"
    }
   },
   "cell_type": "code",
   "source": "TFL = pd.read_csv('tfl_journeys_final.csv')",
   "id": "a66e8818ad963f3a",
   "outputs": [],
   "execution_count": 2
  },
  {
   "metadata": {
    "SqlCellData": {
     "variableName$1": "df_sql"
    },
    "ExecuteTime": {
     "end_time": "2024-04-11T06:02:58.540211Z",
     "start_time": "2024-04-11T06:02:57.945597300Z"
    }
   },
   "cell_type": "code",
   "source": [
    "%%sql\n",
    "SELECT *, COUNT(*)\n",
    "FROM TFL\n",
    "GROUP BY MONTH, YEAR, DAYS, REPORT_DATE, JOURNEY_TYPE, JOURNEYS_MILLIONS\n",
    "HAVING COUNT(*) > 1;"
   ],
   "id": "93a8558372b1707b",
   "outputs": [
    {
     "data": {
      "text/plain": [
       "Empty DataFrame\n",
       "Columns: [month, year, days, report_date, journey_type, journeys_millions, count_star()]\n",
       "Index: []"
      ],
      "text/html": [
       "<div>\n",
       "<style scoped>\n",
       "    .dataframe tbody tr th:only-of-type {\n",
       "        vertical-align: middle;\n",
       "    }\n",
       "\n",
       "    .dataframe tbody tr th {\n",
       "        vertical-align: top;\n",
       "    }\n",
       "\n",
       "    .dataframe thead th {\n",
       "        text-align: right;\n",
       "    }\n",
       "</style>\n",
       "<table border=\"1\" class=\"dataframe\">\n",
       "  <thead>\n",
       "    <tr style=\"text-align: right;\">\n",
       "      <th></th>\n",
       "      <th>month</th>\n",
       "      <th>year</th>\n",
       "      <th>days</th>\n",
       "      <th>report_date</th>\n",
       "      <th>journey_type</th>\n",
       "      <th>journeys_millions</th>\n",
       "      <th>count_star()</th>\n",
       "    </tr>\n",
       "  </thead>\n",
       "  <tbody>\n",
       "  </tbody>\n",
       "</table>\n",
       "</div>"
      ]
     },
     "execution_count": 3,
     "metadata": {},
     "output_type": "execute_result"
    }
   ],
   "execution_count": 3
  },
  {
   "metadata": {
    "SqlCellData": {
     "variableName$1": "df_sql1"
    },
    "ExecuteTime": {
     "end_time": "2024-04-11T06:07:02.530152Z",
     "start_time": "2024-04-11T06:07:02.315603500Z"
    }
   },
   "cell_type": "code",
   "source": [
    "%%sql\n",
    "SELECT *\n",
    "FROM TFL\n",
    "WHERE MONTH IS NULL OR YEAR IS NULL OR DAYS IS NULL OR REPORT_DATE IS NULL OR JOURNEY_TYPE IS NULL OR JOURNEYS_MILLIONS IS NULL\n",
    "LIMIT 5;"
   ],
   "id": "56bbdd3bbf94c51c",
   "outputs": [
    {
     "data": {
      "text/plain": [
       "   month  year  days report_date journey_type  journeys_millions\n",
       "0      1  2010    31  06/30/2010   Overground                NaN\n",
       "1      2  2010    28  06/30/2010   Overground                NaN\n",
       "2      3  2010    31  06/30/2010   Overground                NaN\n",
       "3      4  2010    30  09/30/2010   Overground                NaN\n",
       "4      5  2010    31  09/30/2010   Overground                NaN"
      ],
      "text/html": [
       "<div>\n",
       "<style scoped>\n",
       "    .dataframe tbody tr th:only-of-type {\n",
       "        vertical-align: middle;\n",
       "    }\n",
       "\n",
       "    .dataframe tbody tr th {\n",
       "        vertical-align: top;\n",
       "    }\n",
       "\n",
       "    .dataframe thead th {\n",
       "        text-align: right;\n",
       "    }\n",
       "</style>\n",
       "<table border=\"1\" class=\"dataframe\">\n",
       "  <thead>\n",
       "    <tr style=\"text-align: right;\">\n",
       "      <th></th>\n",
       "      <th>month</th>\n",
       "      <th>year</th>\n",
       "      <th>days</th>\n",
       "      <th>report_date</th>\n",
       "      <th>journey_type</th>\n",
       "      <th>journeys_millions</th>\n",
       "    </tr>\n",
       "  </thead>\n",
       "  <tbody>\n",
       "    <tr>\n",
       "      <th>0</th>\n",
       "      <td>1</td>\n",
       "      <td>2010</td>\n",
       "      <td>31</td>\n",
       "      <td>06/30/2010</td>\n",
       "      <td>Overground</td>\n",
       "      <td>NaN</td>\n",
       "    </tr>\n",
       "    <tr>\n",
       "      <th>1</th>\n",
       "      <td>2</td>\n",
       "      <td>2010</td>\n",
       "      <td>28</td>\n",
       "      <td>06/30/2010</td>\n",
       "      <td>Overground</td>\n",
       "      <td>NaN</td>\n",
       "    </tr>\n",
       "    <tr>\n",
       "      <th>2</th>\n",
       "      <td>3</td>\n",
       "      <td>2010</td>\n",
       "      <td>31</td>\n",
       "      <td>06/30/2010</td>\n",
       "      <td>Overground</td>\n",
       "      <td>NaN</td>\n",
       "    </tr>\n",
       "    <tr>\n",
       "      <th>3</th>\n",
       "      <td>4</td>\n",
       "      <td>2010</td>\n",
       "      <td>30</td>\n",
       "      <td>09/30/2010</td>\n",
       "      <td>Overground</td>\n",
       "      <td>NaN</td>\n",
       "    </tr>\n",
       "    <tr>\n",
       "      <th>4</th>\n",
       "      <td>5</td>\n",
       "      <td>2010</td>\n",
       "      <td>31</td>\n",
       "      <td>09/30/2010</td>\n",
       "      <td>Overground</td>\n",
       "      <td>NaN</td>\n",
       "    </tr>\n",
       "  </tbody>\n",
       "</table>\n",
       "</div>"
      ]
     },
     "execution_count": 6,
     "metadata": {},
     "output_type": "execute_result"
    }
   ],
   "execution_count": 6
  },
  {
   "metadata": {
    "SqlCellData": {
     "variableName$1": "df_sql2"
    },
    "ExecuteTime": {
     "end_time": "2024-04-11T06:12:37.549669Z",
     "start_time": "2024-04-11T06:12:37.423610600Z"
    }
   },
   "cell_type": "code",
   "source": [
    "%%sql\n",
    "CREATE TABLE CLEAN_TFL AS\n",
    "SELECT *\n",
    "FROM TFL\n",
    "WHERE JOURNEYS_MILLIONS IS NOT NULL;"
   ],
   "id": "55c38f5bd996afdf",
   "outputs": [
    {
     "data": {
      "text/plain": [
       "   Count\n",
       "0    841"
      ],
      "text/html": [
       "<div>\n",
       "<style scoped>\n",
       "    .dataframe tbody tr th:only-of-type {\n",
       "        vertical-align: middle;\n",
       "    }\n",
       "\n",
       "    .dataframe tbody tr th {\n",
       "        vertical-align: top;\n",
       "    }\n",
       "\n",
       "    .dataframe thead th {\n",
       "        text-align: right;\n",
       "    }\n",
       "</style>\n",
       "<table border=\"1\" class=\"dataframe\">\n",
       "  <thead>\n",
       "    <tr style=\"text-align: right;\">\n",
       "      <th></th>\n",
       "      <th>Count</th>\n",
       "    </tr>\n",
       "  </thead>\n",
       "  <tbody>\n",
       "    <tr>\n",
       "      <th>0</th>\n",
       "      <td>841</td>\n",
       "    </tr>\n",
       "  </tbody>\n",
       "</table>\n",
       "</div>"
      ]
     },
     "execution_count": 9,
     "metadata": {},
     "output_type": "execute_result"
    }
   ],
   "execution_count": 9
  },
  {
   "metadata": {
    "SqlCellData": {
     "variableName$1": "df_sql6"
    },
    "ExecuteTime": {
     "end_time": "2024-04-11T06:27:55.239862Z",
     "start_time": "2024-04-11T06:27:55.080504900Z"
    }
   },
   "cell_type": "code",
   "source": [
    "%%sql\n",
    "SELECT *\n",
    "FROM TFL\n",
    "WHERE (MONTH = 2 AND DAYS > 29) OR (MONTH IN (4, 6, 9, 11) AND DAYS > 30);"
   ],
   "id": "3bbc9a2124f7dc41",
   "outputs": [
    {
     "data": {
      "text/plain": [
       "Empty DataFrame\n",
       "Columns: [month, year, days, report_date, journey_type, journeys_millions]\n",
       "Index: []"
      ],
      "text/html": [
       "<div>\n",
       "<style scoped>\n",
       "    .dataframe tbody tr th:only-of-type {\n",
       "        vertical-align: middle;\n",
       "    }\n",
       "\n",
       "    .dataframe tbody tr th {\n",
       "        vertical-align: top;\n",
       "    }\n",
       "\n",
       "    .dataframe thead th {\n",
       "        text-align: right;\n",
       "    }\n",
       "</style>\n",
       "<table border=\"1\" class=\"dataframe\">\n",
       "  <thead>\n",
       "    <tr style=\"text-align: right;\">\n",
       "      <th></th>\n",
       "      <th>month</th>\n",
       "      <th>year</th>\n",
       "      <th>days</th>\n",
       "      <th>report_date</th>\n",
       "      <th>journey_type</th>\n",
       "      <th>journeys_millions</th>\n",
       "    </tr>\n",
       "  </thead>\n",
       "  <tbody>\n",
       "  </tbody>\n",
       "</table>\n",
       "</div>"
      ]
     },
     "execution_count": 16,
     "metadata": {},
     "output_type": "execute_result"
    }
   ],
   "execution_count": 16
  },
  {
   "metadata": {
    "SqlCellData": {
     "variableName$1": "df_sql4"
    },
    "ExecuteTime": {
     "end_time": "2024-04-11T06:28:36.326615Z",
     "start_time": "2024-04-11T06:28:36.242300600Z"
    }
   },
   "cell_type": "code",
   "source": [
    "%%sql\n",
    "SELECT *\n",
    "FROM TFL\n",
    "WHERE (MONTH = 2 AND DAYS > 29) OR (MONTH IN (4, 6, 9, 11) AND DAYS > 30);"
   ],
   "id": "18750714538154d7",
   "outputs": [
    {
     "data": {
      "text/plain": [
       "Empty DataFrame\n",
       "Columns: [month, year, days, report_date, journey_type, journeys_millions]\n",
       "Index: []"
      ],
      "text/html": [
       "<div>\n",
       "<style scoped>\n",
       "    .dataframe tbody tr th:only-of-type {\n",
       "        vertical-align: middle;\n",
       "    }\n",
       "\n",
       "    .dataframe tbody tr th {\n",
       "        vertical-align: top;\n",
       "    }\n",
       "\n",
       "    .dataframe thead th {\n",
       "        text-align: right;\n",
       "    }\n",
       "</style>\n",
       "<table border=\"1\" class=\"dataframe\">\n",
       "  <thead>\n",
       "    <tr style=\"text-align: right;\">\n",
       "      <th></th>\n",
       "      <th>month</th>\n",
       "      <th>year</th>\n",
       "      <th>days</th>\n",
       "      <th>report_date</th>\n",
       "      <th>journey_type</th>\n",
       "      <th>journeys_millions</th>\n",
       "    </tr>\n",
       "  </thead>\n",
       "  <tbody>\n",
       "  </tbody>\n",
       "</table>\n",
       "</div>"
      ]
     },
     "execution_count": 17,
     "metadata": {},
     "output_type": "execute_result"
    }
   ],
   "execution_count": 17
  },
  {
   "metadata": {
    "SqlCellData": {
     "variableName$1": "df_sql5"
    },
    "ExecuteTime": {
     "end_time": "2024-04-11T06:29:13.081333Z",
     "start_time": "2024-04-11T06:29:12.899559800Z"
    }
   },
   "cell_type": "code",
   "source": [
    "%%sql\n",
    "SELECT JOURNEY_TYPE, AVG(JOURNEYS_MILLIONS) AS avg_journeys, MAX(JOURNEYS_MILLIONS) AS max_journeys, MIN(JOURNEYS_MILLIONS) AS min_journeys\n",
    "FROM TFL\n",
    "GROUP BY JOURNEY_TYPE;"
   ],
   "id": "7fa11c24dd5fa615",
   "outputs": [
    {
     "data": {
      "text/plain": [
       "        journey_type  avg_journeys  max_journeys  min_journeys\n",
       "0                Bus    159.648679    203.398289     30.223736\n",
       "1         Overground     11.186884     17.820632      0.999693\n",
       "2  Underground & DLR     96.285042    128.155995      6.950757\n",
       "3               Tram      2.017243      2.638906      0.440934\n",
       "4   Emirates Airline      0.113052      0.534218      0.000169\n",
       "5           TfL Rail      4.329615     15.223201      0.594615"
      ],
      "text/html": [
       "<div>\n",
       "<style scoped>\n",
       "    .dataframe tbody tr th:only-of-type {\n",
       "        vertical-align: middle;\n",
       "    }\n",
       "\n",
       "    .dataframe tbody tr th {\n",
       "        vertical-align: top;\n",
       "    }\n",
       "\n",
       "    .dataframe thead th {\n",
       "        text-align: right;\n",
       "    }\n",
       "</style>\n",
       "<table border=\"1\" class=\"dataframe\">\n",
       "  <thead>\n",
       "    <tr style=\"text-align: right;\">\n",
       "      <th></th>\n",
       "      <th>journey_type</th>\n",
       "      <th>avg_journeys</th>\n",
       "      <th>max_journeys</th>\n",
       "      <th>min_journeys</th>\n",
       "    </tr>\n",
       "  </thead>\n",
       "  <tbody>\n",
       "    <tr>\n",
       "      <th>0</th>\n",
       "      <td>Bus</td>\n",
       "      <td>159.648679</td>\n",
       "      <td>203.398289</td>\n",
       "      <td>30.223736</td>\n",
       "    </tr>\n",
       "    <tr>\n",
       "      <th>1</th>\n",
       "      <td>Overground</td>\n",
       "      <td>11.186884</td>\n",
       "      <td>17.820632</td>\n",
       "      <td>0.999693</td>\n",
       "    </tr>\n",
       "    <tr>\n",
       "      <th>2</th>\n",
       "      <td>Underground &amp; DLR</td>\n",
       "      <td>96.285042</td>\n",
       "      <td>128.155995</td>\n",
       "      <td>6.950757</td>\n",
       "    </tr>\n",
       "    <tr>\n",
       "      <th>3</th>\n",
       "      <td>Tram</td>\n",
       "      <td>2.017243</td>\n",
       "      <td>2.638906</td>\n",
       "      <td>0.440934</td>\n",
       "    </tr>\n",
       "    <tr>\n",
       "      <th>4</th>\n",
       "      <td>Emirates Airline</td>\n",
       "      <td>0.113052</td>\n",
       "      <td>0.534218</td>\n",
       "      <td>0.000169</td>\n",
       "    </tr>\n",
       "    <tr>\n",
       "      <th>5</th>\n",
       "      <td>TfL Rail</td>\n",
       "      <td>4.329615</td>\n",
       "      <td>15.223201</td>\n",
       "      <td>0.594615</td>\n",
       "    </tr>\n",
       "  </tbody>\n",
       "</table>\n",
       "</div>"
      ]
     },
     "execution_count": 18,
     "metadata": {},
     "output_type": "execute_result"
    }
   ],
   "execution_count": 18
  },
  {
   "metadata": {
    "SqlCellData": {
     "variableName$1": "df_sql8"
    },
    "ExecuteTime": {
     "end_time": "2024-04-11T07:08:35.966656Z",
     "start_time": "2024-04-11T07:08:35.557365900Z"
    }
   },
   "cell_type": "code",
   "source": [
    "%%sql\n",
    "WITH Stats AS (\n",
    "    SELECT \n",
    "        PERCENTILE_CONT(0.5) WITHIN GROUP (ORDER BY JOURNEYS_MILLIONS) AS median,\n",
    "        PERCENTILE_CONT(0.25) WITHIN GROUP (ORDER BY JOURNEYS_MILLIONS) AS q1,\n",
    "        PERCENTILE_CONT(0.75) WITHIN GROUP (ORDER BY JOURNEYS_MILLIONS) AS q3\n",
    "    FROM TFL\n",
    "),\n",
    "Filtered AS (\n",
    "    SELECT *\n",
    "    FROM TFL t\n",
    "    JOIN Stats s ON 1=1\n",
    "    WHERE t.JOURNEYS_MILLIONS IS NOT NULL AND\n",
    "          t.JOURNEYS_MILLIONS BETWEEN s.median - 1.5 * (s.q3 - s.q1) AND s.median + 1.5 * (s.q3 - s.q1)\n",
    ")\n",
    "SELECT *\n",
    "FROM Filtered;"
   ],
   "id": "a066953f4f69cd2e",
   "outputs": [
    {
     "data": {
      "text/plain": [
       "     month  year  days report_date       journey_type  journeys_millions  \\\n",
       "0        1  2010    31  06/30/2010  Underground & DLR          96.836391   \n",
       "1        2  2010    28  06/30/2010  Underground & DLR          90.330504   \n",
       "2        3  2010    31  06/30/2010  Underground & DLR          90.038014   \n",
       "3        4  2010    30  09/30/2010  Underground & DLR          92.544093   \n",
       "4        5  2010    31  09/30/2010  Underground & DLR          88.662911   \n",
       "..     ...   ...   ...         ...                ...                ...   \n",
       "737      8  2022    31  12/31/2022           TfL Rail          12.515850   \n",
       "738      9  2022    30  12/31/2022           TfL Rail          15.223201   \n",
       "739     10  2022    31  03/31/2023           TfL Rail           8.875033   \n",
       "740     11  2022    30  03/31/2023           TfL Rail          13.404840   \n",
       "741     12  2022    31  03/31/2023           TfL Rail          14.041961   \n",
       "\n",
       "       median        q1          q3  \n",
       "0    9.780669  2.133444  105.064674  \n",
       "1    9.780669  2.133444  105.064674  \n",
       "2    9.780669  2.133444  105.064674  \n",
       "3    9.780669  2.133444  105.064674  \n",
       "4    9.780669  2.133444  105.064674  \n",
       "..        ...       ...         ...  \n",
       "737  9.780669  2.133444  105.064674  \n",
       "738  9.780669  2.133444  105.064674  \n",
       "739  9.780669  2.133444  105.064674  \n",
       "740  9.780669  2.133444  105.064674  \n",
       "741  9.780669  2.133444  105.064674  \n",
       "\n",
       "[742 rows x 9 columns]"
      ],
      "text/html": [
       "<div>\n",
       "<style scoped>\n",
       "    .dataframe tbody tr th:only-of-type {\n",
       "        vertical-align: middle;\n",
       "    }\n",
       "\n",
       "    .dataframe tbody tr th {\n",
       "        vertical-align: top;\n",
       "    }\n",
       "\n",
       "    .dataframe thead th {\n",
       "        text-align: right;\n",
       "    }\n",
       "</style>\n",
       "<table border=\"1\" class=\"dataframe\">\n",
       "  <thead>\n",
       "    <tr style=\"text-align: right;\">\n",
       "      <th></th>\n",
       "      <th>month</th>\n",
       "      <th>year</th>\n",
       "      <th>days</th>\n",
       "      <th>report_date</th>\n",
       "      <th>journey_type</th>\n",
       "      <th>journeys_millions</th>\n",
       "      <th>median</th>\n",
       "      <th>q1</th>\n",
       "      <th>q3</th>\n",
       "    </tr>\n",
       "  </thead>\n",
       "  <tbody>\n",
       "    <tr>\n",
       "      <th>0</th>\n",
       "      <td>1</td>\n",
       "      <td>2010</td>\n",
       "      <td>31</td>\n",
       "      <td>06/30/2010</td>\n",
       "      <td>Underground &amp; DLR</td>\n",
       "      <td>96.836391</td>\n",
       "      <td>9.780669</td>\n",
       "      <td>2.133444</td>\n",
       "      <td>105.064674</td>\n",
       "    </tr>\n",
       "    <tr>\n",
       "      <th>1</th>\n",
       "      <td>2</td>\n",
       "      <td>2010</td>\n",
       "      <td>28</td>\n",
       "      <td>06/30/2010</td>\n",
       "      <td>Underground &amp; DLR</td>\n",
       "      <td>90.330504</td>\n",
       "      <td>9.780669</td>\n",
       "      <td>2.133444</td>\n",
       "      <td>105.064674</td>\n",
       "    </tr>\n",
       "    <tr>\n",
       "      <th>2</th>\n",
       "      <td>3</td>\n",
       "      <td>2010</td>\n",
       "      <td>31</td>\n",
       "      <td>06/30/2010</td>\n",
       "      <td>Underground &amp; DLR</td>\n",
       "      <td>90.038014</td>\n",
       "      <td>9.780669</td>\n",
       "      <td>2.133444</td>\n",
       "      <td>105.064674</td>\n",
       "    </tr>\n",
       "    <tr>\n",
       "      <th>3</th>\n",
       "      <td>4</td>\n",
       "      <td>2010</td>\n",
       "      <td>30</td>\n",
       "      <td>09/30/2010</td>\n",
       "      <td>Underground &amp; DLR</td>\n",
       "      <td>92.544093</td>\n",
       "      <td>9.780669</td>\n",
       "      <td>2.133444</td>\n",
       "      <td>105.064674</td>\n",
       "    </tr>\n",
       "    <tr>\n",
       "      <th>4</th>\n",
       "      <td>5</td>\n",
       "      <td>2010</td>\n",
       "      <td>31</td>\n",
       "      <td>09/30/2010</td>\n",
       "      <td>Underground &amp; DLR</td>\n",
       "      <td>88.662911</td>\n",
       "      <td>9.780669</td>\n",
       "      <td>2.133444</td>\n",
       "      <td>105.064674</td>\n",
       "    </tr>\n",
       "    <tr>\n",
       "      <th>...</th>\n",
       "      <td>...</td>\n",
       "      <td>...</td>\n",
       "      <td>...</td>\n",
       "      <td>...</td>\n",
       "      <td>...</td>\n",
       "      <td>...</td>\n",
       "      <td>...</td>\n",
       "      <td>...</td>\n",
       "      <td>...</td>\n",
       "    </tr>\n",
       "    <tr>\n",
       "      <th>737</th>\n",
       "      <td>8</td>\n",
       "      <td>2022</td>\n",
       "      <td>31</td>\n",
       "      <td>12/31/2022</td>\n",
       "      <td>TfL Rail</td>\n",
       "      <td>12.515850</td>\n",
       "      <td>9.780669</td>\n",
       "      <td>2.133444</td>\n",
       "      <td>105.064674</td>\n",
       "    </tr>\n",
       "    <tr>\n",
       "      <th>738</th>\n",
       "      <td>9</td>\n",
       "      <td>2022</td>\n",
       "      <td>30</td>\n",
       "      <td>12/31/2022</td>\n",
       "      <td>TfL Rail</td>\n",
       "      <td>15.223201</td>\n",
       "      <td>9.780669</td>\n",
       "      <td>2.133444</td>\n",
       "      <td>105.064674</td>\n",
       "    </tr>\n",
       "    <tr>\n",
       "      <th>739</th>\n",
       "      <td>10</td>\n",
       "      <td>2022</td>\n",
       "      <td>31</td>\n",
       "      <td>03/31/2023</td>\n",
       "      <td>TfL Rail</td>\n",
       "      <td>8.875033</td>\n",
       "      <td>9.780669</td>\n",
       "      <td>2.133444</td>\n",
       "      <td>105.064674</td>\n",
       "    </tr>\n",
       "    <tr>\n",
       "      <th>740</th>\n",
       "      <td>11</td>\n",
       "      <td>2022</td>\n",
       "      <td>30</td>\n",
       "      <td>03/31/2023</td>\n",
       "      <td>TfL Rail</td>\n",
       "      <td>13.404840</td>\n",
       "      <td>9.780669</td>\n",
       "      <td>2.133444</td>\n",
       "      <td>105.064674</td>\n",
       "    </tr>\n",
       "    <tr>\n",
       "      <th>741</th>\n",
       "      <td>12</td>\n",
       "      <td>2022</td>\n",
       "      <td>31</td>\n",
       "      <td>03/31/2023</td>\n",
       "      <td>TfL Rail</td>\n",
       "      <td>14.041961</td>\n",
       "      <td>9.780669</td>\n",
       "      <td>2.133444</td>\n",
       "      <td>105.064674</td>\n",
       "    </tr>\n",
       "  </tbody>\n",
       "</table>\n",
       "<p>742 rows × 9 columns</p>\n",
       "</div>"
      ]
     },
     "execution_count": 31,
     "metadata": {},
     "output_type": "execute_result"
    }
   ],
   "execution_count": 31
  }
 ],
 "metadata": {
  "kernelspec": {
   "display_name": "Python 3",
   "language": "python",
   "name": "python3"
  },
  "language_info": {
   "codemirror_mode": {
    "name": "ipython",
    "version": 2
   },
   "file_extension": ".py",
   "mimetype": "text/x-python",
   "name": "python",
   "nbconvert_exporter": "python",
   "pygments_lexer": "ipython2",
   "version": "2.7.6"
  }
 },
 "nbformat": 4,
 "nbformat_minor": 5
}
