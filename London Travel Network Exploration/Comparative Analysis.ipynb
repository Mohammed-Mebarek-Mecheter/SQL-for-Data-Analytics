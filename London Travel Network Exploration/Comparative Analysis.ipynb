{
 "cells": [
  {
   "cell_type": "code",
   "id": "initial_id",
   "metadata": {
    "collapsed": true,
    "ExecuteTime": {
     "end_time": "2024-04-11T07:54:39.321759Z",
     "start_time": "2024-04-11T07:54:39.303769Z"
    }
   },
   "source": "import pandas as pd",
   "outputs": [],
   "execution_count": 9
  },
  {
   "metadata": {
    "ExecuteTime": {
     "end_time": "2024-04-11T07:54:39.419409Z",
     "start_time": "2024-04-11T07:54:39.325758Z"
    }
   },
   "cell_type": "code",
   "source": "TFL = pd.read_csv('data/tfl_journeys_cleaned.csv')",
   "id": "b4b00d3c6eed8b83",
   "outputs": [],
   "execution_count": 10
  },
  {
   "metadata": {
    "SqlCellData": {
     "variableName$1": "df_sql"
    },
    "ExecuteTime": {
     "end_time": "2024-04-11T07:54:39.494071Z",
     "start_time": "2024-04-11T07:54:39.315764Z"
    }
   },
   "cell_type": "code",
   "source": [
    "%%sql\n",
    "SELECT \n",
    "    JOURNEY_TYPE,\n",
    "    SUM(JOURNEYS_MILLIONS) AS Total_Journeys_Millions\n",
    "FROM \n",
    "    TFL\n",
    "GROUP BY \n",
    "    JOURNEY_TYPE\n",
    "ORDER BY \n",
    "    Total_Journeys_Millions DESC;"
   ],
   "id": "c2d9398c3713ecb1",
   "outputs": [
    {
     "data": {
      "text/plain": [
       "        journey_type  Total_Journeys_Millions\n",
       "0  Underground & DLR             15020.466547\n",
       "1                Bus              7015.592766\n",
       "2         Overground              1666.845665\n",
       "3           TfL Rail               411.313420\n",
       "4               Tram               314.689871\n",
       "5   Emirates Airline                14.583717"
      ],
      "text/html": [
       "<div>\n",
       "<style scoped>\n",
       "    .dataframe tbody tr th:only-of-type {\n",
       "        vertical-align: middle;\n",
       "    }\n",
       "\n",
       "    .dataframe tbody tr th {\n",
       "        vertical-align: top;\n",
       "    }\n",
       "\n",
       "    .dataframe thead th {\n",
       "        text-align: right;\n",
       "    }\n",
       "</style>\n",
       "<table border=\"1\" class=\"dataframe\">\n",
       "  <thead>\n",
       "    <tr style=\"text-align: right;\">\n",
       "      <th></th>\n",
       "      <th>journey_type</th>\n",
       "      <th>Total_Journeys_Millions</th>\n",
       "    </tr>\n",
       "  </thead>\n",
       "  <tbody>\n",
       "    <tr>\n",
       "      <th>0</th>\n",
       "      <td>Underground &amp; DLR</td>\n",
       "      <td>15020.466547</td>\n",
       "    </tr>\n",
       "    <tr>\n",
       "      <th>1</th>\n",
       "      <td>Bus</td>\n",
       "      <td>7015.592766</td>\n",
       "    </tr>\n",
       "    <tr>\n",
       "      <th>2</th>\n",
       "      <td>Overground</td>\n",
       "      <td>1666.845665</td>\n",
       "    </tr>\n",
       "    <tr>\n",
       "      <th>3</th>\n",
       "      <td>TfL Rail</td>\n",
       "      <td>411.313420</td>\n",
       "    </tr>\n",
       "    <tr>\n",
       "      <th>4</th>\n",
       "      <td>Tram</td>\n",
       "      <td>314.689871</td>\n",
       "    </tr>\n",
       "    <tr>\n",
       "      <th>5</th>\n",
       "      <td>Emirates Airline</td>\n",
       "      <td>14.583717</td>\n",
       "    </tr>\n",
       "  </tbody>\n",
       "</table>\n",
       "</div>"
      ]
     },
     "execution_count": 11,
     "metadata": {},
     "output_type": "execute_result"
    }
   ],
   "execution_count": 11
  },
  {
   "metadata": {
    "SqlCellData": {
     "variableName$1": "df_sql1"
    },
    "ExecuteTime": {
     "end_time": "2024-04-11T07:54:39.700907Z",
     "start_time": "2024-04-11T07:54:39.386937600Z"
    }
   },
   "cell_type": "code",
   "source": [
    "%%sql\n",
    "SELECT \n",
    "    CASE \n",
    "        WHEN DAYOFWEEK(CAST(REPORT_DATE AS DATE)) IN (1, 7) THEN 'Weekend'\n",
    "        ELSE 'Weekday'\n",
    "    END AS Day_Type,\n",
    "    AVG(JOURNEYS_MILLIONS) AS Average_Journeys_Millions\n",
    "FROM \n",
    "    TFL\n",
    "GROUP BY \n",
    "    Day_Type;"
   ],
   "id": "5117dde31c67e905",
   "outputs": [
    {
     "data": {
      "text/plain": [
       "  Day_Type  Average_Journeys_Millions\n",
       "0  Weekday                  32.755662\n",
       "1  Weekend                  34.427841"
      ],
      "text/html": [
       "<div>\n",
       "<style scoped>\n",
       "    .dataframe tbody tr th:only-of-type {\n",
       "        vertical-align: middle;\n",
       "    }\n",
       "\n",
       "    .dataframe tbody tr th {\n",
       "        vertical-align: top;\n",
       "    }\n",
       "\n",
       "    .dataframe thead th {\n",
       "        text-align: right;\n",
       "    }\n",
       "</style>\n",
       "<table border=\"1\" class=\"dataframe\">\n",
       "  <thead>\n",
       "    <tr style=\"text-align: right;\">\n",
       "      <th></th>\n",
       "      <th>Day_Type</th>\n",
       "      <th>Average_Journeys_Millions</th>\n",
       "    </tr>\n",
       "  </thead>\n",
       "  <tbody>\n",
       "    <tr>\n",
       "      <th>0</th>\n",
       "      <td>Weekday</td>\n",
       "      <td>32.755662</td>\n",
       "    </tr>\n",
       "    <tr>\n",
       "      <th>1</th>\n",
       "      <td>Weekend</td>\n",
       "      <td>34.427841</td>\n",
       "    </tr>\n",
       "  </tbody>\n",
       "</table>\n",
       "</div>"
      ]
     },
     "execution_count": 12,
     "metadata": {},
     "output_type": "execute_result"
    }
   ],
   "execution_count": 12
  },
  {
   "metadata": {},
   "cell_type": "markdown",
   "source": [
    "### Comparative Analysis of Transport Modes\n",
    "\n",
    "#### Overview of Journey Volumes\n",
    "\n",
    "- **Underground & DLR**: The most heavily utilized transport mode, with approximately 15,020.47 million journeys over the analyzed period. The London Underground and Docklands Light Railway are essential components of London's public transport network, catering to a significant portion of commuters and travelers.\n",
    "\n",
    "- **Bus**: The second most utilized mode of transport, with approximately 7,015.59 million journeys. Buses play a crucial role in providing accessibility to areas not served by other modes of transport and complementing the Underground and Overground services.\n",
    "\n",
    "- **Overground**: Follows with approximately 1,666.85 million journeys, providing vital connectivity across various parts of London, particularly in areas not well-served by the Underground network.\n",
    "\n",
    "- **TfL Rail**, **Tram**, and **Emirates Airline**: Each contribute to the overall transport network, serving specific niches and providing connectivity to different parts of the city.\n",
    "\n",
    "### Conclusion\n",
    "\n",
    "The analysis reveals the diverse range of transport modes available in London, each fulfilling specific travel needs and serving different parts of the city. The Underground & DLR and bus services emerge as the most popular modes, reflecting their widespread coverage and accessibility.\n",
    "\n",
    "The data underscores the importance of a comprehensive public transport network in facilitating mobility and connectivity within urban environments. London's transport infrastructure plays a vital role in supporting economic growth, reducing traffic congestion, and enhancing the quality of life for residents and visitors alike."
   ],
   "id": "19d514d330c55f87"
  }
 ],
 "metadata": {
  "kernelspec": {
   "display_name": "Python 3",
   "language": "python",
   "name": "python3"
  },
  "language_info": {
   "codemirror_mode": {
    "name": "ipython",
    "version": 2
   },
   "file_extension": ".py",
   "mimetype": "text/x-python",
   "name": "python",
   "nbconvert_exporter": "python",
   "pygments_lexer": "ipython2",
   "version": "2.7.6"
  }
 },
 "nbformat": 4,
 "nbformat_minor": 5
}
