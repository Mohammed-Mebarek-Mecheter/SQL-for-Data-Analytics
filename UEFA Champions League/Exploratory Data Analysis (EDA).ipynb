{
 "cells": [
  {
   "cell_type": "code",
   "id": "initial_id",
   "metadata": {
    "collapsed": true,
    "ExecuteTime": {
     "end_time": "2024-04-05T01:36:43.918935Z",
     "start_time": "2024-04-05T01:36:43.208545Z"
    }
   },
   "source": [
    "import pandas as pd\n",
    "\n",
    "TBL_UEFA_2020 = pd.read_csv('uefa_2020.csv', sep=',', encoding='latin1')\n",
    "TBL_UEFA_2021 = pd.read_csv('uefa_2021.csv', sep=',', encoding='latin1')\n",
    "TBL_UEFA_2022 = pd.read_csv('uefa_2022.csv', sep=',', encoding='latin1')"
   ],
   "outputs": [],
   "execution_count": 1
  },
  {
   "metadata": {
    "SqlCellData": {
     "variableName$1": "df_sql"
    },
    "ExecuteTime": {
     "end_time": "2024-04-05T01:44:21.907255Z",
     "start_time": "2024-04-05T01:44:21.774599200Z"
    }
   },
   "cell_type": "code",
   "source": [
    "%%sql\n",
    "SELECT \n",
    "    CASE \n",
    "        WHEN TEAM_HOME_SCORE > TEAM_AWAY_SCORE THEN 'Home Team Win'\n",
    "        WHEN TEAM_HOME_SCORE < TEAM_AWAY_SCORE THEN 'Away Team Win'\n",
    "        ELSE 'Draw'\n",
    "    END AS Match_Outcome,\n",
    "    COUNT(*) AS Frequency_2020\n",
    "FROM \n",
    "    TBL_UEFA_2020\n",
    "GROUP BY \n",
    "    Match_Outcome;"
   ],
   "id": "dad9de7882ee9460",
   "outputs": [
    {
     "data": {
      "text/plain": [
       "   Match_Outcome  Frequency_2020\n",
       "0  Away Team Win              50\n",
       "1  Home Team Win              51\n",
       "2           Draw              24"
      ],
      "text/html": [
       "<div>\n",
       "<style scoped>\n",
       "    .dataframe tbody tr th:only-of-type {\n",
       "        vertical-align: middle;\n",
       "    }\n",
       "\n",
       "    .dataframe tbody tr th {\n",
       "        vertical-align: top;\n",
       "    }\n",
       "\n",
       "    .dataframe thead th {\n",
       "        text-align: right;\n",
       "    }\n",
       "</style>\n",
       "<table border=\"1\" class=\"dataframe\">\n",
       "  <thead>\n",
       "    <tr style=\"text-align: right;\">\n",
       "      <th></th>\n",
       "      <th>Match_Outcome</th>\n",
       "      <th>Frequency_2020</th>\n",
       "    </tr>\n",
       "  </thead>\n",
       "  <tbody>\n",
       "    <tr>\n",
       "      <th>0</th>\n",
       "      <td>Away Team Win</td>\n",
       "      <td>50</td>\n",
       "    </tr>\n",
       "    <tr>\n",
       "      <th>1</th>\n",
       "      <td>Home Team Win</td>\n",
       "      <td>51</td>\n",
       "    </tr>\n",
       "    <tr>\n",
       "      <th>2</th>\n",
       "      <td>Draw</td>\n",
       "      <td>24</td>\n",
       "    </tr>\n",
       "  </tbody>\n",
       "</table>\n",
       "</div>"
      ]
     },
     "execution_count": 4,
     "metadata": {},
     "output_type": "execute_result"
    }
   ],
   "execution_count": 4
  },
  {
   "metadata": {
    "SqlCellData": {
     "variableName$1": "df_sql1"
    },
    "ExecuteTime": {
     "end_time": "2024-04-05T01:44:44.265560Z",
     "start_time": "2024-04-05T01:44:44.173046500Z"
    }
   },
   "cell_type": "code",
   "source": [
    "%%sql\n",
    "SELECT \n",
    "    CASE \n",
    "        WHEN TEAM_HOME_SCORE > TEAM_AWAY_SCORE THEN 'Home Team Win'\n",
    "        WHEN TEAM_HOME_SCORE < TEAM_AWAY_SCORE THEN 'Away Team Win'\n",
    "        ELSE 'Draw'\n",
    "    END AS Match_Outcome,\n",
    "    COUNT(*) AS Frequency_2021\n",
    "FROM \n",
    "    TBL_UEFA_2021\n",
    "GROUP BY \n",
    "    Match_Outcome;"
   ],
   "id": "fded12beded826bc",
   "outputs": [
    {
     "data": {
      "text/plain": [
       "   Match_Outcome  Frequency_2021\n",
       "0  Home Team Win              56\n",
       "1           Draw              26\n",
       "2  Away Team Win              43"
      ],
      "text/html": [
       "<div>\n",
       "<style scoped>\n",
       "    .dataframe tbody tr th:only-of-type {\n",
       "        vertical-align: middle;\n",
       "    }\n",
       "\n",
       "    .dataframe tbody tr th {\n",
       "        vertical-align: top;\n",
       "    }\n",
       "\n",
       "    .dataframe thead th {\n",
       "        text-align: right;\n",
       "    }\n",
       "</style>\n",
       "<table border=\"1\" class=\"dataframe\">\n",
       "  <thead>\n",
       "    <tr style=\"text-align: right;\">\n",
       "      <th></th>\n",
       "      <th>Match_Outcome</th>\n",
       "      <th>Frequency_2021</th>\n",
       "    </tr>\n",
       "  </thead>\n",
       "  <tbody>\n",
       "    <tr>\n",
       "      <th>0</th>\n",
       "      <td>Home Team Win</td>\n",
       "      <td>56</td>\n",
       "    </tr>\n",
       "    <tr>\n",
       "      <th>1</th>\n",
       "      <td>Draw</td>\n",
       "      <td>26</td>\n",
       "    </tr>\n",
       "    <tr>\n",
       "      <th>2</th>\n",
       "      <td>Away Team Win</td>\n",
       "      <td>43</td>\n",
       "    </tr>\n",
       "  </tbody>\n",
       "</table>\n",
       "</div>"
      ]
     },
     "execution_count": 5,
     "metadata": {},
     "output_type": "execute_result"
    }
   ],
   "execution_count": 5
  },
  {
   "metadata": {
    "SqlCellData": {
     "variableName$1": "df_sql2"
    },
    "ExecuteTime": {
     "end_time": "2024-04-05T01:45:38.382563Z",
     "start_time": "2024-04-05T01:45:38.320455400Z"
    }
   },
   "cell_type": "code",
   "source": [
    "%%sql\n",
    "SELECT \n",
    "    CASE \n",
    "        WHEN TEAM_HOME_SCORE > TEAM_AWAY_SCORE THEN 'Home Team Win'\n",
    "        WHEN TEAM_HOME_SCORE < TEAM_AWAY_SCORE THEN 'Away Team Win'\n",
    "        ELSE 'Draw'\n",
    "    END AS Match_Outcome,\n",
    "    COUNT(*) AS Frequency_2022\n",
    "FROM \n",
    "    TBL_UEFA_2022\n",
    "GROUP BY \n",
    "    Match_Outcome;"
   ],
   "id": "ab8d8ceb49519074",
   "outputs": [
    {
     "data": {
      "text/plain": [
       "   Match_Outcome  Frequency_2022\n",
       "0  Away Team Win              38\n",
       "1  Home Team Win              61\n",
       "2           Draw              26"
      ],
      "text/html": [
       "<div>\n",
       "<style scoped>\n",
       "    .dataframe tbody tr th:only-of-type {\n",
       "        vertical-align: middle;\n",
       "    }\n",
       "\n",
       "    .dataframe tbody tr th {\n",
       "        vertical-align: top;\n",
       "    }\n",
       "\n",
       "    .dataframe thead th {\n",
       "        text-align: right;\n",
       "    }\n",
       "</style>\n",
       "<table border=\"1\" class=\"dataframe\">\n",
       "  <thead>\n",
       "    <tr style=\"text-align: right;\">\n",
       "      <th></th>\n",
       "      <th>Match_Outcome</th>\n",
       "      <th>Frequency_2022</th>\n",
       "    </tr>\n",
       "  </thead>\n",
       "  <tbody>\n",
       "    <tr>\n",
       "      <th>0</th>\n",
       "      <td>Away Team Win</td>\n",
       "      <td>38</td>\n",
       "    </tr>\n",
       "    <tr>\n",
       "      <th>1</th>\n",
       "      <td>Home Team Win</td>\n",
       "      <td>61</td>\n",
       "    </tr>\n",
       "    <tr>\n",
       "      <th>2</th>\n",
       "      <td>Draw</td>\n",
       "      <td>26</td>\n",
       "    </tr>\n",
       "  </tbody>\n",
       "</table>\n",
       "</div>"
      ]
     },
     "execution_count": 6,
     "metadata": {},
     "output_type": "execute_result"
    }
   ],
   "execution_count": 6
  },
  {
   "metadata": {
    "SqlCellData": {
     "variableName$1": "df_sql3"
    },
    "ExecuteTime": {
     "end_time": "2024-04-05T01:53:54.140984Z",
     "start_time": "2024-04-05T01:53:53.945700200Z"
    }
   },
   "cell_type": "code",
   "source": [
    "%%sql\n",
    "-- Average ball possession for home and away teams across three years\n",
    "SELECT \n",
    "    'Home' AS Team_Location,\n",
    "    AVG(CAST(REPLACE(POSSESSION_HOME, '%', '') AS FLOAT)) AS Avg_Possession\n",
    "FROM \n",
    "    TBL_UEFA_2020\n",
    "UNION ALL\n",
    "SELECT \n",
    "    'Away' AS Team_Location,\n",
    "    AVG(CAST(REPLACE(POSSESSION_AWAY, '%', '') AS FLOAT)) AS Avg_Possession\n",
    "FROM \n",
    "    TBL_UEFA_2020\n",
    "UNION ALL\n",
    "SELECT \n",
    "    'Home' AS Team_Location,\n",
    "    AVG(CAST(REPLACE(POSSESSION_HOME, '%', '') AS FLOAT)) AS Avg_Possession\n",
    "FROM \n",
    "    TBL_UEFA_2021\n",
    "UNION ALL\n",
    "SELECT \n",
    "    'Away' AS Team_Location,\n",
    "    AVG(CAST(REPLACE(POSSESSION_AWAY, '%', '') AS FLOAT)) AS Avg_Possession\n",
    "FROM \n",
    "    TBL_UEFA_2021\n",
    "UNION ALL\n",
    "SELECT \n",
    "    'Home' AS Team_Location,\n",
    "    AVG(CAST(REPLACE(POSSESSION_HOME, '%', '') AS FLOAT)) AS Avg_Possession\n",
    "FROM \n",
    "    TBL_UEFA_2022\n",
    "UNION ALL\n",
    "SELECT \n",
    "    'Away' AS Team_Location,\n",
    "    AVG(CAST(REPLACE(POSSESSION_AWAY, '%', '') AS FLOAT)) AS Avg_Possession\n",
    "FROM \n",
    "    TBL_UEFA_2022;"
   ],
   "id": "47c87a825778c5a9",
   "outputs": [
    {
     "data": {
      "text/plain": [
       "  Team_Location  Avg_Possession\n",
       "0          Home          49.808\n",
       "1          Away          50.192\n",
       "2          Home          46.880\n",
       "3          Away          53.120\n",
       "4          Home          50.952\n",
       "5          Away          48.968"
      ],
      "text/html": [
       "<div>\n",
       "<style scoped>\n",
       "    .dataframe tbody tr th:only-of-type {\n",
       "        vertical-align: middle;\n",
       "    }\n",
       "\n",
       "    .dataframe tbody tr th {\n",
       "        vertical-align: top;\n",
       "    }\n",
       "\n",
       "    .dataframe thead th {\n",
       "        text-align: right;\n",
       "    }\n",
       "</style>\n",
       "<table border=\"1\" class=\"dataframe\">\n",
       "  <thead>\n",
       "    <tr style=\"text-align: right;\">\n",
       "      <th></th>\n",
       "      <th>Team_Location</th>\n",
       "      <th>Avg_Possession</th>\n",
       "    </tr>\n",
       "  </thead>\n",
       "  <tbody>\n",
       "    <tr>\n",
       "      <th>0</th>\n",
       "      <td>Home</td>\n",
       "      <td>49.808</td>\n",
       "    </tr>\n",
       "    <tr>\n",
       "      <th>1</th>\n",
       "      <td>Away</td>\n",
       "      <td>50.192</td>\n",
       "    </tr>\n",
       "    <tr>\n",
       "      <th>2</th>\n",
       "      <td>Home</td>\n",
       "      <td>46.880</td>\n",
       "    </tr>\n",
       "    <tr>\n",
       "      <th>3</th>\n",
       "      <td>Away</td>\n",
       "      <td>53.120</td>\n",
       "    </tr>\n",
       "    <tr>\n",
       "      <th>4</th>\n",
       "      <td>Home</td>\n",
       "      <td>50.952</td>\n",
       "    </tr>\n",
       "    <tr>\n",
       "      <th>5</th>\n",
       "      <td>Away</td>\n",
       "      <td>48.968</td>\n",
       "    </tr>\n",
       "  </tbody>\n",
       "</table>\n",
       "</div>"
      ]
     },
     "execution_count": 8,
     "metadata": {},
     "output_type": "execute_result"
    }
   ],
   "execution_count": 8
  },
  {
   "metadata": {},
   "cell_type": "markdown",
   "source": [
    "###### For TBL_UEFA_2020:\n",
    " Home Team: Average possession is approximately 49.808% \n",
    "Away Team: Average possession is approximately 50.192%.\n",
    "\n",
    "###### For TBL_UEFA_2021:\n",
    "Home Team: Average possession is approximately 46.880%\n",
    "Away Team: Average possession is approximately 53.120%\n",
    "\n",
    "###### For TBL_UEFA_2022:\n",
    "Home Team: Average possession is approximately 50.952%\n",
    "Away Team: Average possession is approximately 48.968%"
   ],
   "id": "1f41e5f7aabd74"
  },
  {
   "metadata": {
    "SqlCellData": {
     "variableName$1": "df_sql4"
    },
    "ExecuteTime": {
     "end_time": "2024-04-05T02:03:24.688201Z",
     "start_time": "2024-04-05T02:03:24.486273900Z"
    }
   },
   "cell_type": "code",
   "source": [
    "%%sql\n",
    "-- Correlation for home teams\n",
    "SELECT \n",
    "    'Home' AS Team_Location,\n",
    "    CORR(CAST(REPLACE(POSSESSION_HOME, '%', '') AS FLOAT), TOTAL_SHOTS_HOME) AS Correlation\n",
    "FROM \n",
    "    TBL_UEFA_2020\n",
    "UNION ALL\n",
    "SELECT \n",
    "    'Home' AS Team_Location,\n",
    "    CORR(CAST(REPLACE(POSSESSION_HOME, '%', '') AS FLOAT), TOTAL_SHOTS_HOME) AS Correlation\n",
    "FROM \n",
    "    TBL_UEFA_2021\n",
    "UNION ALL\n",
    "SELECT \n",
    "    'Home' AS Team_Location,\n",
    "    CORR(CAST(REPLACE(POSSESSION_HOME, '%', '') AS FLOAT), TOTAL_SHOTS_HOME) AS Correlation\n",
    "FROM \n",
    "    TBL_UEFA_2022\n",
    "UNION ALL\n",
    "-- Correlation for away teams\n",
    "SELECT \n",
    "    'Away' AS Team_Location,\n",
    "    CORR(CAST(REPLACE(POSSESSION_AWAY, '%', '') AS FLOAT), TOTAL_SHOTS_AWAY) AS Correlation\n",
    "FROM \n",
    "    TBL_UEFA_2020\n",
    "UNION ALL\n",
    "SELECT \n",
    "    'Away' AS Team_Location,\n",
    "    CORR(CAST(REPLACE(POSSESSION_AWAY, '%', '') AS FLOAT), TOTAL_SHOTS_AWAY) AS Correlation\n",
    "FROM \n",
    "    TBL_UEFA_2021\n",
    "UNION ALL\n",
    "SELECT \n",
    "    'Away' AS Team_Location,\n",
    "    CORR(CAST(REPLACE(POSSESSION_AWAY, '%', '') AS FLOAT), TOTAL_SHOTS_AWAY) AS Correlation\n",
    "FROM \n",
    "    TBL_UEFA_2022;"
   ],
   "id": "48b063b5b054c02b",
   "outputs": [
    {
     "data": {
      "text/plain": [
       "  Team_Location  Correlation\n",
       "0          Home     0.557674\n",
       "1          Home    -0.001806\n",
       "2          Home     0.530543\n",
       "3          Away     0.515041\n",
       "4          Away     0.517382\n",
       "5          Away     0.471057"
      ],
      "text/html": [
       "<div>\n",
       "<style scoped>\n",
       "    .dataframe tbody tr th:only-of-type {\n",
       "        vertical-align: middle;\n",
       "    }\n",
       "\n",
       "    .dataframe tbody tr th {\n",
       "        vertical-align: top;\n",
       "    }\n",
       "\n",
       "    .dataframe thead th {\n",
       "        text-align: right;\n",
       "    }\n",
       "</style>\n",
       "<table border=\"1\" class=\"dataframe\">\n",
       "  <thead>\n",
       "    <tr style=\"text-align: right;\">\n",
       "      <th></th>\n",
       "      <th>Team_Location</th>\n",
       "      <th>Correlation</th>\n",
       "    </tr>\n",
       "  </thead>\n",
       "  <tbody>\n",
       "    <tr>\n",
       "      <th>0</th>\n",
       "      <td>Home</td>\n",
       "      <td>0.557674</td>\n",
       "    </tr>\n",
       "    <tr>\n",
       "      <th>1</th>\n",
       "      <td>Home</td>\n",
       "      <td>-0.001806</td>\n",
       "    </tr>\n",
       "    <tr>\n",
       "      <th>2</th>\n",
       "      <td>Home</td>\n",
       "      <td>0.530543</td>\n",
       "    </tr>\n",
       "    <tr>\n",
       "      <th>3</th>\n",
       "      <td>Away</td>\n",
       "      <td>0.515041</td>\n",
       "    </tr>\n",
       "    <tr>\n",
       "      <th>4</th>\n",
       "      <td>Away</td>\n",
       "      <td>0.517382</td>\n",
       "    </tr>\n",
       "    <tr>\n",
       "      <th>5</th>\n",
       "      <td>Away</td>\n",
       "      <td>0.471057</td>\n",
       "    </tr>\n",
       "  </tbody>\n",
       "</table>\n",
       "</div>"
      ]
     },
     "execution_count": 11,
     "metadata": {},
     "output_type": "execute_result"
    }
   ],
   "execution_count": 11
  },
  {
   "metadata": {},
   "cell_type": "markdown",
   "source": [
    "For Home Teams:\n",
    "\n",
    "In TBL_UEFA_2020: The correlation coefficient between possession and the number of shots taken by home teams is approximately 0.5577, indicating a moderately positive correlation.\n",
    "In TBL_UEFA_2021: The correlation coefficient is approximately -0.0018, indicating a very weak or negligible correlation.\n",
    "In TBL_UEFA_2022: The correlation coefficient is approximately 0.5305, indicating a moderately positive correlation.\n",
    "For Away Teams:\n",
    "\n",
    "In TBL_UEFA_2020: The correlation coefficient between possession and the number of shots taken by away teams is approximately 0.5150, indicating a moderately positive correlation.\n",
    "In TBL_UEFA_2021: The correlation coefficient is approximately 0.5174, indicating a moderately positive correlation.\n",
    "In TBL_UEFA_2022: The correlation coefficient is approximately 0.4711, indicating a moderately positive correlation."
   ],
   "id": "5ae0aefd25f9d7e9"
  },
  {
   "metadata": {},
   "cell_type": "markdown",
   "source": "##### Highest average possession and shots on target for UEFA_2020:",
   "id": "e495f1b38950ec92"
  },
  {
   "metadata": {
    "SqlCellData": {
     "variableName$1": "df_sql16"
    },
    "ExecuteTime": {
     "end_time": "2024-04-05T02:12:27.629021Z",
     "start_time": "2024-04-05T02:12:27.476894200Z"
    }
   },
   "cell_type": "code",
   "source": [
    "%%sql\n",
    "-- Highest average possession and shots on target for home teams\n",
    "SELECT \n",
    "    'Home' AS Team_Location,\n",
    "    TEAM_NAME_HOME AS Team_Name,\n",
    "    AVG(CAST(REPLACE(POSSESSION_HOME, '%', '') AS FLOAT)) AS Avg_Possession,\n",
    "    AVG(SHOTS_ON_TARGET_HOME) AS Avg_Shots_On_Target\n",
    "FROM \n",
    "    TBL_UEFA_2020\n",
    "GROUP BY \n",
    "    Team_Name\n",
    "ORDER BY \n",
    "    Avg_Possession DESC,\n",
    "    Avg_Shots_On_Target DESC\n",
    "LIMIT 5;"
   ],
   "id": "a08cdc86341c6c49",
   "outputs": [
    {
     "data": {
      "text/plain": [
       "  Team_Location          Team_Name  Avg_Possession  Avg_Shots_On_Target\n",
       "0          Home           Sevilla        62.750000             7.000000\n",
       "1          Home     Bayern Munich        62.400000             6.600000\n",
       "2          Home         Barcelona        59.750000             9.000000\n",
       "3          Home   Manchester City        59.428571             5.428571\n",
       "4          Home          Juventus        57.500000             6.750000"
      ],
      "text/html": [
       "<div>\n",
       "<style scoped>\n",
       "    .dataframe tbody tr th:only-of-type {\n",
       "        vertical-align: middle;\n",
       "    }\n",
       "\n",
       "    .dataframe tbody tr th {\n",
       "        vertical-align: top;\n",
       "    }\n",
       "\n",
       "    .dataframe thead th {\n",
       "        text-align: right;\n",
       "    }\n",
       "</style>\n",
       "<table border=\"1\" class=\"dataframe\">\n",
       "  <thead>\n",
       "    <tr style=\"text-align: right;\">\n",
       "      <th></th>\n",
       "      <th>Team_Location</th>\n",
       "      <th>Team_Name</th>\n",
       "      <th>Avg_Possession</th>\n",
       "      <th>Avg_Shots_On_Target</th>\n",
       "    </tr>\n",
       "  </thead>\n",
       "  <tbody>\n",
       "    <tr>\n",
       "      <th>0</th>\n",
       "      <td>Home</td>\n",
       "      <td>Sevilla</td>\n",
       "      <td>62.750000</td>\n",
       "      <td>7.000000</td>\n",
       "    </tr>\n",
       "    <tr>\n",
       "      <th>1</th>\n",
       "      <td>Home</td>\n",
       "      <td>Bayern Munich</td>\n",
       "      <td>62.400000</td>\n",
       "      <td>6.600000</td>\n",
       "    </tr>\n",
       "    <tr>\n",
       "      <th>2</th>\n",
       "      <td>Home</td>\n",
       "      <td>Barcelona</td>\n",
       "      <td>59.750000</td>\n",
       "      <td>9.000000</td>\n",
       "    </tr>\n",
       "    <tr>\n",
       "      <th>3</th>\n",
       "      <td>Home</td>\n",
       "      <td>Manchester City</td>\n",
       "      <td>59.428571</td>\n",
       "      <td>5.428571</td>\n",
       "    </tr>\n",
       "    <tr>\n",
       "      <th>4</th>\n",
       "      <td>Home</td>\n",
       "      <td>Juventus</td>\n",
       "      <td>57.500000</td>\n",
       "      <td>6.750000</td>\n",
       "    </tr>\n",
       "  </tbody>\n",
       "</table>\n",
       "</div>"
      ]
     },
     "execution_count": 17,
     "metadata": {},
     "output_type": "execute_result"
    }
   ],
   "execution_count": 17
  },
  {
   "metadata": {
    "SqlCellData": {
     "variableName$1": "df_sql6"
    },
    "ExecuteTime": {
     "end_time": "2024-04-05T02:12:38.882676Z",
     "start_time": "2024-04-05T02:12:38.727740400Z"
    }
   },
   "cell_type": "code",
   "source": [
    "%%sql\n",
    "-- Highest average possession and shots on target for away teams\n",
    "SELECT \n",
    "    'Away' AS Team_Location,\n",
    "    TEAM_NAME_AWAY AS Team_Name,\n",
    "    AVG(CAST(REPLACE(POSSESSION_AWAY, '%', '') AS FLOAT)) AS Avg_Possession,\n",
    "    AVG(SHOTS_ON_TARGET_AWAY) AS Avg_Shots_On_Target\n",
    "FROM \n",
    "    TBL_UEFA_2020\n",
    "GROUP BY \n",
    "    Team_Name\n",
    "ORDER BY \n",
    "    Avg_Possession DESC,\n",
    "    Avg_Shots_On_Target DESC\n",
    "LIMIT 5;"
   ],
   "id": "ab5c800d99590f91",
   "outputs": [
    {
     "data": {
      "text/plain": [
       "  Team_Location          Team_Name  Avg_Possession  Avg_Shots_On_Target\n",
       "0          Away         Barcelona        66.250000                 6.50\n",
       "1          Away   Manchester City        62.666667                 6.00\n",
       "2          Away       Real Madrid        61.333333                 5.00\n",
       "3          Away           Sevilla        59.000000                 5.75\n",
       "4          Away     Bayern Munich        58.600000                 5.80"
      ],
      "text/html": [
       "<div>\n",
       "<style scoped>\n",
       "    .dataframe tbody tr th:only-of-type {\n",
       "        vertical-align: middle;\n",
       "    }\n",
       "\n",
       "    .dataframe tbody tr th {\n",
       "        vertical-align: top;\n",
       "    }\n",
       "\n",
       "    .dataframe thead th {\n",
       "        text-align: right;\n",
       "    }\n",
       "</style>\n",
       "<table border=\"1\" class=\"dataframe\">\n",
       "  <thead>\n",
       "    <tr style=\"text-align: right;\">\n",
       "      <th></th>\n",
       "      <th>Team_Location</th>\n",
       "      <th>Team_Name</th>\n",
       "      <th>Avg_Possession</th>\n",
       "      <th>Avg_Shots_On_Target</th>\n",
       "    </tr>\n",
       "  </thead>\n",
       "  <tbody>\n",
       "    <tr>\n",
       "      <th>0</th>\n",
       "      <td>Away</td>\n",
       "      <td>Barcelona</td>\n",
       "      <td>66.250000</td>\n",
       "      <td>6.50</td>\n",
       "    </tr>\n",
       "    <tr>\n",
       "      <th>1</th>\n",
       "      <td>Away</td>\n",
       "      <td>Manchester City</td>\n",
       "      <td>62.666667</td>\n",
       "      <td>6.00</td>\n",
       "    </tr>\n",
       "    <tr>\n",
       "      <th>2</th>\n",
       "      <td>Away</td>\n",
       "      <td>Real Madrid</td>\n",
       "      <td>61.333333</td>\n",
       "      <td>5.00</td>\n",
       "    </tr>\n",
       "    <tr>\n",
       "      <th>3</th>\n",
       "      <td>Away</td>\n",
       "      <td>Sevilla</td>\n",
       "      <td>59.000000</td>\n",
       "      <td>5.75</td>\n",
       "    </tr>\n",
       "    <tr>\n",
       "      <th>4</th>\n",
       "      <td>Away</td>\n",
       "      <td>Bayern Munich</td>\n",
       "      <td>58.600000</td>\n",
       "      <td>5.80</td>\n",
       "    </tr>\n",
       "  </tbody>\n",
       "</table>\n",
       "</div>"
      ]
     },
     "execution_count": 18,
     "metadata": {},
     "output_type": "execute_result"
    }
   ],
   "execution_count": 18
  },
  {
   "metadata": {},
   "cell_type": "markdown",
   "source": "##### Highest average possession and shots on target for UEFA_2021:",
   "id": "7ce7bc80157137d1"
  },
  {
   "metadata": {
    "SqlCellData": {
     "variableName$1": "df_sql7"
    },
    "ExecuteTime": {
     "end_time": "2024-04-05T02:15:02.487561Z",
     "start_time": "2024-04-05T02:15:02.372221700Z"
    }
   },
   "cell_type": "code",
   "source": [
    "%%sql\n",
    "-- Highest average possession and shots on target for home teams\n",
    "SELECT \n",
    "    'Home' AS Team_Location,\n",
    "    TEAM_NAME_HOME AS Team_Name,\n",
    "    AVG(CAST(REPLACE(POSSESSION_HOME, '%', '') AS FLOAT)) AS Avg_Possession,\n",
    "    AVG(SHOTS_ON_TARGET_HOME) AS Avg_Shots_On_Target\n",
    "FROM \n",
    "    TBL_UEFA_2021\n",
    "GROUP BY \n",
    "    Team_Name\n",
    "ORDER BY \n",
    "    Avg_Possession DESC,\n",
    "    Avg_Shots_On_Target DESC\n",
    "LIMIT 5;"
   ],
   "id": "109af49b00fcf666",
   "outputs": [
    {
     "data": {
      "text/plain": [
       "  Team_Location   Team_Name  Avg_Possession  Avg_Shots_On_Target\n",
       "0          Home  Atalanta\\n       65.000000             5.000000\n",
       "1          Home      Bayern       60.750000             6.250000\n",
       "2          Home   Liverpool       57.000000             7.000000\n",
       "3          Home    Man City       55.833333             5.166667\n",
       "4          Home        Ajax       55.250000             4.000000"
      ],
      "text/html": [
       "<div>\n",
       "<style scoped>\n",
       "    .dataframe tbody tr th:only-of-type {\n",
       "        vertical-align: middle;\n",
       "    }\n",
       "\n",
       "    .dataframe tbody tr th {\n",
       "        vertical-align: top;\n",
       "    }\n",
       "\n",
       "    .dataframe thead th {\n",
       "        text-align: right;\n",
       "    }\n",
       "</style>\n",
       "<table border=\"1\" class=\"dataframe\">\n",
       "  <thead>\n",
       "    <tr style=\"text-align: right;\">\n",
       "      <th></th>\n",
       "      <th>Team_Location</th>\n",
       "      <th>Team_Name</th>\n",
       "      <th>Avg_Possession</th>\n",
       "      <th>Avg_Shots_On_Target</th>\n",
       "    </tr>\n",
       "  </thead>\n",
       "  <tbody>\n",
       "    <tr>\n",
       "      <th>0</th>\n",
       "      <td>Home</td>\n",
       "      <td>Atalanta\\n</td>\n",
       "      <td>65.000000</td>\n",
       "      <td>5.000000</td>\n",
       "    </tr>\n",
       "    <tr>\n",
       "      <th>1</th>\n",
       "      <td>Home</td>\n",
       "      <td>Bayern</td>\n",
       "      <td>60.750000</td>\n",
       "      <td>6.250000</td>\n",
       "    </tr>\n",
       "    <tr>\n",
       "      <th>2</th>\n",
       "      <td>Home</td>\n",
       "      <td>Liverpool</td>\n",
       "      <td>57.000000</td>\n",
       "      <td>7.000000</td>\n",
       "    </tr>\n",
       "    <tr>\n",
       "      <th>3</th>\n",
       "      <td>Home</td>\n",
       "      <td>Man City</td>\n",
       "      <td>55.833333</td>\n",
       "      <td>5.166667</td>\n",
       "    </tr>\n",
       "    <tr>\n",
       "      <th>4</th>\n",
       "      <td>Home</td>\n",
       "      <td>Ajax</td>\n",
       "      <td>55.250000</td>\n",
       "      <td>4.000000</td>\n",
       "    </tr>\n",
       "  </tbody>\n",
       "</table>\n",
       "</div>"
      ]
     },
     "execution_count": 19,
     "metadata": {},
     "output_type": "execute_result"
    }
   ],
   "execution_count": 19
  },
  {
   "metadata": {
    "SqlCellData": {
     "variableName$1": "df_sql8"
    },
    "ExecuteTime": {
     "end_time": "2024-04-05T02:15:05.679480Z",
     "start_time": "2024-04-05T02:15:05.623812500Z"
    }
   },
   "cell_type": "code",
   "source": [
    "%%sql\n",
    "-- Highest average possession and shots on target for away teams\n",
    "SELECT \n",
    "    'Away' AS Team_Location,\n",
    "    TEAM_NAME_AWAY AS Team_Name,\n",
    "    AVG(CAST(REPLACE(POSSESSION_AWAY, '%', '') AS FLOAT)) AS Avg_Possession,\n",
    "    AVG(SHOTS_ON_TARGET_AWAY) AS Avg_Shots_On_Target\n",
    "FROM \n",
    "    TBL_UEFA_2021\n",
    "GROUP BY \n",
    "    Team_Name\n",
    "ORDER BY \n",
    "    Avg_Possession DESC,\n",
    "    Avg_Shots_On_Target DESC\n",
    "LIMIT 5;"
   ],
   "id": "90ebc090a49a9578",
   "outputs": [
    {
     "data": {
      "text/plain": [
       "  Team_Location    Team_Name  Avg_Possession  Avg_Shots_On_Target\n",
       "0          Away    Man City             63.0             5.500000\n",
       "1          Away  Dynamo Hyiv            63.0             3.000000\n",
       "2          Away      Sevilla            62.0             3.333333\n",
       "3          Away        Zenit            61.0             6.000000\n",
       "4          Away         Ajax            60.5             6.250000"
      ],
      "text/html": [
       "<div>\n",
       "<style scoped>\n",
       "    .dataframe tbody tr th:only-of-type {\n",
       "        vertical-align: middle;\n",
       "    }\n",
       "\n",
       "    .dataframe tbody tr th {\n",
       "        vertical-align: top;\n",
       "    }\n",
       "\n",
       "    .dataframe thead th {\n",
       "        text-align: right;\n",
       "    }\n",
       "</style>\n",
       "<table border=\"1\" class=\"dataframe\">\n",
       "  <thead>\n",
       "    <tr style=\"text-align: right;\">\n",
       "      <th></th>\n",
       "      <th>Team_Location</th>\n",
       "      <th>Team_Name</th>\n",
       "      <th>Avg_Possession</th>\n",
       "      <th>Avg_Shots_On_Target</th>\n",
       "    </tr>\n",
       "  </thead>\n",
       "  <tbody>\n",
       "    <tr>\n",
       "      <th>0</th>\n",
       "      <td>Away</td>\n",
       "      <td>Man City</td>\n",
       "      <td>63.0</td>\n",
       "      <td>5.500000</td>\n",
       "    </tr>\n",
       "    <tr>\n",
       "      <th>1</th>\n",
       "      <td>Away</td>\n",
       "      <td>Dynamo Hyiv</td>\n",
       "      <td>63.0</td>\n",
       "      <td>3.000000</td>\n",
       "    </tr>\n",
       "    <tr>\n",
       "      <th>2</th>\n",
       "      <td>Away</td>\n",
       "      <td>Sevilla</td>\n",
       "      <td>62.0</td>\n",
       "      <td>3.333333</td>\n",
       "    </tr>\n",
       "    <tr>\n",
       "      <th>3</th>\n",
       "      <td>Away</td>\n",
       "      <td>Zenit</td>\n",
       "      <td>61.0</td>\n",
       "      <td>6.000000</td>\n",
       "    </tr>\n",
       "    <tr>\n",
       "      <th>4</th>\n",
       "      <td>Away</td>\n",
       "      <td>Ajax</td>\n",
       "      <td>60.5</td>\n",
       "      <td>6.250000</td>\n",
       "    </tr>\n",
       "  </tbody>\n",
       "</table>\n",
       "</div>"
      ]
     },
     "execution_count": 20,
     "metadata": {},
     "output_type": "execute_result"
    }
   ],
   "execution_count": 20
  },
  {
   "metadata": {},
   "cell_type": "markdown",
   "source": "##### Highest average possession and shots on target for UEFA_2022:",
   "id": "bb3b08e87f51882d"
  },
  {
   "metadata": {
    "SqlCellData": {
     "variableName$1": "df_sql9"
    },
    "ExecuteTime": {
     "end_time": "2024-04-05T02:15:07.625902Z",
     "start_time": "2024-04-05T02:15:07.531669Z"
    }
   },
   "cell_type": "code",
   "source": [
    "%%sql\n",
    "-- Highest average possession and shots on target for home teams\n",
    "SELECT \n",
    "    'Home' AS Team_Location,\n",
    "    TEAM_NAME_HOME AS Team_Name,\n",
    "    AVG(CAST(REPLACE(POSSESSION_HOME, '%', '') AS FLOAT)) AS Avg_Possession,\n",
    "    AVG(SHOTS_ON_TARGET_HOME) AS Avg_Shots_On_Target\n",
    "FROM \n",
    "    TBL_UEFA_2022\n",
    "GROUP BY \n",
    "    Team_Name\n",
    "ORDER BY \n",
    "    Avg_Possession DESC,\n",
    "    Avg_Shots_On_Target DESC\n",
    "LIMIT 5;"
   ],
   "id": "c850344e736b2a63",
   "outputs": [
    {
     "data": {
      "text/plain": [
       "  Team_Location        Team_Name  Avg_Possession  Avg_Shots_On_Target\n",
       "0          Home         FC Porto       68.000000             7.000000\n",
       "1          Home        Barcelona       63.666667             7.333333\n",
       "2          Home  Manchester City       61.714286             8.714286\n",
       "3          Home  Atletico Madrid       61.333333             7.333333\n",
       "4          Home        Marseille       60.333333             5.000000"
      ],
      "text/html": [
       "<div>\n",
       "<style scoped>\n",
       "    .dataframe tbody tr th:only-of-type {\n",
       "        vertical-align: middle;\n",
       "    }\n",
       "\n",
       "    .dataframe tbody tr th {\n",
       "        vertical-align: top;\n",
       "    }\n",
       "\n",
       "    .dataframe thead th {\n",
       "        text-align: right;\n",
       "    }\n",
       "</style>\n",
       "<table border=\"1\" class=\"dataframe\">\n",
       "  <thead>\n",
       "    <tr style=\"text-align: right;\">\n",
       "      <th></th>\n",
       "      <th>Team_Location</th>\n",
       "      <th>Team_Name</th>\n",
       "      <th>Avg_Possession</th>\n",
       "      <th>Avg_Shots_On_Target</th>\n",
       "    </tr>\n",
       "  </thead>\n",
       "  <tbody>\n",
       "    <tr>\n",
       "      <th>0</th>\n",
       "      <td>Home</td>\n",
       "      <td>FC Porto</td>\n",
       "      <td>68.000000</td>\n",
       "      <td>7.000000</td>\n",
       "    </tr>\n",
       "    <tr>\n",
       "      <th>1</th>\n",
       "      <td>Home</td>\n",
       "      <td>Barcelona</td>\n",
       "      <td>63.666667</td>\n",
       "      <td>7.333333</td>\n",
       "    </tr>\n",
       "    <tr>\n",
       "      <th>2</th>\n",
       "      <td>Home</td>\n",
       "      <td>Manchester City</td>\n",
       "      <td>61.714286</td>\n",
       "      <td>8.714286</td>\n",
       "    </tr>\n",
       "    <tr>\n",
       "      <th>3</th>\n",
       "      <td>Home</td>\n",
       "      <td>Atletico Madrid</td>\n",
       "      <td>61.333333</td>\n",
       "      <td>7.333333</td>\n",
       "    </tr>\n",
       "    <tr>\n",
       "      <th>4</th>\n",
       "      <td>Home</td>\n",
       "      <td>Marseille</td>\n",
       "      <td>60.333333</td>\n",
       "      <td>5.000000</td>\n",
       "    </tr>\n",
       "  </tbody>\n",
       "</table>\n",
       "</div>"
      ]
     },
     "execution_count": 21,
     "metadata": {},
     "output_type": "execute_result"
    }
   ],
   "execution_count": 21
  },
  {
   "metadata": {
    "SqlCellData": {
     "variableName$1": "df_sql10"
    },
    "ExecuteTime": {
     "end_time": "2024-04-05T02:15:09.310835Z",
     "start_time": "2024-04-05T02:15:09.227053300Z"
    }
   },
   "cell_type": "code",
   "source": [
    "%%sql\n",
    "-- Highest average possession and shots on target for away teams\n",
    "SELECT \n",
    "    'Away' AS Team_Location,\n",
    "    TEAM_NAME_AWAY AS Team_Name,\n",
    "    AVG(CAST(REPLACE(POSSESSION_AWAY, '%', '') AS FLOAT)) AS Avg_Possession,\n",
    "    AVG(SHOTS_ON_TARGET_AWAY) AS Avg_Shots_On_Target\n",
    "FROM \n",
    "    TBL_UEFA_2022\n",
    "GROUP BY \n",
    "    Team_Name\n",
    "ORDER BY \n",
    "    Avg_Possession DESC,\n",
    "    Avg_Shots_On_Target DESC\n",
    "LIMIT 5;"
   ],
   "id": "a9b82dd0de6e2822",
   "outputs": [
    {
     "data": {
      "text/plain": [
       "  Team_Location            Team_Name  Avg_Possession  Avg_Shots_On_Target\n",
       "0          Away            Barcelona       67.666667             4.333333\n",
       "1          Away             Dortmund       61.000000             4.000000\n",
       "2          Away              Chelsea       60.600000             5.800000\n",
       "3          Away      Manchester City       59.000000             4.666667\n",
       "4          Away  Paris Saint-Germain       57.500000             5.500000"
      ],
      "text/html": [
       "<div>\n",
       "<style scoped>\n",
       "    .dataframe tbody tr th:only-of-type {\n",
       "        vertical-align: middle;\n",
       "    }\n",
       "\n",
       "    .dataframe tbody tr th {\n",
       "        vertical-align: top;\n",
       "    }\n",
       "\n",
       "    .dataframe thead th {\n",
       "        text-align: right;\n",
       "    }\n",
       "</style>\n",
       "<table border=\"1\" class=\"dataframe\">\n",
       "  <thead>\n",
       "    <tr style=\"text-align: right;\">\n",
       "      <th></th>\n",
       "      <th>Team_Location</th>\n",
       "      <th>Team_Name</th>\n",
       "      <th>Avg_Possession</th>\n",
       "      <th>Avg_Shots_On_Target</th>\n",
       "    </tr>\n",
       "  </thead>\n",
       "  <tbody>\n",
       "    <tr>\n",
       "      <th>0</th>\n",
       "      <td>Away</td>\n",
       "      <td>Barcelona</td>\n",
       "      <td>67.666667</td>\n",
       "      <td>4.333333</td>\n",
       "    </tr>\n",
       "    <tr>\n",
       "      <th>1</th>\n",
       "      <td>Away</td>\n",
       "      <td>Dortmund</td>\n",
       "      <td>61.000000</td>\n",
       "      <td>4.000000</td>\n",
       "    </tr>\n",
       "    <tr>\n",
       "      <th>2</th>\n",
       "      <td>Away</td>\n",
       "      <td>Chelsea</td>\n",
       "      <td>60.600000</td>\n",
       "      <td>5.800000</td>\n",
       "    </tr>\n",
       "    <tr>\n",
       "      <th>3</th>\n",
       "      <td>Away</td>\n",
       "      <td>Manchester City</td>\n",
       "      <td>59.000000</td>\n",
       "      <td>4.666667</td>\n",
       "    </tr>\n",
       "    <tr>\n",
       "      <th>4</th>\n",
       "      <td>Away</td>\n",
       "      <td>Paris Saint-Germain</td>\n",
       "      <td>57.500000</td>\n",
       "      <td>5.500000</td>\n",
       "    </tr>\n",
       "  </tbody>\n",
       "</table>\n",
       "</div>"
      ]
     },
     "execution_count": 22,
     "metadata": {},
     "output_type": "execute_result"
    }
   ],
   "execution_count": 22
  },
  {
   "metadata": {},
   "cell_type": "markdown",
   "source": "##### Most common match venues:",
   "id": "d60ec63f49ec750c"
  },
  {
   "metadata": {
    "SqlCellData": {
     "variableName$1": "df_sql11"
    },
    "ExecuteTime": {
     "end_time": "2024-04-05T02:25:39.421756Z",
     "start_time": "2024-04-05T02:25:39.254916900Z"
    }
   },
   "cell_type": "code",
   "source": [
    "%%sql\n",
    "-- Most common match venues\n",
    "SELECT \n",
    "    LOCATION AS Match_Venue,\n",
    "    COUNT(*) AS Frequency\n",
    "FROM \n",
    "    TBL_UEFA_2020\n",
    "GROUP BY \n",
    "    Match_Venue\n",
    "ORDER BY \n",
    "    Frequency DESC\n",
    "LIMIT 5;"
   ],
   "id": "e93e350f7d1c1c28",
   "outputs": [
    {
     "data": {
      "text/plain": [
       "                  Match_Venue  Frequency\n",
       "0           Parc des Princes           6\n",
       "1       Kiev Olympic Stadium           6\n",
       "2        Alfredo Di StÃ©fano           6\n",
       "3   RamÃ³n SÃ¡nchez-PizjuÃ¡n           6\n",
       "4             PuskÃ¡s ArÃ©na           6"
      ],
      "text/html": [
       "<div>\n",
       "<style scoped>\n",
       "    .dataframe tbody tr th:only-of-type {\n",
       "        vertical-align: middle;\n",
       "    }\n",
       "\n",
       "    .dataframe tbody tr th {\n",
       "        vertical-align: top;\n",
       "    }\n",
       "\n",
       "    .dataframe thead th {\n",
       "        text-align: right;\n",
       "    }\n",
       "</style>\n",
       "<table border=\"1\" class=\"dataframe\">\n",
       "  <thead>\n",
       "    <tr style=\"text-align: right;\">\n",
       "      <th></th>\n",
       "      <th>Match_Venue</th>\n",
       "      <th>Frequency</th>\n",
       "    </tr>\n",
       "  </thead>\n",
       "  <tbody>\n",
       "    <tr>\n",
       "      <th>0</th>\n",
       "      <td>Parc des Princes</td>\n",
       "      <td>6</td>\n",
       "    </tr>\n",
       "    <tr>\n",
       "      <th>1</th>\n",
       "      <td>Kiev Olympic Stadium</td>\n",
       "      <td>6</td>\n",
       "    </tr>\n",
       "    <tr>\n",
       "      <th>2</th>\n",
       "      <td>Alfredo Di StÃ©fano</td>\n",
       "      <td>6</td>\n",
       "    </tr>\n",
       "    <tr>\n",
       "      <th>3</th>\n",
       "      <td>RamÃ³n SÃ¡nchez-PizjuÃ¡n</td>\n",
       "      <td>6</td>\n",
       "    </tr>\n",
       "    <tr>\n",
       "      <th>4</th>\n",
       "      <td>PuskÃ¡s ArÃ©na</td>\n",
       "      <td>6</td>\n",
       "    </tr>\n",
       "  </tbody>\n",
       "</table>\n",
       "</div>"
      ]
     },
     "execution_count": 31,
     "metadata": {},
     "output_type": "execute_result"
    }
   ],
   "execution_count": 31
  },
  {
   "metadata": {
    "SqlCellData": {
     "variableName$1": "df_sql12"
    },
    "ExecuteTime": {
     "end_time": "2024-04-05T02:25:16.393105Z",
     "start_time": "2024-04-05T02:25:16.260829700Z"
    }
   },
   "cell_type": "code",
   "source": [
    "%%sql\n",
    "-- Most common match venues\n",
    "SELECT \n",
    "    LOCATION AS Match_Venue,\n",
    "    COUNT(*) AS Frequency\n",
    "FROM \n",
    "    TBL_UEFA_2021\n",
    "GROUP BY \n",
    "    Match_Venue\n",
    "ORDER BY \n",
    "    Frequency DESC\n",
    "LIMIT 5;"
   ],
   "id": "88443588929ed808",
   "outputs": [
    {
     "data": {
      "text/plain": [
       "                         Match_Venue  Frequency\n",
       "0            Red Bull Arena Salzburg         15\n",
       "1                  Signal Iduna Park         12\n",
       "2                    Stamford Bridge          9\n",
       "3                  Santiago Bernabeu          8\n",
       "4  Estádio do Sport Lisboa e Benfica          8"
      ],
      "text/html": [
       "<div>\n",
       "<style scoped>\n",
       "    .dataframe tbody tr th:only-of-type {\n",
       "        vertical-align: middle;\n",
       "    }\n",
       "\n",
       "    .dataframe tbody tr th {\n",
       "        vertical-align: top;\n",
       "    }\n",
       "\n",
       "    .dataframe thead th {\n",
       "        text-align: right;\n",
       "    }\n",
       "</style>\n",
       "<table border=\"1\" class=\"dataframe\">\n",
       "  <thead>\n",
       "    <tr style=\"text-align: right;\">\n",
       "      <th></th>\n",
       "      <th>Match_Venue</th>\n",
       "      <th>Frequency</th>\n",
       "    </tr>\n",
       "  </thead>\n",
       "  <tbody>\n",
       "    <tr>\n",
       "      <th>0</th>\n",
       "      <td>Red Bull Arena Salzburg</td>\n",
       "      <td>15</td>\n",
       "    </tr>\n",
       "    <tr>\n",
       "      <th>1</th>\n",
       "      <td>Signal Iduna Park</td>\n",
       "      <td>12</td>\n",
       "    </tr>\n",
       "    <tr>\n",
       "      <th>2</th>\n",
       "      <td>Stamford Bridge</td>\n",
       "      <td>9</td>\n",
       "    </tr>\n",
       "    <tr>\n",
       "      <th>3</th>\n",
       "      <td>Santiago Bernabeu</td>\n",
       "      <td>8</td>\n",
       "    </tr>\n",
       "    <tr>\n",
       "      <th>4</th>\n",
       "      <td>Estádio do Sport Lisboa e Benfica</td>\n",
       "      <td>8</td>\n",
       "    </tr>\n",
       "  </tbody>\n",
       "</table>\n",
       "</div>"
      ]
     },
     "execution_count": 29,
     "metadata": {},
     "output_type": "execute_result"
    }
   ],
   "execution_count": 29
  },
  {
   "metadata": {
    "SqlCellData": {
     "variableName$1": "df_sql13"
    },
    "ExecuteTime": {
     "end_time": "2024-04-05T02:25:28.256859Z",
     "start_time": "2024-04-05T02:25:28.123440300Z"
    }
   },
   "cell_type": "code",
   "source": [
    "%%sql\n",
    "-- Most common match venues\n",
    "SELECT \n",
    "    LOCATION AS Match_Venue,\n",
    "    COUNT(*) AS Frequency\n",
    "FROM \n",
    "    TBL_UEFA_2022\n",
    "GROUP BY \n",
    "    Match_Venue\n",
    "ORDER BY \n",
    "    Frequency DESC\n",
    "LIMIT 5;"
   ],
   "id": "500d9d37885ed121",
   "outputs": [
    {
     "data": {
      "text/plain": [
       "         Match_Venue  Frequency\n",
       "0           San Siro         12\n",
       "1     Red Bull Arena          7\n",
       "2  Santiago Bernabeu          6\n",
       "3             Etihad          6\n",
       "4     Stadion da Luz          5"
      ],
      "text/html": [
       "<div>\n",
       "<style scoped>\n",
       "    .dataframe tbody tr th:only-of-type {\n",
       "        vertical-align: middle;\n",
       "    }\n",
       "\n",
       "    .dataframe tbody tr th {\n",
       "        vertical-align: top;\n",
       "    }\n",
       "\n",
       "    .dataframe thead th {\n",
       "        text-align: right;\n",
       "    }\n",
       "</style>\n",
       "<table border=\"1\" class=\"dataframe\">\n",
       "  <thead>\n",
       "    <tr style=\"text-align: right;\">\n",
       "      <th></th>\n",
       "      <th>Match_Venue</th>\n",
       "      <th>Frequency</th>\n",
       "    </tr>\n",
       "  </thead>\n",
       "  <tbody>\n",
       "    <tr>\n",
       "      <th>0</th>\n",
       "      <td>San Siro</td>\n",
       "      <td>12</td>\n",
       "    </tr>\n",
       "    <tr>\n",
       "      <th>1</th>\n",
       "      <td>Red Bull Arena</td>\n",
       "      <td>7</td>\n",
       "    </tr>\n",
       "    <tr>\n",
       "      <th>2</th>\n",
       "      <td>Santiago Bernabeu</td>\n",
       "      <td>6</td>\n",
       "    </tr>\n",
       "    <tr>\n",
       "      <th>3</th>\n",
       "      <td>Etihad</td>\n",
       "      <td>6</td>\n",
       "    </tr>\n",
       "    <tr>\n",
       "      <th>4</th>\n",
       "      <td>Stadion da Luz</td>\n",
       "      <td>5</td>\n",
       "    </tr>\n",
       "  </tbody>\n",
       "</table>\n",
       "</div>"
      ]
     },
     "execution_count": 30,
     "metadata": {},
     "output_type": "execute_result"
    }
   ],
   "execution_count": 30
  },
  {
   "metadata": {
    "SqlCellData": {
     "variableName$1": "df_sql14"
    }
   },
   "cell_type": "code",
   "outputs": [],
   "execution_count": null,
   "source": "%%sql\n",
   "id": "2fc3a3517f03e091"
  },
  {
   "metadata": {
    "SqlCellData": {
     "variableName$1": "df_sql15"
    }
   },
   "cell_type": "code",
   "outputs": [],
   "execution_count": null,
   "source": "%%sql\n",
   "id": "477984bb68a4f283"
  }
 ],
 "metadata": {
  "kernelspec": {
   "display_name": "Python 3",
   "language": "python",
   "name": "python3"
  },
  "language_info": {
   "codemirror_mode": {
    "name": "ipython",
    "version": 2
   },
   "file_extension": ".py",
   "mimetype": "text/x-python",
   "name": "python",
   "nbconvert_exporter": "python",
   "pygments_lexer": "ipython2",
   "version": "2.7.6"
  }
 },
 "nbformat": 4,
 "nbformat_minor": 5
}
