{
 "cells": [
  {
   "source": [
    "The UEFA Champions League stands as the pinnacle of European soccer excellence, captivating millions of fans worldwide. Since its inception in 1955 as the European Champion Clubs' Cup, the tournament has evolved into the modern-day UEFA Champions League, broadening its appeal and prestige. With 32 top-tier club teams selected based on their domestic league performance, the competition ignites intrigue and excitement among enthusiasts.\n",
    "\n",
    "![Stadium.jpg](Stadium.jpg)\n",
    "\n",
    "Beyond its sporting significance, the Champions League transcends mere competition, serving as a celebration of unity, culture, and national pride. Fans, adorned in their respective countries' colors, infuse the event with an electric atmosphere, elevating it to a cultural phenomenon. Financially, the tournament serves as a lifeline for participating clubs, boosting revenues and presenting transformative opportunities. However, it also fuels debates surrounding wealth disparities in European soccer.\n",
    "\n",
    "![Duel_football](Duel_football.jpg)\n",
    "\n",
    "The Champions League embodies historic rivalries, underdog triumphs, and individual brilliance, making it synonymous with unforgettable moments. For players, it signifies the zenith of their careers, while for fans, it fosters a unique sense of identity and belonging. The tournament's iconic anthem and rituals further enrich the soccer experience, adding to its allure and prestige.\n",
    "\n",
    "The dataset, encapsulated in tables `TBL_UEFA_2020`, `TBL_UEFA_2021`, and `TBL_UEFA_2022`, offers a comprehensive view of match statistics across the three years. With columns detailing match stages, dates, scores, possession, shots, duels, and predictions, it provides a wealth of data for analysis. Through SQL queries, we delve into various facets of the Champions League, unraveling insights that deepen our understanding of this extraordinary sporting spectacle.\n",
    "\n",
    "## Table Name(s): `TBL_UEFA_2020` | `TBL_UEFA_2021` | `TBL_UEFA_2022`\n",
    "### Note : All three tables have same column names and data types\n",
    "\n",
    "| Column | Definition | Data type |\n",
    "|--------|------------|-----------|\n",
    "| `STAGE`| Stage of the March | `VARCHAR(50)` |\n",
    "| `DATE` | When the match occurred. | `DATE` |\n",
    "| `PENS` | Did the match end with penalty | `VARCHAR(50)` |\n",
    "| `PENS_HOME_SCORE` | In case of penalty, score by home team | `VARCHAR(50)` |\n",
    "| `PENS_AWAY_SCORE` | In case of penalty, score by away team | `VARCHAR(50)` |\n",
    "| `TEAM_NAME_HOME` | Team home name | `VARCHAR(50)` |\n",
    "| `TEAM_NAME_AWAY`| Team away  name | `VARCHAR(50)` |\n",
    "| `TEAM_HOME_SCORE` | Team home score | `NUMBER` |\n",
    "| `TEAM_AWAY_SCORE` | Team away score | `NUMBER` |\n",
    "| `POSSESSION_HOME` | Ball possession for the team home | `FLOAT` |\n",
    "| `POSSESSION_AWAY` | Ball possession for the team away | `FLOAT` |\n",
    "| `TOTAL_SHOTS_HOME` | Method of transport used | `NUMBER` |\n",
    "| `TOTAL_SHOTS_AWAY` | Millions of journeys, measured in decimals | `NUMBER`\n",
    "| `SHOTS_ON_TARGET_HOME` | Total shot for team home | `FLOAT` |\n",
    "| `SHOTS_ON_TARGET_AWAY` | Total shot for team away | `FLOAT` |\n",
    "| `DUELS_WON_HOME` | duel win possession of ball - for home team | `NUMBER` |\n",
    "| `DUELS_WON_AWAY` | duel win possession of ball - for away team | `NUMBER` \n",
    "| `PREDICTION_TEAM_HOME_WIN` | Probability of home team to win | `FLOAT` |\n",
    "| `PREDICTION_DRAW` | Probability of draw | `FLOAT` |\n",
    "| `PREDICTION_TEAM_AWAY_WIN` | Probability of away team to win| `FLOAT` |\n",
    "| `LOCATION` | Millions of journeys, measured in decimals | `VARCHAR(50)` | "
   ],
   "metadata": {},
   "id": "49c1abfa-61bd-42f9-8095-62606a88ac68",
   "cell_type": "markdown"
  }
 ],
 "metadata": {
  "colab": {
   "name": "Welcome to DataCamp Workspaces.ipynb",
   "provenance": []
  },
  "kernelspec": {
   "display_name": "Python 3 (ipykernel)",
   "language": "python",
   "name": "python3"
  },
  "language_info": {
   "codemirror_mode": {
    "name": "ipython",
    "version": 3
   },
   "file_extension": ".py",
   "mimetype": "text/x-python",
   "name": "python",
   "nbconvert_exporter": "python",
   "pygments_lexer": "ipython3",
   "version": "3.8.10"
  }
 },
 "nbformat": 4,
 "nbformat_minor": 5
}
