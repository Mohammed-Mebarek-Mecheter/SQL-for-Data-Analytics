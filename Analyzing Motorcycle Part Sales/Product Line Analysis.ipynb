{
 "cells": [
  {
   "cell_type": "code",
   "id": "initial_id",
   "metadata": {
    "collapsed": true,
    "ExecuteTime": {
     "end_time": "2024-04-07T05:52:41.292713Z",
     "start_time": "2024-04-07T05:52:40.446653Z"
    }
   },
   "source": "import pandas as pd",
   "outputs": [],
   "execution_count": 1
  },
  {
   "metadata": {
    "ExecuteTime": {
     "end_time": "2024-04-07T05:52:45.016169Z",
     "start_time": "2024-04-07T05:52:44.980169Z"
    }
   },
   "cell_type": "code",
   "source": "sales = pd.read_csv(\"sales.csv\")",
   "id": "1ce4c6b846a6ecfe",
   "outputs": [],
   "execution_count": 2
  },
  {
   "metadata": {
    "SqlCellData": {
     "variableName$1": "df_sql"
    },
    "ExecuteTime": {
     "end_time": "2024-04-07T05:53:03.743398Z",
     "start_time": "2024-04-07T05:53:03.419715400Z"
    }
   },
   "cell_type": "code",
   "source": [
    "%%sql\n",
    "SELECT\n",
    "    product_line,\n",
    "    SUM(quantity) AS total_quantity\n",
    "FROM\n",
    "    sales\n",
    "GROUP BY\n",
    "    product_line\n",
    "ORDER BY\n",
    "    total_quantity DESC;"
   ],
   "id": "37fc2ca12764f51e",
   "outputs": [
    {
     "data": {
      "text/plain": [
       "            product_line  total_quantity\n",
       "0  Suspension & traction          2145.0\n",
       "1        Breaking system          2130.0\n",
       "2      Electrical system          1698.0\n",
       "3           Frame & body          1619.0\n",
       "4          Miscellaneous          1176.0\n",
       "5                 Engine           627.0"
      ],
      "text/html": [
       "<div>\n",
       "<style scoped>\n",
       "    .dataframe tbody tr th:only-of-type {\n",
       "        vertical-align: middle;\n",
       "    }\n",
       "\n",
       "    .dataframe tbody tr th {\n",
       "        vertical-align: top;\n",
       "    }\n",
       "\n",
       "    .dataframe thead th {\n",
       "        text-align: right;\n",
       "    }\n",
       "</style>\n",
       "<table border=\"1\" class=\"dataframe\">\n",
       "  <thead>\n",
       "    <tr style=\"text-align: right;\">\n",
       "      <th></th>\n",
       "      <th>product_line</th>\n",
       "      <th>total_quantity</th>\n",
       "    </tr>\n",
       "  </thead>\n",
       "  <tbody>\n",
       "    <tr>\n",
       "      <th>0</th>\n",
       "      <td>Suspension &amp; traction</td>\n",
       "      <td>2145.0</td>\n",
       "    </tr>\n",
       "    <tr>\n",
       "      <th>1</th>\n",
       "      <td>Breaking system</td>\n",
       "      <td>2130.0</td>\n",
       "    </tr>\n",
       "    <tr>\n",
       "      <th>2</th>\n",
       "      <td>Electrical system</td>\n",
       "      <td>1698.0</td>\n",
       "    </tr>\n",
       "    <tr>\n",
       "      <th>3</th>\n",
       "      <td>Frame &amp; body</td>\n",
       "      <td>1619.0</td>\n",
       "    </tr>\n",
       "    <tr>\n",
       "      <th>4</th>\n",
       "      <td>Miscellaneous</td>\n",
       "      <td>1176.0</td>\n",
       "    </tr>\n",
       "    <tr>\n",
       "      <th>5</th>\n",
       "      <td>Engine</td>\n",
       "      <td>627.0</td>\n",
       "    </tr>\n",
       "  </tbody>\n",
       "</table>\n",
       "</div>"
      ]
     },
     "execution_count": 3,
     "metadata": {},
     "output_type": "execute_result"
    }
   ],
   "execution_count": 3
  },
  {
   "metadata": {
    "SqlCellData": {
     "variableName$1": "df_sql1"
    },
    "ExecuteTime": {
     "end_time": "2024-04-07T05:54:55.938240Z",
     "start_time": "2024-04-07T05:54:55.846990300Z"
    }
   },
   "cell_type": "code",
   "source": [
    "%%sql\n",
    "SELECT\n",
    "    product_line,\n",
    "    SUM(quantity) AS total_quantity,\n",
    "    COUNT(DISTINCT strftime('%Y-%m', CAST(date AS DATE))) AS months_active\n",
    "FROM\n",
    "    sales\n",
    "GROUP BY\n",
    "    product_line\n",
    "ORDER BY\n",
    "    total_quantity DESC;"
   ],
   "id": "bc4435688053ec5",
   "outputs": [
    {
     "data": {
      "text/plain": [
       "            product_line  total_quantity  months_active\n",
       "0  Suspension & traction          2145.0              3\n",
       "1        Breaking system          2130.0              3\n",
       "2      Electrical system          1698.0              3\n",
       "3           Frame & body          1619.0              3\n",
       "4          Miscellaneous          1176.0              3\n",
       "5                 Engine           627.0              3"
      ],
      "text/html": [
       "<div>\n",
       "<style scoped>\n",
       "    .dataframe tbody tr th:only-of-type {\n",
       "        vertical-align: middle;\n",
       "    }\n",
       "\n",
       "    .dataframe tbody tr th {\n",
       "        vertical-align: top;\n",
       "    }\n",
       "\n",
       "    .dataframe thead th {\n",
       "        text-align: right;\n",
       "    }\n",
       "</style>\n",
       "<table border=\"1\" class=\"dataframe\">\n",
       "  <thead>\n",
       "    <tr style=\"text-align: right;\">\n",
       "      <th></th>\n",
       "      <th>product_line</th>\n",
       "      <th>total_quantity</th>\n",
       "      <th>months_active</th>\n",
       "    </tr>\n",
       "  </thead>\n",
       "  <tbody>\n",
       "    <tr>\n",
       "      <th>0</th>\n",
       "      <td>Suspension &amp; traction</td>\n",
       "      <td>2145.0</td>\n",
       "      <td>3</td>\n",
       "    </tr>\n",
       "    <tr>\n",
       "      <th>1</th>\n",
       "      <td>Breaking system</td>\n",
       "      <td>2130.0</td>\n",
       "      <td>3</td>\n",
       "    </tr>\n",
       "    <tr>\n",
       "      <th>2</th>\n",
       "      <td>Electrical system</td>\n",
       "      <td>1698.0</td>\n",
       "      <td>3</td>\n",
       "    </tr>\n",
       "    <tr>\n",
       "      <th>3</th>\n",
       "      <td>Frame &amp; body</td>\n",
       "      <td>1619.0</td>\n",
       "      <td>3</td>\n",
       "    </tr>\n",
       "    <tr>\n",
       "      <th>4</th>\n",
       "      <td>Miscellaneous</td>\n",
       "      <td>1176.0</td>\n",
       "      <td>3</td>\n",
       "    </tr>\n",
       "    <tr>\n",
       "      <th>5</th>\n",
       "      <td>Engine</td>\n",
       "      <td>627.0</td>\n",
       "      <td>3</td>\n",
       "    </tr>\n",
       "  </tbody>\n",
       "</table>\n",
       "</div>"
      ]
     },
     "execution_count": 4,
     "metadata": {},
     "output_type": "execute_result"
    }
   ],
   "execution_count": 4
  },
  {
   "metadata": {
    "SqlCellData": {
     "variableName$1": "df_sql2"
    },
    "ExecuteTime": {
     "end_time": "2024-04-07T05:55:51.625255Z",
     "start_time": "2024-04-07T05:55:51.517968400Z"
    }
   },
   "cell_type": "code",
   "source": [
    "%%sql\n",
    "SELECT\n",
    "    product_line,\n",
    "    SUM(quantity) AS total_quantity\n",
    "FROM\n",
    "    sales\n",
    "GROUP BY\n",
    "    product_line\n",
    "ORDER BY\n",
    "    total_quantity ASC;"
   ],
   "id": "a20ec5933f3c166a",
   "outputs": [
    {
     "data": {
      "text/plain": [
       "            product_line  total_quantity\n",
       "0                 Engine           627.0\n",
       "1          Miscellaneous          1176.0\n",
       "2           Frame & body          1619.0\n",
       "3      Electrical system          1698.0\n",
       "4        Breaking system          2130.0\n",
       "5  Suspension & traction          2145.0"
      ],
      "text/html": [
       "<div>\n",
       "<style scoped>\n",
       "    .dataframe tbody tr th:only-of-type {\n",
       "        vertical-align: middle;\n",
       "    }\n",
       "\n",
       "    .dataframe tbody tr th {\n",
       "        vertical-align: top;\n",
       "    }\n",
       "\n",
       "    .dataframe thead th {\n",
       "        text-align: right;\n",
       "    }\n",
       "</style>\n",
       "<table border=\"1\" class=\"dataframe\">\n",
       "  <thead>\n",
       "    <tr style=\"text-align: right;\">\n",
       "      <th></th>\n",
       "      <th>product_line</th>\n",
       "      <th>total_quantity</th>\n",
       "    </tr>\n",
       "  </thead>\n",
       "  <tbody>\n",
       "    <tr>\n",
       "      <th>0</th>\n",
       "      <td>Engine</td>\n",
       "      <td>627.0</td>\n",
       "    </tr>\n",
       "    <tr>\n",
       "      <th>1</th>\n",
       "      <td>Miscellaneous</td>\n",
       "      <td>1176.0</td>\n",
       "    </tr>\n",
       "    <tr>\n",
       "      <th>2</th>\n",
       "      <td>Frame &amp; body</td>\n",
       "      <td>1619.0</td>\n",
       "    </tr>\n",
       "    <tr>\n",
       "      <th>3</th>\n",
       "      <td>Electrical system</td>\n",
       "      <td>1698.0</td>\n",
       "    </tr>\n",
       "    <tr>\n",
       "      <th>4</th>\n",
       "      <td>Breaking system</td>\n",
       "      <td>2130.0</td>\n",
       "    </tr>\n",
       "    <tr>\n",
       "      <th>5</th>\n",
       "      <td>Suspension &amp; traction</td>\n",
       "      <td>2145.0</td>\n",
       "    </tr>\n",
       "  </tbody>\n",
       "</table>\n",
       "</div>"
      ]
     },
     "execution_count": 5,
     "metadata": {},
     "output_type": "execute_result"
    }
   ],
   "execution_count": 5
  },
  {
   "metadata": {},
   "cell_type": "markdown",
   "source": [
    "# Product Line Analysis\n",
    "\n",
    "This report provides an analysis of the top-selling product lines based on the provided dataset.\n",
    "\n",
    "## Overview\n",
    "\n",
    "The Product Line Analysis aims to identify the top-selling product lines and assess their performance during the specified period.\n",
    "\n",
    "## Findings\n",
    "\n",
    "### Top-Selling Product Lines\n",
    "\n",
    "Based on the dataset, the top-selling product lines during the specified period are as follows:\n",
    "\n",
    "1. **Suspension & Traction**: Total quantity sold: 2145 units.\n",
    "2. **Breaking System**: Total quantity sold: 2130 units.\n",
    "3. **Electrical System**: Total quantity sold: 1698 units.\n",
    "4. **Frame & Body**: Total quantity sold: 1619 units.\n",
    "5. **Miscellaneous**: Total quantity sold: 1176 units.\n",
    "6. **Engine**: Total quantity sold: 627 units.\n",
    "\n",
    "### Observations\n",
    "\n",
    "- The top-selling product lines include various components related to vehicle systems and maintenance, such as suspension & traction, breaking system, electrical system, and frame & body.\n",
    "- Miscellaneous products also contribute significantly to total sales, indicating a diverse range of products sold during the specified period."
   ],
   "id": "1ef1005a17c949ea"
  }
 ],
 "metadata": {
  "kernelspec": {
   "display_name": "Python 3",
   "language": "python",
   "name": "python3"
  },
  "language_info": {
   "codemirror_mode": {
    "name": "ipython",
    "version": 2
   },
   "file_extension": ".py",
   "mimetype": "text/x-python",
   "name": "python",
   "nbconvert_exporter": "python",
   "pygments_lexer": "ipython2",
   "version": "2.7.6"
  }
 },
 "nbformat": 4,
 "nbformat_minor": 5
}
