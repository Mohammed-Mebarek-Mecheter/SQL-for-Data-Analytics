{
 "cells": [
  {
   "cell_type": "code",
   "id": "initial_id",
   "metadata": {
    "collapsed": true,
    "ExecuteTime": {
     "end_time": "2024-04-07T05:29:22.238059Z",
     "start_time": "2024-04-07T05:29:22.221063Z"
    }
   },
   "source": "import pandas as pd",
   "outputs": [],
   "execution_count": 2
  },
  {
   "metadata": {
    "ExecuteTime": {
     "end_time": "2024-04-07T05:29:22.283926Z",
     "start_time": "2024-04-07T05:29:22.243050Z"
    }
   },
   "cell_type": "code",
   "source": "sales = pd.read_csv(\"sales.csv\")",
   "id": "5829fd10add3064e",
   "outputs": [],
   "execution_count": 3
  },
  {
   "metadata": {
    "SqlCellData": {
     "variableName$1": "df_sql"
    },
    "ExecuteTime": {
     "end_time": "2024-04-07T05:29:22.845483Z",
     "start_time": "2024-04-07T05:29:22.234056600Z"
    }
   },
   "cell_type": "code",
   "source": [
    "%%sql\n",
    "SELECT\n",
    "    warehouse,\n",
    "    SUM(total) AS total_sales\n",
    "FROM\n",
    "    sales\n",
    "GROUP BY\n",
    "    warehouse;"
   ],
   "id": "d0c65a7e7d4bfabc",
   "outputs": [
    {
     "data": {
      "text/plain": [
       "  warehouse  total_sales\n",
       "0     North    100203.63\n",
       "1   Central    141982.88\n",
       "2      West     46926.49"
      ],
      "text/html": [
       "<div>\n",
       "<style scoped>\n",
       "    .dataframe tbody tr th:only-of-type {\n",
       "        vertical-align: middle;\n",
       "    }\n",
       "\n",
       "    .dataframe tbody tr th {\n",
       "        vertical-align: top;\n",
       "    }\n",
       "\n",
       "    .dataframe thead th {\n",
       "        text-align: right;\n",
       "    }\n",
       "</style>\n",
       "<table border=\"1\" class=\"dataframe\">\n",
       "  <thead>\n",
       "    <tr style=\"text-align: right;\">\n",
       "      <th></th>\n",
       "      <th>warehouse</th>\n",
       "      <th>total_sales</th>\n",
       "    </tr>\n",
       "  </thead>\n",
       "  <tbody>\n",
       "    <tr>\n",
       "      <th>0</th>\n",
       "      <td>North</td>\n",
       "      <td>100203.63</td>\n",
       "    </tr>\n",
       "    <tr>\n",
       "      <th>1</th>\n",
       "      <td>Central</td>\n",
       "      <td>141982.88</td>\n",
       "    </tr>\n",
       "    <tr>\n",
       "      <th>2</th>\n",
       "      <td>West</td>\n",
       "      <td>46926.49</td>\n",
       "    </tr>\n",
       "  </tbody>\n",
       "</table>\n",
       "</div>"
      ]
     },
     "execution_count": 4,
     "metadata": {},
     "output_type": "execute_result"
    }
   ],
   "execution_count": 4
  },
  {
   "metadata": {
    "SqlCellData": {
     "variableName$1": "df_sql1"
    },
    "ExecuteTime": {
     "end_time": "2024-04-07T05:31:14.749574Z",
     "start_time": "2024-04-07T05:31:14.555369700Z"
    }
   },
   "cell_type": "code",
   "source": [
    "%%sql\n",
    "WITH warehouse_sales AS (\n",
    "    SELECT\n",
    "        warehouse,\n",
    "        SUM(total) AS total_sales\n",
    "    FROM\n",
    "        sales\n",
    "    GROUP BY\n",
    "        warehouse\n",
    ")\n",
    "SELECT\n",
    "    warehouse,\n",
    "    total_sales,\n",
    "    CASE\n",
    "        WHEN total_sales > (SELECT AVG(total_sales) FROM warehouse_sales) THEN 'Outperforms'\n",
    "        WHEN total_sales = (SELECT MAX(total_sales) FROM warehouse_sales) THEN 'Ties for the top performer'\n",
    "        ELSE 'Does not outperform'\n",
    "    END AS performance\n",
    "FROM\n",
    "    warehouse_sales;"
   ],
   "id": "738c4c805b766cde",
   "outputs": [
    {
     "data": {
      "text/plain": [
       "  warehouse  total_sales          performance\n",
       "0     North    100203.63          Outperforms\n",
       "1   Central    141982.88          Outperforms\n",
       "2      West     46926.49  Does not outperform"
      ],
      "text/html": [
       "<div>\n",
       "<style scoped>\n",
       "    .dataframe tbody tr th:only-of-type {\n",
       "        vertical-align: middle;\n",
       "    }\n",
       "\n",
       "    .dataframe tbody tr th {\n",
       "        vertical-align: top;\n",
       "    }\n",
       "\n",
       "    .dataframe thead th {\n",
       "        text-align: right;\n",
       "    }\n",
       "</style>\n",
       "<table border=\"1\" class=\"dataframe\">\n",
       "  <thead>\n",
       "    <tr style=\"text-align: right;\">\n",
       "      <th></th>\n",
       "      <th>warehouse</th>\n",
       "      <th>total_sales</th>\n",
       "      <th>performance</th>\n",
       "    </tr>\n",
       "  </thead>\n",
       "  <tbody>\n",
       "    <tr>\n",
       "      <th>0</th>\n",
       "      <td>North</td>\n",
       "      <td>100203.63</td>\n",
       "      <td>Outperforms</td>\n",
       "    </tr>\n",
       "    <tr>\n",
       "      <th>1</th>\n",
       "      <td>Central</td>\n",
       "      <td>141982.88</td>\n",
       "      <td>Outperforms</td>\n",
       "    </tr>\n",
       "    <tr>\n",
       "      <th>2</th>\n",
       "      <td>West</td>\n",
       "      <td>46926.49</td>\n",
       "      <td>Does not outperform</td>\n",
       "    </tr>\n",
       "  </tbody>\n",
       "</table>\n",
       "</div>"
      ]
     },
     "execution_count": 6,
     "metadata": {},
     "output_type": "execute_result"
    }
   ],
   "execution_count": 6
  },
  {
   "metadata": {
    "SqlCellData": {
     "variableName$1": "df_sql2"
    },
    "ExecuteTime": {
     "end_time": "2024-04-07T05:33:57.806640Z",
     "start_time": "2024-04-07T05:33:57.666361100Z"
    }
   },
   "cell_type": "code",
   "source": [
    "%%sql\n",
    "SELECT\n",
    "    strftime('%Y-%m', CAST(date AS DATE)) AS month,\n",
    "    warehouse,\n",
    "    SUM(total) AS total_sales\n",
    "FROM\n",
    "    sales\n",
    "GROUP BY\n",
    "    month, warehouse\n",
    "ORDER BY\n",
    "    month, warehouse;"
   ],
   "id": "88bfdfabd05d840e",
   "outputs": [
    {
     "data": {
      "text/plain": [
       "     month warehouse  total_sales\n",
       "0  2021-06   Central     44128.96\n",
       "1  2021-06     North     33318.43\n",
       "2  2021-06      West     17872.64\n",
       "3  2021-07   Central     48269.70\n",
       "4  2021-07     North     29122.94\n",
       "5  2021-07      West     16155.27\n",
       "6  2021-08   Central     49584.22\n",
       "7  2021-08     North     37762.26\n",
       "8  2021-08      West     12898.58"
      ],
      "text/html": [
       "<div>\n",
       "<style scoped>\n",
       "    .dataframe tbody tr th:only-of-type {\n",
       "        vertical-align: middle;\n",
       "    }\n",
       "\n",
       "    .dataframe tbody tr th {\n",
       "        vertical-align: top;\n",
       "    }\n",
       "\n",
       "    .dataframe thead th {\n",
       "        text-align: right;\n",
       "    }\n",
       "</style>\n",
       "<table border=\"1\" class=\"dataframe\">\n",
       "  <thead>\n",
       "    <tr style=\"text-align: right;\">\n",
       "      <th></th>\n",
       "      <th>month</th>\n",
       "      <th>warehouse</th>\n",
       "      <th>total_sales</th>\n",
       "    </tr>\n",
       "  </thead>\n",
       "  <tbody>\n",
       "    <tr>\n",
       "      <th>0</th>\n",
       "      <td>2021-06</td>\n",
       "      <td>Central</td>\n",
       "      <td>44128.96</td>\n",
       "    </tr>\n",
       "    <tr>\n",
       "      <th>1</th>\n",
       "      <td>2021-06</td>\n",
       "      <td>North</td>\n",
       "      <td>33318.43</td>\n",
       "    </tr>\n",
       "    <tr>\n",
       "      <th>2</th>\n",
       "      <td>2021-06</td>\n",
       "      <td>West</td>\n",
       "      <td>17872.64</td>\n",
       "    </tr>\n",
       "    <tr>\n",
       "      <th>3</th>\n",
       "      <td>2021-07</td>\n",
       "      <td>Central</td>\n",
       "      <td>48269.70</td>\n",
       "    </tr>\n",
       "    <tr>\n",
       "      <th>4</th>\n",
       "      <td>2021-07</td>\n",
       "      <td>North</td>\n",
       "      <td>29122.94</td>\n",
       "    </tr>\n",
       "    <tr>\n",
       "      <th>5</th>\n",
       "      <td>2021-07</td>\n",
       "      <td>West</td>\n",
       "      <td>16155.27</td>\n",
       "    </tr>\n",
       "    <tr>\n",
       "      <th>6</th>\n",
       "      <td>2021-08</td>\n",
       "      <td>Central</td>\n",
       "      <td>49584.22</td>\n",
       "    </tr>\n",
       "    <tr>\n",
       "      <th>7</th>\n",
       "      <td>2021-08</td>\n",
       "      <td>North</td>\n",
       "      <td>37762.26</td>\n",
       "    </tr>\n",
       "    <tr>\n",
       "      <th>8</th>\n",
       "      <td>2021-08</td>\n",
       "      <td>West</td>\n",
       "      <td>12898.58</td>\n",
       "    </tr>\n",
       "  </tbody>\n",
       "</table>\n",
       "</div>"
      ]
     },
     "execution_count": 7,
     "metadata": {},
     "output_type": "execute_result"
    }
   ],
   "execution_count": 7
  },
  {
   "metadata": {},
   "cell_type": "markdown",
   "source": [
    "# Warehouse Performance Analysis\n",
    "\n",
    "This report provides an analysis of the sales performance across different warehouses (North, Central, West) based on the provided dataset.\n",
    "\n",
    "## Overview\n",
    "\n",
    "The warehouse performance analysis aims to understand how sales vary between different warehouses and identify any seasonal or regional trends affecting sales in specific locations.\n",
    "\n",
    "## Findings\n",
    "\n",
    "### Sales Trends by Warehouse\n",
    "\n",
    "- **June 2021**:\n",
    "  - Central warehouse had the highest sales ($44,128.96), followed by North ($33,318.43), and West ($17,872.64).\n",
    "- **July 2021**:\n",
    "  - Central warehouse led in sales again ($48,269.70), followed by North ($29,122.94), and West ($16,155.27).\n",
    "- **August 2021**:\n",
    "  - Central warehouse maintained its lead in sales ($49,584.22), followed by North ($37,762.26), and West ($12,898.58).\n",
    "\n",
    "### Observations\n",
    "\n",
    "1. **Seasonal Trends**:\n",
    "   - Sales across all warehouses show consistency in performance from June to August, with Central consistently leading in sales followed by North, and then West.\n",
    "   - There are no significant deviations in sales patterns between months, indicating a stable performance across the summer period.\n",
    "\n",
    "2. **Regional Trends**:\n",
    "   - Central warehouse consistently outperforms others in terms of sales volume, suggesting higher demand or better market conditions in that region.\n",
    "   - North warehouse follows Central in sales performance, maintaining moderate sales volume throughout the period.\n",
    "   - West warehouse consistently lags behind Central and North in sales, indicating potential regional factors impacting its performance.\n",
    "\n",
    "## Conclusion\n",
    "\n",
    "The analysis of warehouse performance provides insights into the sales dynamics across different locations. Central warehouse emerges as the top performer, consistently leading in sales, followed by North, while West lags behind. Understanding these regional trends can inform strategic decisions to optimize sales strategies and improve overall performance in specific regions."
   ],
   "id": "558de0eb2d3c3701"
  }
 ],
 "metadata": {
  "kernelspec": {
   "display_name": "Python 3",
   "language": "python",
   "name": "python3"
  },
  "language_info": {
   "codemirror_mode": {
    "name": "ipython",
    "version": 2
   },
   "file_extension": ".py",
   "mimetype": "text/x-python",
   "name": "python",
   "nbconvert_exporter": "python",
   "pygments_lexer": "ipython2",
   "version": "2.7.6"
  }
 },
 "nbformat": 4,
 "nbformat_minor": 5
}
