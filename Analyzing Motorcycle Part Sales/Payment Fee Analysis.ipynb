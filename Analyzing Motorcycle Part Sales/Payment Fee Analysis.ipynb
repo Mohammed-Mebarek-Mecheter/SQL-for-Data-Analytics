{
 "cells": [
  {
   "cell_type": "code",
   "id": "initial_id",
   "metadata": {
    "collapsed": true,
    "ExecuteTime": {
     "end_time": "2024-04-07T06:16:30.739967Z",
     "start_time": "2024-04-07T06:16:30.032562Z"
    }
   },
   "source": "import pandas as pd",
   "outputs": [],
   "execution_count": 1
  },
  {
   "metadata": {
    "ExecuteTime": {
     "end_time": "2024-04-07T06:17:44.529378Z",
     "start_time": "2024-04-07T06:17:44.497394Z"
    }
   },
   "cell_type": "code",
   "source": "sales = pd.read_csv(\"sales.csv\")",
   "id": "19d8cc9cb7d3625e",
   "outputs": [],
   "execution_count": 3
  },
  {
   "metadata": {
    "SqlCellData": {
     "variableName$1": "df_sql"
    },
    "ExecuteTime": {
     "end_time": "2024-04-07T06:17:45.589397Z",
     "start_time": "2024-04-07T06:17:45.460468500Z"
    }
   },
   "cell_type": "code",
   "source": [
    "%%sql\n",
    "SELECT\n",
    "    payment,\n",
    "    AVG(payment_fee) AS avg_payment_fee\n",
    "FROM\n",
    "    sales\n",
    "GROUP BY\n",
    "    payment;"
   ],
   "id": "7ef1401d204690b3",
   "outputs": [
    {
     "data": {
      "text/plain": [
       "       payment  avg_payment_fee\n",
       "0  Credit card             0.03\n",
       "1     Transfer             0.01\n",
       "2         Cash             0.00"
      ],
      "text/html": [
       "<div>\n",
       "<style scoped>\n",
       "    .dataframe tbody tr th:only-of-type {\n",
       "        vertical-align: middle;\n",
       "    }\n",
       "\n",
       "    .dataframe tbody tr th {\n",
       "        vertical-align: top;\n",
       "    }\n",
       "\n",
       "    .dataframe thead th {\n",
       "        text-align: right;\n",
       "    }\n",
       "</style>\n",
       "<table border=\"1\" class=\"dataframe\">\n",
       "  <thead>\n",
       "    <tr style=\"text-align: right;\">\n",
       "      <th></th>\n",
       "      <th>payment</th>\n",
       "      <th>avg_payment_fee</th>\n",
       "    </tr>\n",
       "  </thead>\n",
       "  <tbody>\n",
       "    <tr>\n",
       "      <th>0</th>\n",
       "      <td>Credit card</td>\n",
       "      <td>0.03</td>\n",
       "    </tr>\n",
       "    <tr>\n",
       "      <th>1</th>\n",
       "      <td>Transfer</td>\n",
       "      <td>0.01</td>\n",
       "    </tr>\n",
       "    <tr>\n",
       "      <th>2</th>\n",
       "      <td>Cash</td>\n",
       "      <td>0.00</td>\n",
       "    </tr>\n",
       "  </tbody>\n",
       "</table>\n",
       "</div>"
      ]
     },
     "execution_count": 4,
     "metadata": {},
     "output_type": "execute_result"
    }
   ],
   "execution_count": 4
  },
  {
   "metadata": {
    "SqlCellData": {
     "variableName$1": "df_sql1"
    },
    "ExecuteTime": {
     "end_time": "2024-04-07T06:18:43.502548Z",
     "start_time": "2024-04-07T06:18:43.421976300Z"
    }
   },
   "cell_type": "code",
   "source": [
    "%%sql\n",
    "SELECT\n",
    "    CORR(payment_fee, total) AS correlation_order_value,\n",
    "    CORR(payment_fee, quantity) AS correlation_quantity_ordered\n",
    "FROM\n",
    "    sales;"
   ],
   "id": "1f6c0a7e197d7f1",
   "outputs": [
    {
     "data": {
      "text/plain": [
       "   correlation_order_value  correlation_quantity_ordered\n",
       "0                -0.370509                     -0.429765"
      ],
      "text/html": [
       "<div>\n",
       "<style scoped>\n",
       "    .dataframe tbody tr th:only-of-type {\n",
       "        vertical-align: middle;\n",
       "    }\n",
       "\n",
       "    .dataframe tbody tr th {\n",
       "        vertical-align: top;\n",
       "    }\n",
       "\n",
       "    .dataframe thead th {\n",
       "        text-align: right;\n",
       "    }\n",
       "</style>\n",
       "<table border=\"1\" class=\"dataframe\">\n",
       "  <thead>\n",
       "    <tr style=\"text-align: right;\">\n",
       "      <th></th>\n",
       "      <th>correlation_order_value</th>\n",
       "      <th>correlation_quantity_ordered</th>\n",
       "    </tr>\n",
       "  </thead>\n",
       "  <tbody>\n",
       "    <tr>\n",
       "      <th>0</th>\n",
       "      <td>-0.370509</td>\n",
       "      <td>-0.429765</td>\n",
       "    </tr>\n",
       "  </tbody>\n",
       "</table>\n",
       "</div>"
      ]
     },
     "execution_count": 5,
     "metadata": {},
     "output_type": "execute_result"
    }
   ],
   "execution_count": 5
  },
  {
   "metadata": {
    "SqlCellData": {
     "variableName$1": "df_sql2"
    },
    "ExecuteTime": {
     "end_time": "2024-04-07T06:20:44.388280Z",
     "start_time": "2024-04-07T06:20:44.283273500Z"
    }
   },
   "cell_type": "code",
   "source": [
    "%%sql\n",
    "SELECT\n",
    "    strftime('%Y-%m', CAST(date AS DATE)) AS month,\n",
    "    AVG(payment_fee) AS avg_payment_fee\n",
    "FROM\n",
    "    sales\n",
    "GROUP BY\n",
    "    month\n",
    "ORDER BY\n",
    "    month;"
   ],
   "id": "a157c7f456d4f3c5",
   "outputs": [
    {
     "data": {
      "text/plain": [
       "     month  avg_payment_fee\n",
       "0  2021-06         0.022574\n",
       "1  2021-07         0.021942\n",
       "2  2021-08         0.021514"
      ],
      "text/html": [
       "<div>\n",
       "<style scoped>\n",
       "    .dataframe tbody tr th:only-of-type {\n",
       "        vertical-align: middle;\n",
       "    }\n",
       "\n",
       "    .dataframe tbody tr th {\n",
       "        vertical-align: top;\n",
       "    }\n",
       "\n",
       "    .dataframe thead th {\n",
       "        text-align: right;\n",
       "    }\n",
       "</style>\n",
       "<table border=\"1\" class=\"dataframe\">\n",
       "  <thead>\n",
       "    <tr style=\"text-align: right;\">\n",
       "      <th></th>\n",
       "      <th>month</th>\n",
       "      <th>avg_payment_fee</th>\n",
       "    </tr>\n",
       "  </thead>\n",
       "  <tbody>\n",
       "    <tr>\n",
       "      <th>0</th>\n",
       "      <td>2021-06</td>\n",
       "      <td>0.022574</td>\n",
       "    </tr>\n",
       "    <tr>\n",
       "      <th>1</th>\n",
       "      <td>2021-07</td>\n",
       "      <td>0.021942</td>\n",
       "    </tr>\n",
       "    <tr>\n",
       "      <th>2</th>\n",
       "      <td>2021-08</td>\n",
       "      <td>0.021514</td>\n",
       "    </tr>\n",
       "  </tbody>\n",
       "</table>\n",
       "</div>"
      ]
     },
     "execution_count": 6,
     "metadata": {},
     "output_type": "execute_result"
    }
   ],
   "execution_count": 6
  },
  {
   "metadata": {
    "SqlCellData": {
     "variableName$1": "df_sql3"
    },
    "ExecuteTime": {
     "end_time": "2024-04-07T06:22:30.168914Z",
     "start_time": "2024-04-07T06:22:30.043595800Z"
    }
   },
   "cell_type": "code",
   "source": [
    "%%sql\n",
    "SELECT\n",
    "    warehouse,\n",
    "    AVG(payment_fee) AS avg_payment_fee\n",
    "FROM\n",
    "    sales\n",
    "GROUP BY\n",
    "    warehouse;"
   ],
   "id": "c63a73036e4662af",
   "outputs": [
    {
     "data": {
      "text/plain": [
       "  warehouse  avg_payment_fee\n",
       "0     North         0.021676\n",
       "1   Central         0.022396\n",
       "2      West         0.021667"
      ],
      "text/html": [
       "<div>\n",
       "<style scoped>\n",
       "    .dataframe tbody tr th:only-of-type {\n",
       "        vertical-align: middle;\n",
       "    }\n",
       "\n",
       "    .dataframe tbody tr th {\n",
       "        vertical-align: top;\n",
       "    }\n",
       "\n",
       "    .dataframe thead th {\n",
       "        text-align: right;\n",
       "    }\n",
       "</style>\n",
       "<table border=\"1\" class=\"dataframe\">\n",
       "  <thead>\n",
       "    <tr style=\"text-align: right;\">\n",
       "      <th></th>\n",
       "      <th>warehouse</th>\n",
       "      <th>avg_payment_fee</th>\n",
       "    </tr>\n",
       "  </thead>\n",
       "  <tbody>\n",
       "    <tr>\n",
       "      <th>0</th>\n",
       "      <td>North</td>\n",
       "      <td>0.021676</td>\n",
       "    </tr>\n",
       "    <tr>\n",
       "      <th>1</th>\n",
       "      <td>Central</td>\n",
       "      <td>0.022396</td>\n",
       "    </tr>\n",
       "    <tr>\n",
       "      <th>2</th>\n",
       "      <td>West</td>\n",
       "      <td>0.021667</td>\n",
       "    </tr>\n",
       "  </tbody>\n",
       "</table>\n",
       "</div>"
      ]
     },
     "execution_count": 7,
     "metadata": {},
     "output_type": "execute_result"
    }
   ],
   "execution_count": 7
  },
  {
   "metadata": {
    "SqlCellData": {
     "variableName$1": "df_sql4"
    },
    "ExecuteTime": {
     "end_time": "2024-04-07T06:23:06.268691Z",
     "start_time": "2024-04-07T06:23:06.207473800Z"
    }
   },
   "cell_type": "code",
   "source": [
    "%%sql\n",
    "SELECT\n",
    "    client_type,\n",
    "    AVG(payment_fee) AS avg_payment_fee\n",
    "FROM\n",
    "    sales\n",
    "GROUP BY\n",
    "    client_type;"
   ],
   "id": "2b09107da7d68c63",
   "outputs": [
    {
     "data": {
      "text/plain": [
       "  client_type  avg_payment_fee\n",
       "0   Wholesale          0.01000\n",
       "1      Retail          0.02551"
      ],
      "text/html": [
       "<div>\n",
       "<style scoped>\n",
       "    .dataframe tbody tr th:only-of-type {\n",
       "        vertical-align: middle;\n",
       "    }\n",
       "\n",
       "    .dataframe tbody tr th {\n",
       "        vertical-align: top;\n",
       "    }\n",
       "\n",
       "    .dataframe thead th {\n",
       "        text-align: right;\n",
       "    }\n",
       "</style>\n",
       "<table border=\"1\" class=\"dataframe\">\n",
       "  <thead>\n",
       "    <tr style=\"text-align: right;\">\n",
       "      <th></th>\n",
       "      <th>client_type</th>\n",
       "      <th>avg_payment_fee</th>\n",
       "    </tr>\n",
       "  </thead>\n",
       "  <tbody>\n",
       "    <tr>\n",
       "      <th>0</th>\n",
       "      <td>Wholesale</td>\n",
       "      <td>0.01000</td>\n",
       "    </tr>\n",
       "    <tr>\n",
       "      <th>1</th>\n",
       "      <td>Retail</td>\n",
       "      <td>0.02551</td>\n",
       "    </tr>\n",
       "  </tbody>\n",
       "</table>\n",
       "</div>"
      ]
     },
     "execution_count": 8,
     "metadata": {},
     "output_type": "execute_result"
    }
   ],
   "execution_count": 8
  },
  {
   "metadata": {
    "SqlCellData": {
     "variableName$1": "df_sql5"
    },
    "ExecuteTime": {
     "end_time": "2024-04-07T06:24:00.762405Z",
     "start_time": "2024-04-07T06:24:00.696288900Z"
    }
   },
   "cell_type": "code",
   "source": [
    "%%sql\n",
    "SELECT\n",
    "    product_line,\n",
    "    AVG(payment_fee) AS avg_payment_fee\n",
    "FROM\n",
    "    sales\n",
    "GROUP BY\n",
    "    product_line;"
   ],
   "id": "d755c7ddecb49b81",
   "outputs": [
    {
     "data": {
      "text/plain": [
       "            product_line  avg_payment_fee\n",
       "0          Miscellaneous         0.020656\n",
       "1      Electrical system         0.022332\n",
       "2           Frame & body         0.021988\n",
       "3  Suspension & traction         0.022368\n",
       "4                 Engine         0.022787\n",
       "5        Breaking system         0.021957"
      ],
      "text/html": [
       "<div>\n",
       "<style scoped>\n",
       "    .dataframe tbody tr th:only-of-type {\n",
       "        vertical-align: middle;\n",
       "    }\n",
       "\n",
       "    .dataframe tbody tr th {\n",
       "        vertical-align: top;\n",
       "    }\n",
       "\n",
       "    .dataframe thead th {\n",
       "        text-align: right;\n",
       "    }\n",
       "</style>\n",
       "<table border=\"1\" class=\"dataframe\">\n",
       "  <thead>\n",
       "    <tr style=\"text-align: right;\">\n",
       "      <th></th>\n",
       "      <th>product_line</th>\n",
       "      <th>avg_payment_fee</th>\n",
       "    </tr>\n",
       "  </thead>\n",
       "  <tbody>\n",
       "    <tr>\n",
       "      <th>0</th>\n",
       "      <td>Miscellaneous</td>\n",
       "      <td>0.020656</td>\n",
       "    </tr>\n",
       "    <tr>\n",
       "      <th>1</th>\n",
       "      <td>Electrical system</td>\n",
       "      <td>0.022332</td>\n",
       "    </tr>\n",
       "    <tr>\n",
       "      <th>2</th>\n",
       "      <td>Frame &amp; body</td>\n",
       "      <td>0.021988</td>\n",
       "    </tr>\n",
       "    <tr>\n",
       "      <th>3</th>\n",
       "      <td>Suspension &amp; traction</td>\n",
       "      <td>0.022368</td>\n",
       "    </tr>\n",
       "    <tr>\n",
       "      <th>4</th>\n",
       "      <td>Engine</td>\n",
       "      <td>0.022787</td>\n",
       "    </tr>\n",
       "    <tr>\n",
       "      <th>5</th>\n",
       "      <td>Breaking system</td>\n",
       "      <td>0.021957</td>\n",
       "    </tr>\n",
       "  </tbody>\n",
       "</table>\n",
       "</div>"
      ]
     },
     "execution_count": 9,
     "metadata": {},
     "output_type": "execute_result"
    }
   ],
   "execution_count": 9
  },
  {
   "metadata": {
    "SqlCellData": {
     "variableName$1": "df_sql6"
    },
    "ExecuteTime": {
     "end_time": "2024-04-07T06:25:48.228491Z",
     "start_time": "2024-04-07T06:25:48.081467700Z"
    }
   },
   "cell_type": "code",
   "source": [
    "%%sql\n",
    "SELECT\n",
    "    CASE\n",
    "        WHEN payment_fee < 0.01 THEN 'Low Fee'\n",
    "        WHEN payment_fee >= 0.01 AND payment_fee < 0.02 THEN 'Medium Fee'\n",
    "        ELSE 'High Fee'\n",
    "    END AS fee_level,\n",
    "    AVG(order_count) AS avg_order_frequency\n",
    "FROM (\n",
    "    SELECT\n",
    "        client_type,\n",
    "        COUNT(DISTINCT order_number) AS order_count,\n",
    "        AVG(payment_fee) AS payment_fee\n",
    "    FROM\n",
    "        sales\n",
    "    GROUP BY\n",
    "        client_type\n",
    ") AS subquery\n",
    "GROUP BY\n",
    "    fee_level;"
   ],
   "id": "a3cf05509241238b",
   "outputs": [
    {
     "data": {
      "text/plain": [
       "  fee_level  avg_order_frequency\n",
       "0   Low Fee                225.0\n",
       "1  High Fee                775.0"
      ],
      "text/html": [
       "<div>\n",
       "<style scoped>\n",
       "    .dataframe tbody tr th:only-of-type {\n",
       "        vertical-align: middle;\n",
       "    }\n",
       "\n",
       "    .dataframe tbody tr th {\n",
       "        vertical-align: top;\n",
       "    }\n",
       "\n",
       "    .dataframe thead th {\n",
       "        text-align: right;\n",
       "    }\n",
       "</style>\n",
       "<table border=\"1\" class=\"dataframe\">\n",
       "  <thead>\n",
       "    <tr style=\"text-align: right;\">\n",
       "      <th></th>\n",
       "      <th>fee_level</th>\n",
       "      <th>avg_order_frequency</th>\n",
       "    </tr>\n",
       "  </thead>\n",
       "  <tbody>\n",
       "    <tr>\n",
       "      <th>0</th>\n",
       "      <td>Low Fee</td>\n",
       "      <td>225.0</td>\n",
       "    </tr>\n",
       "    <tr>\n",
       "      <th>1</th>\n",
       "      <td>High Fee</td>\n",
       "      <td>775.0</td>\n",
       "    </tr>\n",
       "  </tbody>\n",
       "</table>\n",
       "</div>"
      ]
     },
     "execution_count": 11,
     "metadata": {},
     "output_type": "execute_result"
    }
   ],
   "execution_count": 11
  },
  {
   "metadata": {
    "SqlCellData": {
     "variableName$1": "df_sql7"
    },
    "ExecuteTime": {
     "end_time": "2024-04-07T06:26:18.873835Z",
     "start_time": "2024-04-07T06:26:18.724798900Z"
    }
   },
   "cell_type": "code",
   "source": [
    "%%sql\n",
    "SELECT\n",
    "    CASE\n",
    "        WHEN payment_fee < 0.01 THEN 'Low Fee'\n",
    "        WHEN payment_fee >= 0.01 AND payment_fee < 0.02 THEN 'Medium Fee'\n",
    "        ELSE 'High Fee'\n",
    "    END AS fee_level,\n",
    "    AVG(total) AS avg_order_size\n",
    "FROM\n",
    "    sales\n",
    "GROUP BY\n",
    "    fee_level;"
   ],
   "id": "8522a2845e9b5ba9",
   "outputs": [
    {
     "data": {
      "text/plain": [
       "    fee_level  avg_order_size\n",
       "0     Low Fee      165.509483\n",
       "1    High Fee      167.331669\n",
       "2  Medium Fee      709.521467"
      ],
      "text/html": [
       "<div>\n",
       "<style scoped>\n",
       "    .dataframe tbody tr th:only-of-type {\n",
       "        vertical-align: middle;\n",
       "    }\n",
       "\n",
       "    .dataframe tbody tr th {\n",
       "        vertical-align: top;\n",
       "    }\n",
       "\n",
       "    .dataframe thead th {\n",
       "        text-align: right;\n",
       "    }\n",
       "</style>\n",
       "<table border=\"1\" class=\"dataframe\">\n",
       "  <thead>\n",
       "    <tr style=\"text-align: right;\">\n",
       "      <th></th>\n",
       "      <th>fee_level</th>\n",
       "      <th>avg_order_size</th>\n",
       "    </tr>\n",
       "  </thead>\n",
       "  <tbody>\n",
       "    <tr>\n",
       "      <th>0</th>\n",
       "      <td>Low Fee</td>\n",
       "      <td>165.509483</td>\n",
       "    </tr>\n",
       "    <tr>\n",
       "      <th>1</th>\n",
       "      <td>High Fee</td>\n",
       "      <td>167.331669</td>\n",
       "    </tr>\n",
       "    <tr>\n",
       "      <th>2</th>\n",
       "      <td>Medium Fee</td>\n",
       "      <td>709.521467</td>\n",
       "    </tr>\n",
       "  </tbody>\n",
       "</table>\n",
       "</div>"
      ]
     },
     "execution_count": 12,
     "metadata": {},
     "output_type": "execute_result"
    }
   ],
   "execution_count": 12
  },
  {
   "metadata": {},
   "cell_type": "markdown",
   "source": [
    "# Payment Fee Analysis\n",
    "\n",
    "This report presents the findings from the analysis of payment fees in the sales dataset. The analysis aims to understand how payment fees vary across different dimensions and their impact on customer behavior.\n",
    "\n",
    "## Findings\n",
    "\n",
    "### 1. Payment Fee Distribution\n",
    "\n",
    "- The average payment fee varies across different payment methods:\n",
    "  - Credit card payments: 0.03\n",
    "  - Transfer payments: 0.01\n",
    "  - Cash payments: 0.00\n",
    "\n",
    "### 2. Regional Differences in Payment Fees\n",
    "\n",
    "- Payment fees differ across warehouse regions:\n",
    "  - North: 0.021676\n",
    "  - Central: 0.022396\n",
    "  - West: 0.021667\n",
    "\n",
    "### 3. Customer Demographics and Payment Fees\n",
    "\n",
    "- Wholesale customers have lower average payment fees (0.010) compared to retail customers (0.02551).\n",
    "\n",
    "### 4. Product Categories and Payment Fees\n",
    "\n",
    "- Payment fees vary across product categories:\n",
    "  - Electrical system: 0.022332\n",
    "  - Breaking system: 0.021957\n",
    "  - Miscellaneous: 0.020656\n",
    "\n",
    "### 5. Impact on Customer Behavior\n",
    "\n",
    "- Contrary to expectations, customers with high payment fees have a higher average order frequency (775.0) compared to those with low payment fees (225.0).\n",
    "- Customers with medium payment fees have the highest average order size ($709.52), indicating a potential preference for larger purchases despite higher fees.\n",
    "\n",
    "## Conclusion\n",
    "\n",
    "The analysis reveals that payment fees exhibit variations across different dimensions such as payment methods, regions, customer demographics, and product categories. Contrary to traditional assumptions, high payment fees do not necessarily deter customers from making purchases, and they may even be associated with higher order frequencies. However, the impact of payment fees on customer behavior is nuanced, with factors such as order size and customer preferences playing significant roles."
   ],
   "id": "203303316ad1617e"
  }
 ],
 "metadata": {
  "kernelspec": {
   "display_name": "Python 3",
   "language": "python",
   "name": "python3"
  },
  "language_info": {
   "codemirror_mode": {
    "name": "ipython",
    "version": 2
   },
   "file_extension": ".py",
   "mimetype": "text/x-python",
   "name": "python",
   "nbconvert_exporter": "python",
   "pygments_lexer": "ipython2",
   "version": "2.7.6"
  }
 },
 "nbformat": 4,
 "nbformat_minor": 5
}
