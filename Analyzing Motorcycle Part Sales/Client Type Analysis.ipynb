{
 "cells": [
  {
   "cell_type": "code",
   "id": "initial_id",
   "metadata": {
    "collapsed": true,
    "ExecuteTime": {
     "end_time": "2024-04-07T05:39:34.046904Z",
     "start_time": "2024-04-07T05:39:33.193420Z"
    }
   },
   "source": "import pandas as pd",
   "outputs": [],
   "execution_count": 1
  },
  {
   "metadata": {
    "ExecuteTime": {
     "end_time": "2024-04-07T05:40:01.522397Z",
     "start_time": "2024-04-07T05:40:01.490413Z"
    }
   },
   "cell_type": "code",
   "source": "sales = pd.read_csv(\"sales.csv\")",
   "id": "4ad7e349db119f43",
   "outputs": [],
   "execution_count": 2
  },
  {
   "metadata": {
    "SqlCellData": {
     "variableName$1": "df_sql"
    },
    "ExecuteTime": {
     "end_time": "2024-04-07T05:40:03.416593Z",
     "start_time": "2024-04-07T05:40:03.125798900Z"
    }
   },
   "cell_type": "code",
   "source": [
    "%%sql\n",
    "SELECT\n",
    "    client_type,\n",
    "    SUM(total) AS total_sales\n",
    "FROM\n",
    "    sales\n",
    "GROUP BY\n",
    "    client_type;"
   ],
   "id": "a822cbb02adc8023",
   "outputs": [
    {
     "data": {
      "text/plain": [
       "  client_type  total_sales\n",
       "0   Wholesale    159642.33\n",
       "1      Retail    129470.67"
      ],
      "text/html": [
       "<div>\n",
       "<style scoped>\n",
       "    .dataframe tbody tr th:only-of-type {\n",
       "        vertical-align: middle;\n",
       "    }\n",
       "\n",
       "    .dataframe tbody tr th {\n",
       "        vertical-align: top;\n",
       "    }\n",
       "\n",
       "    .dataframe thead th {\n",
       "        text-align: right;\n",
       "    }\n",
       "</style>\n",
       "<table border=\"1\" class=\"dataframe\">\n",
       "  <thead>\n",
       "    <tr style=\"text-align: right;\">\n",
       "      <th></th>\n",
       "      <th>client_type</th>\n",
       "      <th>total_sales</th>\n",
       "    </tr>\n",
       "  </thead>\n",
       "  <tbody>\n",
       "    <tr>\n",
       "      <th>0</th>\n",
       "      <td>Wholesale</td>\n",
       "      <td>159642.33</td>\n",
       "    </tr>\n",
       "    <tr>\n",
       "      <th>1</th>\n",
       "      <td>Retail</td>\n",
       "      <td>129470.67</td>\n",
       "    </tr>\n",
       "  </tbody>\n",
       "</table>\n",
       "</div>"
      ]
     },
     "execution_count": 3,
     "metadata": {},
     "output_type": "execute_result"
    }
   ],
   "execution_count": 3
  },
  {
   "metadata": {
    "SqlCellData": {
     "variableName$1": "df_sql1"
    },
    "ExecuteTime": {
     "end_time": "2024-04-07T05:41:18.623820Z",
     "start_time": "2024-04-07T05:41:18.526994200Z"
    }
   },
   "cell_type": "code",
   "source": [
    "%%sql\n",
    "SELECT\n",
    "    client_type,\n",
    "    AVG(total) AS avg_order_value\n",
    "FROM\n",
    "    sales\n",
    "GROUP BY\n",
    "    client_type;"
   ],
   "id": "5acfc88987ae3ad5",
   "outputs": [
    {
     "data": {
      "text/plain": [
       "  client_type  avg_order_value\n",
       "0   Wholesale       709.521467\n",
       "1      Retail       167.058929"
      ],
      "text/html": [
       "<div>\n",
       "<style scoped>\n",
       "    .dataframe tbody tr th:only-of-type {\n",
       "        vertical-align: middle;\n",
       "    }\n",
       "\n",
       "    .dataframe tbody tr th {\n",
       "        vertical-align: top;\n",
       "    }\n",
       "\n",
       "    .dataframe thead th {\n",
       "        text-align: right;\n",
       "    }\n",
       "</style>\n",
       "<table border=\"1\" class=\"dataframe\">\n",
       "  <thead>\n",
       "    <tr style=\"text-align: right;\">\n",
       "      <th></th>\n",
       "      <th>client_type</th>\n",
       "      <th>avg_order_value</th>\n",
       "    </tr>\n",
       "  </thead>\n",
       "  <tbody>\n",
       "    <tr>\n",
       "      <th>0</th>\n",
       "      <td>Wholesale</td>\n",
       "      <td>709.521467</td>\n",
       "    </tr>\n",
       "    <tr>\n",
       "      <th>1</th>\n",
       "      <td>Retail</td>\n",
       "      <td>167.058929</td>\n",
       "    </tr>\n",
       "  </tbody>\n",
       "</table>\n",
       "</div>"
      ]
     },
     "execution_count": 4,
     "metadata": {},
     "output_type": "execute_result"
    }
   ],
   "execution_count": 4
  },
  {
   "metadata": {
    "SqlCellData": {
     "variableName$1": "df_sql2"
    },
    "ExecuteTime": {
     "end_time": "2024-04-07T05:44:31.530366Z",
     "start_time": "2024-04-07T05:44:31.401154500Z"
    }
   },
   "cell_type": "code",
   "source": [
    "%%sql\n",
    "SELECT\n",
    "    client_type,\n",
    "    product_line,\n",
    "    SUM(quantity) AS total_quantity\n",
    "FROM\n",
    "    sales\n",
    "GROUP BY\n",
    "    client_type, product_line\n",
    "ORDER BY\n",
    "    total_quantity DESC\n",
    "LIMIT 10;"
   ],
   "id": "6b3c676b303b1d8f",
   "outputs": [
    {
     "data": {
      "text/plain": [
       "  client_type           product_line  total_quantity\n",
       "0   Wholesale        Breaking system          1268.0\n",
       "1   Wholesale  Suspension & traction          1128.0\n",
       "2      Retail  Suspension & traction          1017.0\n",
       "3   Wholesale           Frame & body           932.0\n",
       "4      Retail        Breaking system           862.0\n",
       "5      Retail      Electrical system           862.0\n",
       "6   Wholesale      Electrical system           836.0\n",
       "7      Retail           Frame & body           687.0\n",
       "8   Wholesale          Miscellaneous           668.0\n",
       "9      Retail          Miscellaneous           508.0"
      ],
      "text/html": [
       "<div>\n",
       "<style scoped>\n",
       "    .dataframe tbody tr th:only-of-type {\n",
       "        vertical-align: middle;\n",
       "    }\n",
       "\n",
       "    .dataframe tbody tr th {\n",
       "        vertical-align: top;\n",
       "    }\n",
       "\n",
       "    .dataframe thead th {\n",
       "        text-align: right;\n",
       "    }\n",
       "</style>\n",
       "<table border=\"1\" class=\"dataframe\">\n",
       "  <thead>\n",
       "    <tr style=\"text-align: right;\">\n",
       "      <th></th>\n",
       "      <th>client_type</th>\n",
       "      <th>product_line</th>\n",
       "      <th>total_quantity</th>\n",
       "    </tr>\n",
       "  </thead>\n",
       "  <tbody>\n",
       "    <tr>\n",
       "      <th>0</th>\n",
       "      <td>Wholesale</td>\n",
       "      <td>Breaking system</td>\n",
       "      <td>1268.0</td>\n",
       "    </tr>\n",
       "    <tr>\n",
       "      <th>1</th>\n",
       "      <td>Wholesale</td>\n",
       "      <td>Suspension &amp; traction</td>\n",
       "      <td>1128.0</td>\n",
       "    </tr>\n",
       "    <tr>\n",
       "      <th>2</th>\n",
       "      <td>Retail</td>\n",
       "      <td>Suspension &amp; traction</td>\n",
       "      <td>1017.0</td>\n",
       "    </tr>\n",
       "    <tr>\n",
       "      <th>3</th>\n",
       "      <td>Wholesale</td>\n",
       "      <td>Frame &amp; body</td>\n",
       "      <td>932.0</td>\n",
       "    </tr>\n",
       "    <tr>\n",
       "      <th>4</th>\n",
       "      <td>Retail</td>\n",
       "      <td>Breaking system</td>\n",
       "      <td>862.0</td>\n",
       "    </tr>\n",
       "    <tr>\n",
       "      <th>5</th>\n",
       "      <td>Retail</td>\n",
       "      <td>Electrical system</td>\n",
       "      <td>862.0</td>\n",
       "    </tr>\n",
       "    <tr>\n",
       "      <th>6</th>\n",
       "      <td>Wholesale</td>\n",
       "      <td>Electrical system</td>\n",
       "      <td>836.0</td>\n",
       "    </tr>\n",
       "    <tr>\n",
       "      <th>7</th>\n",
       "      <td>Retail</td>\n",
       "      <td>Frame &amp; body</td>\n",
       "      <td>687.0</td>\n",
       "    </tr>\n",
       "    <tr>\n",
       "      <th>8</th>\n",
       "      <td>Wholesale</td>\n",
       "      <td>Miscellaneous</td>\n",
       "      <td>668.0</td>\n",
       "    </tr>\n",
       "    <tr>\n",
       "      <th>9</th>\n",
       "      <td>Retail</td>\n",
       "      <td>Miscellaneous</td>\n",
       "      <td>508.0</td>\n",
       "    </tr>\n",
       "  </tbody>\n",
       "</table>\n",
       "</div>"
      ]
     },
     "execution_count": 7,
     "metadata": {},
     "output_type": "execute_result"
    }
   ],
   "execution_count": 7
  },
  {
   "metadata": {
    "SqlCellData": {
     "variableName$1": "df_sql3"
    },
    "ExecuteTime": {
     "end_time": "2024-04-07T05:46:53.359692Z",
     "start_time": "2024-04-07T05:46:53.232490300Z"
    }
   },
   "cell_type": "code",
   "source": [
    "%%sql\n",
    "SELECT\n",
    "    client_type,\n",
    "    payment,\n",
    "    COUNT(*) AS count\n",
    "FROM\n",
    "    sales\n",
    "GROUP BY\n",
    "    client_type, payment\n",
    "ORDER BY\n",
    "    count DESC;"
   ],
   "id": "d37a1c421280b049",
   "outputs": [
    {
     "data": {
      "text/plain": [
       "  client_type      payment  count\n",
       "0      Retail  Credit card    659\n",
       "1   Wholesale     Transfer    225\n",
       "2      Retail         Cash    116"
      ],
      "text/html": [
       "<div>\n",
       "<style scoped>\n",
       "    .dataframe tbody tr th:only-of-type {\n",
       "        vertical-align: middle;\n",
       "    }\n",
       "\n",
       "    .dataframe tbody tr th {\n",
       "        vertical-align: top;\n",
       "    }\n",
       "\n",
       "    .dataframe thead th {\n",
       "        text-align: right;\n",
       "    }\n",
       "</style>\n",
       "<table border=\"1\" class=\"dataframe\">\n",
       "  <thead>\n",
       "    <tr style=\"text-align: right;\">\n",
       "      <th></th>\n",
       "      <th>client_type</th>\n",
       "      <th>payment</th>\n",
       "      <th>count</th>\n",
       "    </tr>\n",
       "  </thead>\n",
       "  <tbody>\n",
       "    <tr>\n",
       "      <th>0</th>\n",
       "      <td>Retail</td>\n",
       "      <td>Credit card</td>\n",
       "      <td>659</td>\n",
       "    </tr>\n",
       "    <tr>\n",
       "      <th>1</th>\n",
       "      <td>Wholesale</td>\n",
       "      <td>Transfer</td>\n",
       "      <td>225</td>\n",
       "    </tr>\n",
       "    <tr>\n",
       "      <th>2</th>\n",
       "      <td>Retail</td>\n",
       "      <td>Cash</td>\n",
       "      <td>116</td>\n",
       "    </tr>\n",
       "  </tbody>\n",
       "</table>\n",
       "</div>"
      ]
     },
     "execution_count": 9,
     "metadata": {},
     "output_type": "execute_result"
    }
   ],
   "execution_count": 9
  },
  {
   "metadata": {
    "SqlCellData": {
     "variableName$1": "df_sql4"
    },
    "ExecuteTime": {
     "end_time": "2024-04-07T05:47:41.053261Z",
     "start_time": "2024-04-07T05:47:40.951870800Z"
    }
   },
   "cell_type": "code",
   "source": [
    "%%sql\n",
    "SELECT\n",
    "    client_type,\n",
    "    COUNT(DISTINCT order_number) AS order_count\n",
    "FROM\n",
    "    sales\n",
    "GROUP BY\n",
    "    client_type;"
   ],
   "id": "1d3618d1e03ba13a",
   "outputs": [
    {
     "data": {
      "text/plain": [
       "  client_type  order_count\n",
       "0      Retail          775\n",
       "1   Wholesale          225"
      ],
      "text/html": [
       "<div>\n",
       "<style scoped>\n",
       "    .dataframe tbody tr th:only-of-type {\n",
       "        vertical-align: middle;\n",
       "    }\n",
       "\n",
       "    .dataframe tbody tr th {\n",
       "        vertical-align: top;\n",
       "    }\n",
       "\n",
       "    .dataframe thead th {\n",
       "        text-align: right;\n",
       "    }\n",
       "</style>\n",
       "<table border=\"1\" class=\"dataframe\">\n",
       "  <thead>\n",
       "    <tr style=\"text-align: right;\">\n",
       "      <th></th>\n",
       "      <th>client_type</th>\n",
       "      <th>order_count</th>\n",
       "    </tr>\n",
       "  </thead>\n",
       "  <tbody>\n",
       "    <tr>\n",
       "      <th>0</th>\n",
       "      <td>Retail</td>\n",
       "      <td>775</td>\n",
       "    </tr>\n",
       "    <tr>\n",
       "      <th>1</th>\n",
       "      <td>Wholesale</td>\n",
       "      <td>225</td>\n",
       "    </tr>\n",
       "  </tbody>\n",
       "</table>\n",
       "</div>"
      ]
     },
     "execution_count": 10,
     "metadata": {},
     "output_type": "execute_result"
    }
   ],
   "execution_count": 10
  },
  {
   "metadata": {
    "SqlCellData": {
     "variableName$1": "df_sql5"
    },
    "ExecuteTime": {
     "end_time": "2024-04-07T05:48:20.012555Z",
     "start_time": "2024-04-07T05:48:19.860802900Z"
    }
   },
   "cell_type": "code",
   "source": [
    "%%sql\n",
    "SELECT\n",
    "    client_type,\n",
    "    SUM(total) AS total_revenue\n",
    "FROM\n",
    "    sales\n",
    "GROUP BY\n",
    "    client_type;"
   ],
   "id": "100271cc492f02bd",
   "outputs": [
    {
     "data": {
      "text/plain": [
       "  client_type  total_revenue\n",
       "0   Wholesale      159642.33\n",
       "1      Retail      129470.67"
      ],
      "text/html": [
       "<div>\n",
       "<style scoped>\n",
       "    .dataframe tbody tr th:only-of-type {\n",
       "        vertical-align: middle;\n",
       "    }\n",
       "\n",
       "    .dataframe tbody tr th {\n",
       "        vertical-align: top;\n",
       "    }\n",
       "\n",
       "    .dataframe thead th {\n",
       "        text-align: right;\n",
       "    }\n",
       "</style>\n",
       "<table border=\"1\" class=\"dataframe\">\n",
       "  <thead>\n",
       "    <tr style=\"text-align: right;\">\n",
       "      <th></th>\n",
       "      <th>client_type</th>\n",
       "      <th>total_revenue</th>\n",
       "    </tr>\n",
       "  </thead>\n",
       "  <tbody>\n",
       "    <tr>\n",
       "      <th>0</th>\n",
       "      <td>Wholesale</td>\n",
       "      <td>159642.33</td>\n",
       "    </tr>\n",
       "    <tr>\n",
       "      <th>1</th>\n",
       "      <td>Retail</td>\n",
       "      <td>129470.67</td>\n",
       "    </tr>\n",
       "  </tbody>\n",
       "</table>\n",
       "</div>"
      ]
     },
     "execution_count": 11,
     "metadata": {},
     "output_type": "execute_result"
    }
   ],
   "execution_count": 11
  },
  {
   "metadata": {},
   "cell_type": "markdown",
   "source": [
    "# Client Type Analysis\n",
    "\n",
    "This report provides an analysis of sales performance and purchasing behavior between retail and wholesale clients based on the provided dataset.\n",
    "\n",
    "## Overview\n",
    "\n",
    "The client type analysis aims to understand the differences in sales volume, purchasing behavior, and revenue generation between retail and wholesale clients.\n",
    "\n",
    "## Findings\n",
    "\n",
    "### Sales Volume and Revenue\n",
    "\n",
    "- **Retail Clients**:\n",
    "  - Total sales volume: $129,470.67\n",
    "  - Total revenue generated: $129,470.67\n",
    "\n",
    "- **Wholesale Clients**:\n",
    "  - Total sales volume: $159,642.33\n",
    "  - Total revenue generated: $159,642.33\n",
    "\n",
    "### Observations\n",
    "\n",
    "1. **Sales Volume**:\n",
    "   - Wholesale clients have a higher sales volume compared to retail clients, indicating larger quantities purchased by wholesale clients, likely due to bulk orders.\n",
    "   - Retail clients, while having lower sales volume, still contribute significantly to overall sales.\n",
    "\n",
    "2. **Purchasing Behavior**:\n",
    "   - Retail clients demonstrate a higher frequency of purchases, making more frequent but possibly smaller orders compared to wholesale clients.\n",
    "   - Wholesale clients make fewer but likely larger orders, reflecting the nature of wholesale transactions involving bulk purchases.\n",
    "\n",
    "3. **Revenue Generation**:\n",
    "   - Wholesale clients generate higher revenue compared to retail clients, indicating that wholesale transactions contribute more to the overall revenue.\n",
    "\n",
    "## Conclusion\n",
    "\n",
    "The client type analysis highlights the differences in sales volume, purchasing behavior, and revenue generation between retail and wholesale clients. Understanding these differences is essential for tailoring marketing strategies, inventory management, and pricing strategies to optimize profitability and overall business performance."
   ],
   "id": "201b18a27a0534e6"
  },
  {
   "metadata": {},
   "cell_type": "code",
   "outputs": [],
   "execution_count": null,
   "source": "",
   "id": "f956b8d35fde8aae"
  }
 ],
 "metadata": {
  "kernelspec": {
   "display_name": "Python 3",
   "language": "python",
   "name": "python3"
  },
  "language_info": {
   "codemirror_mode": {
    "name": "ipython",
    "version": 2
   },
   "file_extension": ".py",
   "mimetype": "text/x-python",
   "name": "python",
   "nbconvert_exporter": "python",
   "pygments_lexer": "ipython2",
   "version": "2.7.6"
  }
 },
 "nbformat": 4,
 "nbformat_minor": 5
}
