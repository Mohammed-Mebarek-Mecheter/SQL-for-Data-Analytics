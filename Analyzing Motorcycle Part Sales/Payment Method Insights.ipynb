{
 "cells": [
  {
   "cell_type": "code",
   "id": "initial_id",
   "metadata": {
    "collapsed": true,
    "ExecuteTime": {
     "end_time": "2024-04-07T06:08:55.656016Z",
     "start_time": "2024-04-07T06:08:54.690426Z"
    }
   },
   "source": "import pandas as pd",
   "outputs": [],
   "execution_count": 1
  },
  {
   "metadata": {
    "ExecuteTime": {
     "end_time": "2024-04-07T06:08:59.087884Z",
     "start_time": "2024-04-07T06:08:59.045749Z"
    }
   },
   "cell_type": "code",
   "source": "sales = pd.read_csv(\"sales.csv\")",
   "id": "2243f12feebac3ae",
   "outputs": [],
   "execution_count": 2
  },
  {
   "metadata": {
    "SqlCellData": {
     "variableName$1": "df_sql"
    },
    "ExecuteTime": {
     "end_time": "2024-04-07T06:11:39.133814Z",
     "start_time": "2024-04-07T06:11:38.846978900Z"
    }
   },
   "cell_type": "code",
   "source": [
    "%%sql\n",
    "SELECT\n",
    "    payment,\n",
    "    COUNT(*) AS order_count\n",
    "FROM\n",
    "    sales\n",
    "GROUP BY\n",
    "    payment\n",
    "ORDER BY\n",
    "    order_count DESC;"
   ],
   "id": "2806d45f46213012",
   "outputs": [
    {
     "data": {
      "text/plain": [
       "       payment  order_count\n",
       "0  Credit card          659\n",
       "1     Transfer          225\n",
       "2         Cash          116"
      ],
      "text/html": [
       "<div>\n",
       "<style scoped>\n",
       "    .dataframe tbody tr th:only-of-type {\n",
       "        vertical-align: middle;\n",
       "    }\n",
       "\n",
       "    .dataframe tbody tr th {\n",
       "        vertical-align: top;\n",
       "    }\n",
       "\n",
       "    .dataframe thead th {\n",
       "        text-align: right;\n",
       "    }\n",
       "</style>\n",
       "<table border=\"1\" class=\"dataframe\">\n",
       "  <thead>\n",
       "    <tr style=\"text-align: right;\">\n",
       "      <th></th>\n",
       "      <th>payment</th>\n",
       "      <th>order_count</th>\n",
       "    </tr>\n",
       "  </thead>\n",
       "  <tbody>\n",
       "    <tr>\n",
       "      <th>0</th>\n",
       "      <td>Credit card</td>\n",
       "      <td>659</td>\n",
       "    </tr>\n",
       "    <tr>\n",
       "      <th>1</th>\n",
       "      <td>Transfer</td>\n",
       "      <td>225</td>\n",
       "    </tr>\n",
       "    <tr>\n",
       "      <th>2</th>\n",
       "      <td>Cash</td>\n",
       "      <td>116</td>\n",
       "    </tr>\n",
       "  </tbody>\n",
       "</table>\n",
       "</div>"
      ]
     },
     "execution_count": 3,
     "metadata": {},
     "output_type": "execute_result"
    }
   ],
   "execution_count": 3
  },
  {
   "metadata": {
    "SqlCellData": {
     "variableName$1": "df_sql1"
    },
    "ExecuteTime": {
     "end_time": "2024-04-07T06:12:18.018219Z",
     "start_time": "2024-04-07T06:12:17.916206400Z"
    }
   },
   "cell_type": "code",
   "source": [
    "%%sql\n",
    "SELECT\n",
    "    payment,\n",
    "    AVG(total) AS avg_order_value,\n",
    "    AVG(quantity) AS avg_quantity_ordered\n",
    "FROM\n",
    "    sales\n",
    "GROUP BY\n",
    "    payment;"
   ],
   "id": "7d5b7b007c68e7f0",
   "outputs": [
    {
     "data": {
      "text/plain": [
       "       payment  avg_order_value  avg_quantity_ordered\n",
       "0  Credit card       167.331669              5.444613\n",
       "1     Transfer       709.521467             23.022222\n",
       "2         Cash       165.509483              5.405172"
      ],
      "text/html": [
       "<div>\n",
       "<style scoped>\n",
       "    .dataframe tbody tr th:only-of-type {\n",
       "        vertical-align: middle;\n",
       "    }\n",
       "\n",
       "    .dataframe tbody tr th {\n",
       "        vertical-align: top;\n",
       "    }\n",
       "\n",
       "    .dataframe thead th {\n",
       "        text-align: right;\n",
       "    }\n",
       "</style>\n",
       "<table border=\"1\" class=\"dataframe\">\n",
       "  <thead>\n",
       "    <tr style=\"text-align: right;\">\n",
       "      <th></th>\n",
       "      <th>payment</th>\n",
       "      <th>avg_order_value</th>\n",
       "      <th>avg_quantity_ordered</th>\n",
       "    </tr>\n",
       "  </thead>\n",
       "  <tbody>\n",
       "    <tr>\n",
       "      <th>0</th>\n",
       "      <td>Credit card</td>\n",
       "      <td>167.331669</td>\n",
       "      <td>5.444613</td>\n",
       "    </tr>\n",
       "    <tr>\n",
       "      <th>1</th>\n",
       "      <td>Transfer</td>\n",
       "      <td>709.521467</td>\n",
       "      <td>23.022222</td>\n",
       "    </tr>\n",
       "    <tr>\n",
       "      <th>2</th>\n",
       "      <td>Cash</td>\n",
       "      <td>165.509483</td>\n",
       "      <td>5.405172</td>\n",
       "    </tr>\n",
       "  </tbody>\n",
       "</table>\n",
       "</div>"
      ]
     },
     "execution_count": 4,
     "metadata": {},
     "output_type": "execute_result"
    }
   ],
   "execution_count": 4
  },
  {
   "metadata": {
    "SqlCellData": {
     "variableName$1": "df_sql2"
    },
    "ExecuteTime": {
     "end_time": "2024-04-07T06:13:02.592120Z",
     "start_time": "2024-04-07T06:13:02.476707Z"
    }
   },
   "cell_type": "code",
   "source": [
    "%%sql\n",
    "SELECT\n",
    "    payment,\n",
    "    AVG(total) AS avg_order_value,\n",
    "    AVG(payment_fee) AS avg_payment_fee,\n",
    "    SUM(total) AS total_revenue,\n",
    "    SUM(payment_fee) AS total_payment_fees,\n",
    "    SUM(total) - SUM(payment_fee) AS revenue_after_fees\n",
    "FROM\n",
    "    sales\n",
    "GROUP BY\n",
    "    payment;"
   ],
   "id": "4b8f26623f4c73cd",
   "outputs": [
    {
     "data": {
      "text/plain": [
       "       payment  avg_order_value  avg_payment_fee  total_revenue  \\\n",
       "0  Credit card       167.331669             0.03      110271.57   \n",
       "1     Transfer       709.521467             0.01      159642.33   \n",
       "2         Cash       165.509483             0.00       19199.10   \n",
       "\n",
       "   total_payment_fees  revenue_after_fees  \n",
       "0               19.77           110251.80  \n",
       "1                2.25           159640.08  \n",
       "2                0.00            19199.10  "
      ],
      "text/html": [
       "<div>\n",
       "<style scoped>\n",
       "    .dataframe tbody tr th:only-of-type {\n",
       "        vertical-align: middle;\n",
       "    }\n",
       "\n",
       "    .dataframe tbody tr th {\n",
       "        vertical-align: top;\n",
       "    }\n",
       "\n",
       "    .dataframe thead th {\n",
       "        text-align: right;\n",
       "    }\n",
       "</style>\n",
       "<table border=\"1\" class=\"dataframe\">\n",
       "  <thead>\n",
       "    <tr style=\"text-align: right;\">\n",
       "      <th></th>\n",
       "      <th>payment</th>\n",
       "      <th>avg_order_value</th>\n",
       "      <th>avg_payment_fee</th>\n",
       "      <th>total_revenue</th>\n",
       "      <th>total_payment_fees</th>\n",
       "      <th>revenue_after_fees</th>\n",
       "    </tr>\n",
       "  </thead>\n",
       "  <tbody>\n",
       "    <tr>\n",
       "      <th>0</th>\n",
       "      <td>Credit card</td>\n",
       "      <td>167.331669</td>\n",
       "      <td>0.03</td>\n",
       "      <td>110271.57</td>\n",
       "      <td>19.77</td>\n",
       "      <td>110251.80</td>\n",
       "    </tr>\n",
       "    <tr>\n",
       "      <th>1</th>\n",
       "      <td>Transfer</td>\n",
       "      <td>709.521467</td>\n",
       "      <td>0.01</td>\n",
       "      <td>159642.33</td>\n",
       "      <td>2.25</td>\n",
       "      <td>159640.08</td>\n",
       "    </tr>\n",
       "    <tr>\n",
       "      <th>2</th>\n",
       "      <td>Cash</td>\n",
       "      <td>165.509483</td>\n",
       "      <td>0.00</td>\n",
       "      <td>19199.10</td>\n",
       "      <td>0.00</td>\n",
       "      <td>19199.10</td>\n",
       "    </tr>\n",
       "  </tbody>\n",
       "</table>\n",
       "</div>"
      ]
     },
     "execution_count": 5,
     "metadata": {},
     "output_type": "execute_result"
    }
   ],
   "execution_count": 5
  },
  {
   "metadata": {},
   "cell_type": "markdown",
   "source": [
    "# Payment Method Insights\n",
    "\n",
    "This report provides an analysis of payment methods used for making orders and their impact on total revenue based on the provided dataset.\n",
    "\n",
    "## Overview\n",
    "\n",
    "The Payment Method Insights aim to understand the distribution of payment methods used by customers and analyze how payment fees impact total revenue. By examining payment methods and their associated fees, businesses can optimize payment processing strategies to minimize fees and maximize revenue.\n",
    "\n",
    "## Findings\n",
    "\n",
    "### Most Commonly Used Payment Methods\n",
    "\n",
    "Based on the dataset, the most commonly used payment methods for making orders are as follows:\n",
    "\n",
    "1. **Credit Card**: 659 orders\n",
    "2. **Transfer**: 225 orders\n",
    "3. **Cash**: 116 orders\n",
    "\n",
    "These findings provide insights into the distribution of payment methods used by customers, with credit card being the most preferred method followed by transfer and cash.\n",
    "\n",
    "### Impact of Payment Fees on Total Revenue\n",
    "\n",
    "| Payment Method | Average Order Value ($) | Average Payment Fee ($) | Total Revenue ($) | Total Payment Fees ($) | Revenue After Deducting Payment Fees ($) |\n",
    "|----------------|-------------------------|-------------------------|--------------------|------------------------|-----------------------------------------|\n",
    "| Credit Card    | $167.33                 | $0.03                   | $110,271.57        | $19.77                 | $110,251.80                             |\n",
    "| Transfer       | $709.52                 | $0.01                   | $159,642.33        | $2.25                  | $159,640.08                             |\n",
    "| Cash           | $165.51                 | $0.00                   | $19,199.10         | $0.00                  | $19,199.10                              |\n",
    "\n",
    "- Credit card payments have higher payment fees compared to Transfer payments, resulting in slightly lower revenue after deducting payment fees.\n",
    "- Transfer payments have lower payment fees and relatively higher revenue after deducting payment fees compared to Credit card payments.\n",
    "- Cash payments have no payment fees associated, resulting in the same total revenue as revenue after deducting payment fees.\n",
    "\n",
    "### Optimization Strategies\n",
    "\n",
    "- Encouraging the use of payment methods with lower fees, such as Transfer, can help minimize payment fees and maximize revenue.\n",
    "- Negotiating lower payment processing fees or exploring alternative payment processing solutions can also reduce overall payment costs and increase revenue.\n",
    "- Offering incentives or discounts for customers who use payment methods with lower fees can help drive adoption and optimize payment methods further."
   ],
   "id": "3042bf9f75eda769"
  }
 ],
 "metadata": {
  "kernelspec": {
   "display_name": "Python 3",
   "language": "python",
   "name": "python3"
  },
  "language_info": {
   "codemirror_mode": {
    "name": "ipython",
    "version": 2
   },
   "file_extension": ".py",
   "mimetype": "text/x-python",
   "name": "python",
   "nbconvert_exporter": "python",
   "pygments_lexer": "ipython2",
   "version": "2.7.6"
  }
 },
 "nbformat": 4,
 "nbformat_minor": 5
}
