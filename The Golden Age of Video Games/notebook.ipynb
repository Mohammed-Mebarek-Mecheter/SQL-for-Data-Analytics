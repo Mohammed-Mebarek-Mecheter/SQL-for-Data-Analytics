{
 "cells": [
  {
   "cell_type": "markdown",
   "source": [
    "## 1. The ten best-selling video games\n",
    "<p><img src=\"https://assets.datacamp.com/production/project_1413/img/video_game.jpg\" alt=\"A video game player choosing a game to play on Nintendo Switch.\" width=\"400\"></p>\n",
    "<p>Photo by <a href=\"https://unsplash.com/@retromoon\">Dan Schleusser</a> on <a href=\"https://unsplash.com\">Unsplash</a>.</p>\n",
    "<p>Video games are big business: the global gaming market is projected to be worth more than $300 billion by 2027 according to <a href=\"https://www.mordorintelligence.com/industry-reports/global-gaming-market\">Mordor Intelligence</a>. With so much money at stake, the major game publishers are hugely incentivized to create the next big hit. But are games getting better, or has the golden age of video games already passed?</p>\n",
    "<p>In this project, we'll explore the top 400 best-selling video games created between 1977 and 2020. We'll compare a dataset on game sales with critic and user reviews to determine whether or not video games have improved as the gaming market has grown.</p>\n",
    "<p>Our database contains two tables. We've limited each table to 400 rows for this project, but you can find the complete dataset with over 13,000 games on <a href=\"https://www.kaggle.com/holmjason2/videogamedata\">Kaggle</a>. </p>\n",
    "<h3 id=\"game_sales\"><code>game_sales</code></h3>\n",
    "<table>\n",
    "<thead>\n",
    "<tr>\n",
    "<th style=\"text-align:left;\">column</th>\n",
    "<th>type</th>\n",
    "<th>meaning</th>\n",
    "</tr>\n",
    "</thead>\n",
    "<tbody>\n",
    "<tr>\n",
    "<td style=\"text-align:left;\"><code>game</code></td>\n",
    "<td>varchar</td>\n",
    "<td>Name of the video game</td>\n",
    "</tr>\n",
    "<tr>\n",
    "<td style=\"text-align:left;\"><code>platform</code></td>\n",
    "<td>varchar</td>\n",
    "<td>Gaming platform</td>\n",
    "</tr>\n",
    "<tr>\n",
    "<td style=\"text-align:left;\"><code>publisher</code></td>\n",
    "<td>varchar</td>\n",
    "<td>Game publisher</td>\n",
    "</tr>\n",
    "<tr>\n",
    "<td style=\"text-align:left;\"><code>developer</code></td>\n",
    "<td>varchar</td>\n",
    "<td>Game developer</td>\n",
    "</tr>\n",
    "<tr>\n",
    "<td style=\"text-align:left;\"><code>games_sold</code></td>\n",
    "<td>float</td>\n",
    "<td>Number of copies sold (millions)</td>\n",
    "</tr>\n",
    "<tr>\n",
    "<td style=\"text-align:left;\"><code>year</code></td>\n",
    "<td>int</td>\n",
    "<td>Release year</td>\n",
    "</tr>\n",
    "</tbody>\n",
    "</table>\n",
    "<h3 id=\"reviews\"><code>reviews</code></h3>\n",
    "<table>\n",
    "<thead>\n",
    "<tr>\n",
    "<th style=\"text-align:left;\">column</th>\n",
    "<th>type</th>\n",
    "<th>meaning</th>\n",
    "</tr>\n",
    "</thead>\n",
    "<tbody>\n",
    "<tr>\n",
    "<td style=\"text-align:left;\"><code>game</code></td>\n",
    "<td>varchar</td>\n",
    "<td>Name of the video game</td>\n",
    "</tr>\n",
    "<tr>\n",
    "<td style=\"text-align:left;\"><code>critic_score</code></td>\n",
    "<td>float</td>\n",
    "<td>Critic score according to Metacritic</td>\n",
    "</tr>\n",
    "<tr>\n",
    "<td style=\"text-align:left;\"><code>user_score</code></td>\n",
    "<td>float</td>\n",
    "<td>User score according to Metacritic</td>\n",
    "</tr>\n",
    "</tbody>\n",
    "</table>\n",
    "<p>Let's begin by looking at some of the top selling video games of all time!</p>"
   ],
   "metadata": {
    "collapsed": false
   },
   "id": "955d2452080ffb4d"
  },
  {
   "cell_type": "code",
   "outputs": [
    {
     "data": {
      "text/plain": "                                        game platform         publisher  \\\n0                         Wii Sports for Wii      Wii          Nintendo   \n1                  Super Mario Bros. for NES      NES          Nintendo   \n2    Counter-Strike: Global Offensive for PC       PC             Valve   \n3                     Mario Kart Wii for Wii      Wii          Nintendo   \n4       PLAYERUNKNOWN'S BATTLEGROUNDS for PC       PC  PUBG Corporation   \n5                           Minecraft for PC       PC            Mojang   \n6                  Wii Sports Resort for Wii      Wii          Nintendo   \n7  Pokemon Red / Green / Blue Version for GB       GB          Nintendo   \n8               New Super Mario Bros. for DS       DS          Nintendo   \n9          New Super Mario Bros. Wii for Wii      Wii          Nintendo   \n\n           developer  games_sold  year  \n0       Nintendo EAD       82.90  2006  \n1       Nintendo EAD       40.24  1985  \n2  Valve Corporation       40.00  2012  \n3       Nintendo EAD       37.32  2008  \n4   PUBG Corporation       36.60  2017  \n5          Mojang AB       33.15  2010  \n6       Nintendo EAD       33.13  2009  \n7         Game Freak       31.38  1998  \n8       Nintendo EAD       30.80  2006  \n9       Nintendo EAD       30.30  2009  ",
      "text/html": "<div>\n<style scoped>\n    .dataframe tbody tr th:only-of-type {\n        vertical-align: middle;\n    }\n\n    .dataframe tbody tr th {\n        vertical-align: top;\n    }\n\n    .dataframe thead th {\n        text-align: right;\n    }\n</style>\n<table border=\"1\" class=\"dataframe\">\n  <thead>\n    <tr style=\"text-align: right;\">\n      <th></th>\n      <th>game</th>\n      <th>platform</th>\n      <th>publisher</th>\n      <th>developer</th>\n      <th>games_sold</th>\n      <th>year</th>\n    </tr>\n  </thead>\n  <tbody>\n    <tr>\n      <th>0</th>\n      <td>Wii Sports for Wii</td>\n      <td>Wii</td>\n      <td>Nintendo</td>\n      <td>Nintendo EAD</td>\n      <td>82.90</td>\n      <td>2006</td>\n    </tr>\n    <tr>\n      <th>1</th>\n      <td>Super Mario Bros. for NES</td>\n      <td>NES</td>\n      <td>Nintendo</td>\n      <td>Nintendo EAD</td>\n      <td>40.24</td>\n      <td>1985</td>\n    </tr>\n    <tr>\n      <th>2</th>\n      <td>Counter-Strike: Global Offensive for PC</td>\n      <td>PC</td>\n      <td>Valve</td>\n      <td>Valve Corporation</td>\n      <td>40.00</td>\n      <td>2012</td>\n    </tr>\n    <tr>\n      <th>3</th>\n      <td>Mario Kart Wii for Wii</td>\n      <td>Wii</td>\n      <td>Nintendo</td>\n      <td>Nintendo EAD</td>\n      <td>37.32</td>\n      <td>2008</td>\n    </tr>\n    <tr>\n      <th>4</th>\n      <td>PLAYERUNKNOWN'S BATTLEGROUNDS for PC</td>\n      <td>PC</td>\n      <td>PUBG Corporation</td>\n      <td>PUBG Corporation</td>\n      <td>36.60</td>\n      <td>2017</td>\n    </tr>\n    <tr>\n      <th>5</th>\n      <td>Minecraft for PC</td>\n      <td>PC</td>\n      <td>Mojang</td>\n      <td>Mojang AB</td>\n      <td>33.15</td>\n      <td>2010</td>\n    </tr>\n    <tr>\n      <th>6</th>\n      <td>Wii Sports Resort for Wii</td>\n      <td>Wii</td>\n      <td>Nintendo</td>\n      <td>Nintendo EAD</td>\n      <td>33.13</td>\n      <td>2009</td>\n    </tr>\n    <tr>\n      <th>7</th>\n      <td>Pokemon Red / Green / Blue Version for GB</td>\n      <td>GB</td>\n      <td>Nintendo</td>\n      <td>Game Freak</td>\n      <td>31.38</td>\n      <td>1998</td>\n    </tr>\n    <tr>\n      <th>8</th>\n      <td>New Super Mario Bros. for DS</td>\n      <td>DS</td>\n      <td>Nintendo</td>\n      <td>Nintendo EAD</td>\n      <td>30.80</td>\n      <td>2006</td>\n    </tr>\n    <tr>\n      <th>9</th>\n      <td>New Super Mario Bros. Wii for Wii</td>\n      <td>Wii</td>\n      <td>Nintendo</td>\n      <td>Nintendo EAD</td>\n      <td>30.30</td>\n      <td>2009</td>\n    </tr>\n  </tbody>\n</table>\n</div>"
     },
     "execution_count": 15,
     "metadata": {},
     "output_type": "execute_result"
    }
   ],
   "source": [
    "%%sql\n",
    "-- Select all information for the top ten best-selling games\n",
    "-- Order the results from best-selling game down to tenth best-selling\n",
    "SELECT *\n",
    "FROM game_sales\n",
    "ORDER BY games_sold DESC\n",
    "LIMIT 10;"
   ],
   "metadata": {
    "collapsed": false,
    "SqlCellData": {
     "data_source_name": "postgres@localhost",
     "variableName$1": "df_sql8"
    },
    "ExecuteTime": {
     "end_time": "2024-03-01T02:18:02.351325Z",
     "start_time": "2024-03-01T02:18:02.118477300Z"
    }
   },
   "id": "adfb0de835289db1",
   "execution_count": 15
  },
  {
   "cell_type": "markdown",
   "source": [
    "## 2. Missing review scores\n",
    "<p>Wow, the best-selling video games were released between 1985 to 2017! That's quite a range; we'll have to use data from the <code>reviews</code> table to gain more insight on the best years for video games. </p>\n",
    "<p>First, it's important to explore the limitations of our database. One big shortcoming is that there is not any <code>reviews</code> data for some of the games on the <code>game_sales</code> table. </p>"
   ],
   "metadata": {
    "collapsed": false
   },
   "id": "aa8731aca5e36ecd"
  },
  {
   "cell_type": "code",
   "outputs": [
    {
     "data": {
      "text/plain": "   count\n0     31",
      "text/html": "<div>\n<style scoped>\n    .dataframe tbody tr th:only-of-type {\n        vertical-align: middle;\n    }\n\n    .dataframe tbody tr th {\n        vertical-align: top;\n    }\n\n    .dataframe thead th {\n        text-align: right;\n    }\n</style>\n<table border=\"1\" class=\"dataframe\">\n  <thead>\n    <tr style=\"text-align: right;\">\n      <th></th>\n      <th>count</th>\n    </tr>\n  </thead>\n  <tbody>\n    <tr>\n      <th>0</th>\n      <td>31</td>\n    </tr>\n  </tbody>\n</table>\n</div>"
     },
     "execution_count": 20,
     "metadata": {},
     "output_type": "execute_result"
    }
   ],
   "source": [
    "%%sql\n",
    "-- Join games_sales and reviews\n",
    "-- Select a count of the number of games where both critic_score and user_score are null\n",
    "SELECT COUNT(*)\n",
    "FROM game_sales gs\n",
    "LEFT JOIN reviews r ON gs.game = r.game\n",
    "WHERE r.critic_score IS NULL AND r.user_score IS NULL;"
   ],
   "metadata": {
    "collapsed": false,
    "SqlCellData": {
     "data_source_name": "postgres@localhost",
     "variableName$1": "df_sql9"
    },
    "ExecuteTime": {
     "end_time": "2024-03-01T02:18:27.147580Z",
     "start_time": "2024-03-01T02:18:27.062426200Z"
    }
   },
   "id": "71d06186f7e6c223",
   "execution_count": 20
  },
  {
   "cell_type": "markdown",
   "source": [
    "## 3. Years that video game critics loved\n",
    "<p>It looks like a little less than ten percent of the games on the <code>game_sales</code> table don't have any reviews data. That's a small enough percentage that we can continue our exploration, but the missing reviews data is a good thing to keep in mind as we move on to evaluating results from more sophisticated queries. </p>\n",
    "<p>There are lots of ways to measure the best years for video games! Let's start with what the critics think. </p>"
   ],
   "metadata": {
    "collapsed": false
   },
   "id": "56529b09df7bcda3"
  },
  {
   "cell_type": "code",
   "outputs": [
    {
     "data": {
      "text/plain": "   year  avg_critic_score\n0  1990              9.80\n1  1992              9.67\n2  1998              9.32\n3  2020              9.20\n4  1993              9.10\n5  1995              9.07\n6  2004              9.03\n7  1982              9.00\n8  2002              8.99\n9  1999              8.93",
      "text/html": "<div>\n<style scoped>\n    .dataframe tbody tr th:only-of-type {\n        vertical-align: middle;\n    }\n\n    .dataframe tbody tr th {\n        vertical-align: top;\n    }\n\n    .dataframe thead th {\n        text-align: right;\n    }\n</style>\n<table border=\"1\" class=\"dataframe\">\n  <thead>\n    <tr style=\"text-align: right;\">\n      <th></th>\n      <th>year</th>\n      <th>avg_critic_score</th>\n    </tr>\n  </thead>\n  <tbody>\n    <tr>\n      <th>0</th>\n      <td>1990</td>\n      <td>9.80</td>\n    </tr>\n    <tr>\n      <th>1</th>\n      <td>1992</td>\n      <td>9.67</td>\n    </tr>\n    <tr>\n      <th>2</th>\n      <td>1998</td>\n      <td>9.32</td>\n    </tr>\n    <tr>\n      <th>3</th>\n      <td>2020</td>\n      <td>9.20</td>\n    </tr>\n    <tr>\n      <th>4</th>\n      <td>1993</td>\n      <td>9.10</td>\n    </tr>\n    <tr>\n      <th>5</th>\n      <td>1995</td>\n      <td>9.07</td>\n    </tr>\n    <tr>\n      <th>6</th>\n      <td>2004</td>\n      <td>9.03</td>\n    </tr>\n    <tr>\n      <th>7</th>\n      <td>1982</td>\n      <td>9.00</td>\n    </tr>\n    <tr>\n      <th>8</th>\n      <td>2002</td>\n      <td>8.99</td>\n    </tr>\n    <tr>\n      <th>9</th>\n      <td>1999</td>\n      <td>8.93</td>\n    </tr>\n  </tbody>\n</table>\n</div>"
     },
     "execution_count": 21,
     "metadata": {},
     "output_type": "execute_result"
    }
   ],
   "source": [
    "%%sql\n",
    "\n",
    "-- Select release year and average critic score for each year, rounded and aliased\n",
    "-- Join the game_sales and reviews tables\n",
    "-- Group by release year\n",
    "-- Order the data from highest to lowest avg_critic_score and limit to 10 results\n",
    "SELECT \n",
    "    year,\n",
    "    ROUND(AVG(critic_score), 2) AS avg_critic_score\n",
    "FROM \n",
    "    game_sales gs\n",
    "JOIN \n",
    "    reviews r ON gs.game = r.game\n",
    "GROUP BY \n",
    "    year\n",
    "ORDER BY \n",
    "    avg_critic_score DESC\n",
    "LIMIT 10;"
   ],
   "metadata": {
    "collapsed": false,
    "SqlCellData": {
     "data_source_name": "postgres@localhost",
     "variableName$1": "df_sql10"
    },
    "ExecuteTime": {
     "end_time": "2024-03-01T02:18:55.078737Z",
     "start_time": "2024-03-01T02:18:54.973000400Z"
    }
   },
   "id": "77d6615797ca2e55",
   "execution_count": 21
  },
  {
   "cell_type": "markdown",
   "source": [
    "## 4. Was 1982 really that great?\n",
    "<p>The range of great years according to critic reviews goes from 1982 until 2020: we are no closer to finding the golden age of video games! </p>\n",
    "<p>Hang on, though. Some of those <code>avg_critic_score</code> values look like suspiciously round numbers for averages. The value for 1982 looks especially fishy. Maybe there weren't a lot of video games in our dataset that were released in certain years. </p>\n",
    "<p>Let's update our query and find out whether 1982 really was such a great year for video games.</p>"
   ],
   "metadata": {
    "collapsed": false
   },
   "id": "ac3aeca33e21c701"
  },
  {
   "cell_type": "code",
   "outputs": [
    {
     "data": {
      "text/plain": "   year  avg_critic_score  num_games\n0  1998              9.32         10\n1  2004              9.03         11\n2  2002              8.99          9\n3  1999              8.93         11\n4  2001              8.82         13\n5  2011              8.76         26\n6  2016              8.67         13\n7  2013              8.66         18\n8  2008              8.63         20\n9  2017              8.62         13",
      "text/html": "<div>\n<style scoped>\n    .dataframe tbody tr th:only-of-type {\n        vertical-align: middle;\n    }\n\n    .dataframe tbody tr th {\n        vertical-align: top;\n    }\n\n    .dataframe thead th {\n        text-align: right;\n    }\n</style>\n<table border=\"1\" class=\"dataframe\">\n  <thead>\n    <tr style=\"text-align: right;\">\n      <th></th>\n      <th>year</th>\n      <th>avg_critic_score</th>\n      <th>num_games</th>\n    </tr>\n  </thead>\n  <tbody>\n    <tr>\n      <th>0</th>\n      <td>1998</td>\n      <td>9.32</td>\n      <td>10</td>\n    </tr>\n    <tr>\n      <th>1</th>\n      <td>2004</td>\n      <td>9.03</td>\n      <td>11</td>\n    </tr>\n    <tr>\n      <th>2</th>\n      <td>2002</td>\n      <td>8.99</td>\n      <td>9</td>\n    </tr>\n    <tr>\n      <th>3</th>\n      <td>1999</td>\n      <td>8.93</td>\n      <td>11</td>\n    </tr>\n    <tr>\n      <th>4</th>\n      <td>2001</td>\n      <td>8.82</td>\n      <td>13</td>\n    </tr>\n    <tr>\n      <th>5</th>\n      <td>2011</td>\n      <td>8.76</td>\n      <td>26</td>\n    </tr>\n    <tr>\n      <th>6</th>\n      <td>2016</td>\n      <td>8.67</td>\n      <td>13</td>\n    </tr>\n    <tr>\n      <th>7</th>\n      <td>2013</td>\n      <td>8.66</td>\n      <td>18</td>\n    </tr>\n    <tr>\n      <th>8</th>\n      <td>2008</td>\n      <td>8.63</td>\n      <td>20</td>\n    </tr>\n    <tr>\n      <th>9</th>\n      <td>2017</td>\n      <td>8.62</td>\n      <td>13</td>\n    </tr>\n  </tbody>\n</table>\n</div>"
     },
     "execution_count": 22,
     "metadata": {},
     "output_type": "execute_result"
    }
   ],
   "source": [
    "%%sql\n",
    "\n",
    "-- Paste your query from the previous task; update it to add a count of games released in each year called num_games\n",
    "-- Update the query so that it only returns years that have more than four reviewed games\n",
    "SELECT \n",
    "    year,\n",
    "    ROUND(AVG(critic_score), 2) AS avg_critic_score,\n",
    "    COUNT(*) AS num_games\n",
    "FROM \n",
    "    game_sales gs\n",
    "JOIN \n",
    "    reviews r ON gs.game = r.game\n",
    "GROUP BY \n",
    "    year\n",
    "HAVING \n",
    "    COUNT(*) > 4\n",
    "ORDER BY \n",
    "    avg_critic_score DESC\n",
    "LIMIT 10;"
   ],
   "metadata": {
    "collapsed": false,
    "SqlCellData": {
     "data_source_name": "postgres@localhost",
     "variableName$1": "df_sql11"
    },
    "ExecuteTime": {
     "end_time": "2024-03-01T02:19:20.345244Z",
     "start_time": "2024-03-01T02:19:20.212693500Z"
    }
   },
   "id": "b88d0e2cbe8016fd",
   "execution_count": 22
  },
  {
   "cell_type": "markdown",
   "source": [
    "## 5. Years that dropped off the critics' favorites list\n",
    "<p>That looks better! The <code>num_games</code> column convinces us that our new list of the critics' top games reflects years that had quite a few well-reviewed games rather than just one or two hits. But which years dropped off the list due to having four or fewer reviewed games? Let's identify them so that someday we can track down more game reviews for those years and determine whether they might rightfully be considered as excellent years for video game releases!</p>\n",
    "<p>It's time to brush off your set theory skills. To get started, we've created tables with the results of our previous two queries:</p>\n",
    "<h3 id=\"top_critic_years\"><code>top_critic_years</code></h3>\n",
    "<table>\n",
    "<thead>\n",
    "<tr>\n",
    "<th style=\"text-align:left;\">column</th>\n",
    "<th>type</th>\n",
    "<th>meaning</th>\n",
    "</tr>\n",
    "</thead>\n",
    "<tbody>\n",
    "<tr>\n",
    "<td style=\"text-align:left;\"><code>year</code></td>\n",
    "<td>int</td>\n",
    "<td>Year of video game release</td>\n",
    "</tr>\n",
    "<tr>\n",
    "<td style=\"text-align:left;\"><code>avg_critic_score</code></td>\n",
    "<td>float</td>\n",
    "<td>Average of all critic scores for games released in that year</td>\n",
    "</tr>\n",
    "</tbody>\n",
    "</table>\n",
    "<h3 id=\"top_critic_years_more_than_four_games\"><code>top_critic_years_more_than_four_games</code></h3>\n",
    "<table>\n",
    "<thead>\n",
    "<tr>\n",
    "<th style=\"text-align:left;\">column</th>\n",
    "<th>type</th>\n",
    "<th>meaning</th>\n",
    "</tr>\n",
    "</thead>\n",
    "<tbody>\n",
    "<tr>\n",
    "<td style=\"text-align:left;\"><code>year</code></td>\n",
    "<td>int</td>\n",
    "<td>Year of video game release</td>\n",
    "</tr>\n",
    "<tr>\n",
    "<td style=\"text-align:left;\"><code>num_games</code></td>\n",
    "<td>int</td>\n",
    "<td>Count of the number of video games released in that year</td>\n",
    "</tr>\n",
    "<tr>\n",
    "<td style=\"text-align:left;\"><code>avg_critic_score</code></td>\n",
    "<td>float</td>\n",
    "<td>Average of all critic scores for games released in that year</td>\n",
    "</tr>\n",
    "</tbody>\n",
    "</table>"
   ],
   "metadata": {
    "collapsed": false
   },
   "id": "71c7ffb1be443e8a"
  },
  {
   "cell_type": "code",
   "outputs": [
    {
     "data": {
      "text/plain": "   year  avg_critic_score\n0  1990              9.80\n1  1992              9.67\n2  2020              9.20\n3  1993              9.10\n4  1995              9.07\n5  1982              9.00",
      "text/html": "<div>\n<style scoped>\n    .dataframe tbody tr th:only-of-type {\n        vertical-align: middle;\n    }\n\n    .dataframe tbody tr th {\n        vertical-align: top;\n    }\n\n    .dataframe thead th {\n        text-align: right;\n    }\n</style>\n<table border=\"1\" class=\"dataframe\">\n  <thead>\n    <tr style=\"text-align: right;\">\n      <th></th>\n      <th>year</th>\n      <th>avg_critic_score</th>\n    </tr>\n  </thead>\n  <tbody>\n    <tr>\n      <th>0</th>\n      <td>1990</td>\n      <td>9.80</td>\n    </tr>\n    <tr>\n      <th>1</th>\n      <td>1992</td>\n      <td>9.67</td>\n    </tr>\n    <tr>\n      <th>2</th>\n      <td>2020</td>\n      <td>9.20</td>\n    </tr>\n    <tr>\n      <th>3</th>\n      <td>1993</td>\n      <td>9.10</td>\n    </tr>\n    <tr>\n      <th>4</th>\n      <td>1995</td>\n      <td>9.07</td>\n    </tr>\n    <tr>\n      <th>5</th>\n      <td>1982</td>\n      <td>9.00</td>\n    </tr>\n  </tbody>\n</table>\n</div>"
     },
     "execution_count": 23,
     "metadata": {},
     "output_type": "execute_result"
    }
   ],
   "source": [
    "%%sql\n",
    "\n",
    "-- Select the year and avg_critic_score for those years that dropped off the list of critic favorites \n",
    "-- Order the results from highest to lowest avg_critic_score\n",
    "SELECT year, avg_critic_score\n",
    "FROM top_critic_years\n",
    "EXCEPT\n",
    "SELECT year, avg_critic_score\n",
    "FROM top_critic_years_more_than_four_games\n",
    "ORDER BY avg_critic_score DESC;"
   ],
   "metadata": {
    "collapsed": false,
    "SqlCellData": {
     "data_source_name": "postgres@localhost",
     "variableName$1": "df_sql12"
    },
    "ExecuteTime": {
     "end_time": "2024-03-01T02:19:37.529892Z",
     "start_time": "2024-03-01T02:19:37.438329Z"
    }
   },
   "id": "8624ee1ec1a4adad",
   "execution_count": 23
  },
  {
   "cell_type": "markdown",
   "source": [
    "## 6. Years video game players loved\n",
    "<p>Based on our work in the task above, it looks like the early 1990s might merit consideration as the golden age of video games based on <code>critic_score</code> alone, but we'd need to gather more games and reviews data to do further analysis. </p>\n",
    "<p>Let's move on to looking at the opinions of another important group of people: players! To begin, let's create a query very similar to the one we used in Task Four, except this one will look at <code>user_score</code> averages by year rather than <code>critic_score</code> averages.</p>"
   ],
   "metadata": {
    "collapsed": false
   },
   "id": "a2589f7fff22c551"
  },
  {
   "cell_type": "code",
   "outputs": [
    {
     "data": {
      "text/plain": "   year  avg_user_score  num_games\n0  1997            9.50          8\n1  1998            9.40         10\n2  2010            9.24         23\n3  2009            9.18         20\n4  2008            9.03         20\n5  1996            9.00          5\n6  2005            8.95         13\n7  2006            8.95         16\n8  2000            8.80          8\n9  2002            8.80          9",
      "text/html": "<div>\n<style scoped>\n    .dataframe tbody tr th:only-of-type {\n        vertical-align: middle;\n    }\n\n    .dataframe tbody tr th {\n        vertical-align: top;\n    }\n\n    .dataframe thead th {\n        text-align: right;\n    }\n</style>\n<table border=\"1\" class=\"dataframe\">\n  <thead>\n    <tr style=\"text-align: right;\">\n      <th></th>\n      <th>year</th>\n      <th>avg_user_score</th>\n      <th>num_games</th>\n    </tr>\n  </thead>\n  <tbody>\n    <tr>\n      <th>0</th>\n      <td>1997</td>\n      <td>9.50</td>\n      <td>8</td>\n    </tr>\n    <tr>\n      <th>1</th>\n      <td>1998</td>\n      <td>9.40</td>\n      <td>10</td>\n    </tr>\n    <tr>\n      <th>2</th>\n      <td>2010</td>\n      <td>9.24</td>\n      <td>23</td>\n    </tr>\n    <tr>\n      <th>3</th>\n      <td>2009</td>\n      <td>9.18</td>\n      <td>20</td>\n    </tr>\n    <tr>\n      <th>4</th>\n      <td>2008</td>\n      <td>9.03</td>\n      <td>20</td>\n    </tr>\n    <tr>\n      <th>5</th>\n      <td>1996</td>\n      <td>9.00</td>\n      <td>5</td>\n    </tr>\n    <tr>\n      <th>6</th>\n      <td>2005</td>\n      <td>8.95</td>\n      <td>13</td>\n    </tr>\n    <tr>\n      <th>7</th>\n      <td>2006</td>\n      <td>8.95</td>\n      <td>16</td>\n    </tr>\n    <tr>\n      <th>8</th>\n      <td>2000</td>\n      <td>8.80</td>\n      <td>8</td>\n    </tr>\n    <tr>\n      <th>9</th>\n      <td>2002</td>\n      <td>8.80</td>\n      <td>9</td>\n    </tr>\n  </tbody>\n</table>\n</div>"
     },
     "execution_count": 24,
     "metadata": {},
     "output_type": "execute_result"
    }
   ],
   "source": [
    "%%sql\n",
    "\n",
    "-- Select year, an average of user_score, and a count of games released in a given year, aliased and rounded\n",
    "-- Include only years with more than four reviewed games; group data by year\n",
    "-- Order data by avg_user_score, and limit to ten results\n",
    "SELECT \n",
    "    year,\n",
    "    ROUND(AVG(user_score), 2) AS avg_user_score,\n",
    "    COUNT(*) AS num_games\n",
    "FROM \n",
    "    game_sales gs\n",
    "JOIN \n",
    "    reviews r ON gs.game = r.game\n",
    "GROUP BY \n",
    "    year\n",
    "HAVING \n",
    "    COUNT(*) > 4\n",
    "ORDER BY \n",
    "    avg_user_score DESC\n",
    "LIMIT 10;"
   ],
   "metadata": {
    "collapsed": false,
    "SqlCellData": {
     "data_source_name": "postgres@localhost",
     "variableName$1": "df_sql13"
    },
    "ExecuteTime": {
     "end_time": "2024-03-01T02:20:00.168886Z",
     "start_time": "2024-03-01T02:20:00.070369900Z"
    }
   },
   "id": "c464f7d0693096bb",
   "execution_count": 24
  },
  {
   "cell_type": "markdown",
   "source": [
    "## 7. Years that both players and critics loved\n",
    "<p>Alright, we've got a list of the top ten years according to both critic reviews and user reviews. Are there any years that showed up on both tables? If so, those years would certainly be excellent ones!</p>\n",
    "<p>Recall that we have access to the <code>top_critic_years_more_than_four_games</code> table, which stores the results of our top critic years query from Task 4:</p>\n",
    "<h3 id=\"top_critic_years_more_than_four_games\"><code>top_critic_years_more_than_four_games</code></h3>\n",
    "<table>\n",
    "<thead>\n",
    "<tr>\n",
    "<th style=\"text-align:left;\">column</th>\n",
    "<th>type</th>\n",
    "<th>meaning</th>\n",
    "</tr>\n",
    "</thead>\n",
    "<tbody>\n",
    "<tr>\n",
    "<td style=\"text-align:left;\"><code>year</code></td>\n",
    "<td>int</td>\n",
    "<td>Year of video game release</td>\n",
    "</tr>\n",
    "<tr>\n",
    "<td style=\"text-align:left;\"><code>num_games</code></td>\n",
    "<td>int</td>\n",
    "<td>Count of the number of video games released in that year</td>\n",
    "</tr>\n",
    "<tr>\n",
    "<td style=\"text-align:left;\"><code>avg_critic_score</code></td>\n",
    "<td>float</td>\n",
    "<td>Average of all critic scores for games released in that year</td>\n",
    "</tr>\n",
    "</tbody>\n",
    "</table>\n",
    "<p>We've also saved the results of our top user years query from the previous task into a table:</p>\n",
    "<h3 id=\"top_user_years_more_than_four_games\"><code>top_user_years_more_than_four_games</code></h3>\n",
    "<table>\n",
    "<thead>\n",
    "<tr>\n",
    "<th style=\"text-align:left;\">column</th>\n",
    "<th>type</th>\n",
    "<th>meaning</th>\n",
    "</tr>\n",
    "</thead>\n",
    "<tbody>\n",
    "<tr>\n",
    "<td style=\"text-align:left;\"><code>year</code></td>\n",
    "<td>int</td>\n",
    "<td>Year of video game release</td>\n",
    "</tr>\n",
    "<tr>\n",
    "<td style=\"text-align:left;\"><code>num_games</code></td>\n",
    "<td>int</td>\n",
    "<td>Count of the number of video games released in that year</td>\n",
    "</tr>\n",
    "<tr>\n",
    "<td style=\"text-align:left;\"><code>avg_user_score</code></td>\n",
    "<td>float</td>\n",
    "<td>Average of all user scores for games released in that year</td>\n",
    "</tr>\n",
    "</tbody>\n",
    "</table>"
   ],
   "metadata": {
    "collapsed": false
   },
   "id": "5faf9f5cc2463f6a"
  },
  {
   "cell_type": "code",
   "outputs": [
    {
     "data": {
      "text/plain": "   year\n0  1998\n1  2008\n2  2002",
      "text/html": "<div>\n<style scoped>\n    .dataframe tbody tr th:only-of-type {\n        vertical-align: middle;\n    }\n\n    .dataframe tbody tr th {\n        vertical-align: top;\n    }\n\n    .dataframe thead th {\n        text-align: right;\n    }\n</style>\n<table border=\"1\" class=\"dataframe\">\n  <thead>\n    <tr style=\"text-align: right;\">\n      <th></th>\n      <th>year</th>\n    </tr>\n  </thead>\n  <tbody>\n    <tr>\n      <th>0</th>\n      <td>1998</td>\n    </tr>\n    <tr>\n      <th>1</th>\n      <td>2008</td>\n    </tr>\n    <tr>\n      <th>2</th>\n      <td>2002</td>\n    </tr>\n  </tbody>\n</table>\n</div>"
     },
     "execution_count": 25,
     "metadata": {},
     "output_type": "execute_result"
    }
   ],
   "source": [
    "%%sql\n",
    "\n",
    "-- Select the year results that appear on both tables\n",
    "SELECT year\n",
    "FROM top_critic_years_more_than_four_games\n",
    "INTERSECT\n",
    "SELECT year\n",
    "FROM top_user_years_more_than_four_games;"
   ],
   "metadata": {
    "collapsed": false,
    "SqlCellData": {
     "data_source_name": "postgres@localhost",
     "variableName$1": "df_sql14"
    },
    "ExecuteTime": {
     "end_time": "2024-03-01T02:20:25.085598Z",
     "start_time": "2024-03-01T02:20:25.014326700Z"
    }
   },
   "id": "44e0694080e1b6d9",
   "execution_count": 25
  },
  {
   "cell_type": "markdown",
   "source": [
    "## 8. Sales in the best video game years\n",
    "<p>Looks like we've got three years that both users and critics agreed were in the top ten! There are many other ways of measuring what the best years for video games are, but let's stick with these years for now. We know that critics and players liked these years, but what about video game makers? Were sales good? Let's find out.</p>\n",
    "<p>This time, we haven't saved the results from the previous task in a table for you. Instead, we'll use the query from the previous task as a subquery in this one! This is a great skill to have, as we don't always have write permissions on the database we are querying.</p>"
   ],
   "metadata": {
    "collapsed": false
   },
   "id": "c273efadfb6a19d8"
  },
  {
   "cell_type": "code",
   "outputs": [
    {
     "data": {
      "text/plain": "   year  total_games_sold\n0  2008            175.07\n1  1998            101.52\n2  2002             58.67",
      "text/html": "<div>\n<style scoped>\n    .dataframe tbody tr th:only-of-type {\n        vertical-align: middle;\n    }\n\n    .dataframe tbody tr th {\n        vertical-align: top;\n    }\n\n    .dataframe thead th {\n        text-align: right;\n    }\n</style>\n<table border=\"1\" class=\"dataframe\">\n  <thead>\n    <tr style=\"text-align: right;\">\n      <th></th>\n      <th>year</th>\n      <th>total_games_sold</th>\n    </tr>\n  </thead>\n  <tbody>\n    <tr>\n      <th>0</th>\n      <td>2008</td>\n      <td>175.07</td>\n    </tr>\n    <tr>\n      <th>1</th>\n      <td>1998</td>\n      <td>101.52</td>\n    </tr>\n    <tr>\n      <th>2</th>\n      <td>2002</td>\n      <td>58.67</td>\n    </tr>\n  </tbody>\n</table>\n</div>"
     },
     "execution_count": 26,
     "metadata": {},
     "output_type": "execute_result"
    }
   ],
   "source": [
    "%%sql\n",
    "\n",
    "-- Select year and sum of games_sold, aliased as total_games_sold; order results by total_games_sold descending\n",
    "-- Filter game_sales based on whether each year is in the list returned in the previous task\n",
    "SELECT \n",
    "    gs.year,\n",
    "    SUM(gs.games_sold) AS total_games_sold\n",
    "FROM \n",
    "    game_sales gs\n",
    "WHERE \n",
    "    gs.year IN (\n",
    "        SELECT year\n",
    "        FROM top_critic_years_more_than_four_games\n",
    "        INTERSECT\n",
    "        SELECT year\n",
    "        FROM top_user_years_more_than_four_games\n",
    "    )\n",
    "GROUP BY \n",
    "    gs.year\n",
    "ORDER BY \n",
    "    total_games_sold DESC;"
   ],
   "metadata": {
    "collapsed": false,
    "SqlCellData": {
     "data_source_name": "postgres@localhost",
     "variableName$1": "df_sql15"
    },
    "ExecuteTime": {
     "end_time": "2024-03-01T02:20:51.047225Z",
     "start_time": "2024-03-01T02:20:50.960225600Z"
    }
   },
   "id": "96ba6a06336819b1",
   "execution_count": 26
  }
 ],
 "metadata": {
  "kernelspec": {
   "display_name": "Python 3",
   "language": "python",
   "name": "python3"
  },
  "language_info": {
   "codemirror_mode": {
    "name": "ipython",
    "version": 2
   },
   "file_extension": ".py",
   "mimetype": "text/x-python",
   "name": "python",
   "nbconvert_exporter": "python",
   "pygments_lexer": "ipython2",
   "version": "2.7.6"
  }
 },
 "nbformat": 4,
 "nbformat_minor": 5
}
